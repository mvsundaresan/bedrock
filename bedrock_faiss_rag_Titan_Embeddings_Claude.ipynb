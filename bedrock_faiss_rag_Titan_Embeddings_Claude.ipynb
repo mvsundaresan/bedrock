{
 "cells": [
  {
   "cell_type": "markdown",
   "metadata": {},
   "source": [
    "# FAISS RAG Q&A Pattern with Amazon Bedrock using LangChain\n",
    "\n",
    "### Challenges\n",
    "\n",
    "When trying to solve a Question Answering task over a larger document corpus with the help of LLMs we need to master the following challenges (amongst others):\n",
    "- How to manage large document(s) that exceed the token limit\n",
    "- How to find the document(s) relevant to the question being asked\n",
    "\n",
    "### Infusing knowledge into LLM-powered systems\n",
    "\n",
    "We have two primary: \n",
    "- **Parametric knowledge**: refers to everything the LLM learned during training and acts as a frozen snapshot of the world for the LLM. \n",
    "- **Source knowledge**: covers any information fed into the LLM via the input prompt. \n",
    "\n",
    "When trying to infuse knowledge into a generative AI - powered application we need to choose which of these types to target. Fine-tuning, explored in other workshops, deals with elevating the parametric knowledge through fine-tuning. Since fine-tuning is a resouce intensive operation, this option is well suited for infusing static domain-specific information like domain-specific langauage/writing styles (medical domain, science domain, ...) or optimizing performance towards a very specific task (classification, sentiment analysis, RLHF, instruction-finetuning, ...). \n",
    "\n",
    "In contrast to that, targeting the source knowledge for domain-specific performance uplift is very well suited for all kinds of dynamic information, from knowledge bases in structured and unstructured form up to integration of information from live systems. This Lab is about retrieval-augmented generation, a common design pattern for ingesting domain-specific information through the source knowledge. It is particularily well suited for ingestion of information in form of unstructured text with semi-frequent update cycles. \n",
    "\n",
    "In this notebook we explain how to utilize the RAG (retrieval-agumented generation) pattern originating from [this](https://arxiv.org/pdf/2005.11401.pdf) paper published by Lewis et al in 2021. It is particularily useful for Question Answering by finding and leveraging the most useful excerpts of documents out of a larger document corpus providing answers to the user questions.\n",
    "\n",
    "#### Prepare documents\n",
    "![Embeddings](./images/Embeddings_lang.png)\n",
    "\n",
    "Before being able to answer the questions, the documents must be processed and a stored in a document store index\n",
    "- Load the documents\n",
    "- Process and split them into smaller chunks\n",
    "- Create a numerical vector representation of each chunk using Amazon Bedrock Titan Embeddings model\n",
    "- Create an index using the chunks and the corresponding embeddings\n",
    "#### Ask question\n",
    "![Question](./images/Chatbot_lang.png)\n",
    "\n",
    "When the documents index is prepared, you are ready to ask the questions and relevant documents will be fetched based on the question being asked. Following steps will be executed.\n",
    "- Create an embedding of the input question\n",
    "- Compare the question embedding with the embeddings in the index\n",
    "- Fetch the (top N) relevant document chunks\n",
    "- Add those chunks as part of the context in the prompt\n",
    "- Send the prompt to the model under Amazon Bedrock\n",
    "- Get the contextual answer based on the documents retrieved"
   ]
  },
  {
   "cell_type": "markdown",
   "metadata": {},
   "source": [
    "## Usecase\n",
    "#### Dataset\n",
    "In this example, you will use Fannie Mae's selling guide as a text corpus to perform Q&A on."
   ]
  },
  {
   "cell_type": "markdown",
   "metadata": {},
   "source": [
    "## Implementation\n",
    "In order to follow the RAG approach this notebook is using the LangChain framework where it has integrations with different services and tools that allow efficient building of patterns such as RAG. We will be using the following tools:\n",
    "\n",
    "- **LLM (Large Language Model)**: Anthropic Claude available through Amazon Bedrock\n",
    "\n",
    "  This model will be used to understand the document chunks and provide an answer in human friendly manner.\n",
    "- **Embeddings Model**: Amazon Titan Embeddings available through Amazon Bedrock\n",
    "\n",
    "  This model will be used to generate a numerical representation of the textual documents\n",
    "\n",
    "- **Document Loader**: \n",
    "    - PDF Loader available through LangChain for PDFs\n",
    "\n",
    "  These are loaders that can load the documents from a source, for the sake of this notebook we are loading the sample files from a local path. This could easily be replaced with a loader to load documents from enterprise internal systems.\n",
    "\n",
    "- **Vector Store**: FAISS available through LangChain\n",
    "  In this notebook we are using this in-memory vector-store to store both the embeddings and the documents. In an enterprise context this could be replaced with a persistent store such as AWS OpenSearch, RDS Postgres with pgVector, ChromaDB, Pinecone or Weaviate.\n",
    "\n",
    "- **Index**: VectorIndex\n",
    "  The index helps to compare the input embedding and the document embeddings to find relevant document.\n",
    "\n",
    "- **Wrapper**: wraps index, vector store, embeddings model and the LLM to abstract away the logic from the user.\n",
    "\n",
    "### Python 3.10\n",
    "\n",
    "⚠️⚠️⚠️ For this lab we need to run the notebook based on a Python 3.10 runtime. ⚠️⚠️⚠️\n",
    "\n",
    "### Setup\n",
    "To run this notebook you would need to install 2 more dependencies, [PyPDF](https://pypi.org/project/pypdf/) and [FAISS vector store](https://github.com/facebookresearch/faiss).\n",
    "\n",
    "Then begin with instantiating the LLM and the Embeddings model. Here we are using Anthropic Claude to demonstrate the use case.\n",
    "\n",
    "Note: It is possible to choose other models available with Bedrock. You can replace the `model_id` as follows to change the model.\n",
    "\n",
    "`llm = Bedrock(model_id=\"...\")`"
   ]
  },
  {
   "cell_type": "markdown",
   "metadata": {},
   "source": [
    "### Install Libraries"
   ]
  },
  {
   "cell_type": "code",
   "execution_count": 2,
   "metadata": {
    "tags": []
   },
   "outputs": [
    {
     "name": "stdout",
     "output_type": "stream",
     "text": [
      "Requirement already satisfied: boto3 in /opt/conda/lib/python3.10/site-packages (1.34.62)\n",
      "Requirement already satisfied: botocore<1.35.0,>=1.34.62 in /opt/conda/lib/python3.10/site-packages (from boto3) (1.34.62)\n",
      "Requirement already satisfied: jmespath<2.0.0,>=0.7.1 in /opt/conda/lib/python3.10/site-packages (from boto3) (1.0.1)\n",
      "Requirement already satisfied: s3transfer<0.11.0,>=0.10.0 in /opt/conda/lib/python3.10/site-packages (from boto3) (0.10.0)\n",
      "Requirement already satisfied: python-dateutil<3.0.0,>=2.1 in /opt/conda/lib/python3.10/site-packages (from botocore<1.35.0,>=1.34.62->boto3) (2.9.0.post0)\n",
      "Requirement already satisfied: urllib3<2.1,>=1.25.4 in /opt/conda/lib/python3.10/site-packages (from botocore<1.35.0,>=1.34.62->boto3) (2.0.7)\n",
      "Requirement already satisfied: six>=1.5 in /opt/conda/lib/python3.10/site-packages (from python-dateutil<3.0.0,>=2.1->botocore<1.35.0,>=1.34.62->boto3) (1.16.0)\n",
      "\u001b[33mWARNING: Running pip as the 'root' user can result in broken permissions and conflicting behaviour with the system package manager. It is recommended to use a virtual environment instead: https://pip.pypa.io/warnings/venv\u001b[0m\u001b[33m\n",
      "\u001b[0mNote: you may need to restart the kernel to use updated packages.\n"
     ]
    }
   ],
   "source": [
    "%pip install boto3"
   ]
  },
  {
   "cell_type": "code",
   "execution_count": 3,
   "metadata": {
    "tags": []
   },
   "outputs": [
    {
     "name": "stdout",
     "output_type": "stream",
     "text": [
      "Requirement already satisfied: langchain in /opt/conda/lib/python3.10/site-packages (0.0.305)\n",
      "Requirement already satisfied: PyYAML>=5.3 in /opt/conda/lib/python3.10/site-packages (from langchain) (6.0.1)\n",
      "Requirement already satisfied: SQLAlchemy<3,>=1.4 in /opt/conda/lib/python3.10/site-packages (from langchain) (2.0.21)\n",
      "Requirement already satisfied: aiohttp<4.0.0,>=3.8.3 in /opt/conda/lib/python3.10/site-packages (from langchain) (3.9.3)\n",
      "Requirement already satisfied: anyio<4.0 in /opt/conda/lib/python3.10/site-packages (from langchain) (3.7.1)\n",
      "Requirement already satisfied: async-timeout<5.0.0,>=4.0.0 in /opt/conda/lib/python3.10/site-packages (from langchain) (4.0.3)\n",
      "Requirement already satisfied: dataclasses-json<0.7,>=0.5.7 in /opt/conda/lib/python3.10/site-packages (from langchain) (0.6.4)\n",
      "Requirement already satisfied: jsonpatch<2.0,>=1.33 in /opt/conda/lib/python3.10/site-packages (from langchain) (1.33)\n",
      "Requirement already satisfied: langsmith<0.1.0,>=0.0.38 in /opt/conda/lib/python3.10/site-packages (from langchain) (0.0.92)\n",
      "Requirement already satisfied: numexpr<3.0.0,>=2.8.4 in /opt/conda/lib/python3.10/site-packages (from langchain) (2.9.0)\n",
      "Requirement already satisfied: numpy<2,>=1 in /opt/conda/lib/python3.10/site-packages (from langchain) (1.26.4)\n",
      "Requirement already satisfied: pydantic<3,>=1 in /opt/conda/lib/python3.10/site-packages (from langchain) (2.6.4)\n",
      "Requirement already satisfied: requests<3,>=2 in /opt/conda/lib/python3.10/site-packages (from langchain) (2.31.0)\n",
      "Requirement already satisfied: tenacity<9.0.0,>=8.1.0 in /opt/conda/lib/python3.10/site-packages (from langchain) (8.2.3)\n",
      "Requirement already satisfied: aiosignal>=1.1.2 in /opt/conda/lib/python3.10/site-packages (from aiohttp<4.0.0,>=3.8.3->langchain) (1.3.1)\n",
      "Requirement already satisfied: attrs>=17.3.0 in /opt/conda/lib/python3.10/site-packages (from aiohttp<4.0.0,>=3.8.3->langchain) (23.2.0)\n",
      "Requirement already satisfied: frozenlist>=1.1.1 in /opt/conda/lib/python3.10/site-packages (from aiohttp<4.0.0,>=3.8.3->langchain) (1.4.1)\n",
      "Requirement already satisfied: multidict<7.0,>=4.5 in /opt/conda/lib/python3.10/site-packages (from aiohttp<4.0.0,>=3.8.3->langchain) (6.0.5)\n",
      "Requirement already satisfied: yarl<2.0,>=1.0 in /opt/conda/lib/python3.10/site-packages (from aiohttp<4.0.0,>=3.8.3->langchain) (1.9.4)\n",
      "Requirement already satisfied: idna>=2.8 in /opt/conda/lib/python3.10/site-packages (from anyio<4.0->langchain) (3.6)\n",
      "Requirement already satisfied: sniffio>=1.1 in /opt/conda/lib/python3.10/site-packages (from anyio<4.0->langchain) (1.3.1)\n",
      "Requirement already satisfied: exceptiongroup in /opt/conda/lib/python3.10/site-packages (from anyio<4.0->langchain) (1.2.0)\n",
      "Requirement already satisfied: marshmallow<4.0.0,>=3.18.0 in /opt/conda/lib/python3.10/site-packages (from dataclasses-json<0.7,>=0.5.7->langchain) (3.21.1)\n",
      "Requirement already satisfied: typing-inspect<1,>=0.4.0 in /opt/conda/lib/python3.10/site-packages (from dataclasses-json<0.7,>=0.5.7->langchain) (0.9.0)\n",
      "Requirement already satisfied: jsonpointer>=1.9 in /opt/conda/lib/python3.10/site-packages (from jsonpatch<2.0,>=1.33->langchain) (2.4)\n",
      "Requirement already satisfied: annotated-types>=0.4.0 in /opt/conda/lib/python3.10/site-packages (from pydantic<3,>=1->langchain) (0.6.0)\n",
      "Requirement already satisfied: pydantic-core==2.16.3 in /opt/conda/lib/python3.10/site-packages (from pydantic<3,>=1->langchain) (2.16.3)\n",
      "Requirement already satisfied: typing-extensions>=4.6.1 in /opt/conda/lib/python3.10/site-packages (from pydantic<3,>=1->langchain) (4.10.0)\n",
      "Requirement already satisfied: charset-normalizer<4,>=2 in /opt/conda/lib/python3.10/site-packages (from requests<3,>=2->langchain) (3.3.2)\n",
      "Requirement already satisfied: urllib3<3,>=1.21.1 in /opt/conda/lib/python3.10/site-packages (from requests<3,>=2->langchain) (2.0.7)\n",
      "Requirement already satisfied: certifi>=2017.4.17 in /opt/conda/lib/python3.10/site-packages (from requests<3,>=2->langchain) (2024.2.2)\n",
      "Requirement already satisfied: greenlet!=0.4.17 in /opt/conda/lib/python3.10/site-packages (from SQLAlchemy<3,>=1.4->langchain) (3.0.3)\n",
      "Requirement already satisfied: packaging>=17.0 in /opt/conda/lib/python3.10/site-packages (from marshmallow<4.0.0,>=3.18.0->dataclasses-json<0.7,>=0.5.7->langchain) (24.0)\n",
      "Requirement already satisfied: mypy-extensions>=0.3.0 in /opt/conda/lib/python3.10/site-packages (from typing-inspect<1,>=0.4.0->dataclasses-json<0.7,>=0.5.7->langchain) (1.0.0)\n",
      "\u001b[33mWARNING: Running pip as the 'root' user can result in broken permissions and conflicting behaviour with the system package manager. It is recommended to use a virtual environment instead: https://pip.pypa.io/warnings/venv\u001b[0m\u001b[33m\n",
      "\u001b[0mNote: you may need to restart the kernel to use updated packages.\n",
      "Requirement already satisfied: pypdf in /opt/conda/lib/python3.10/site-packages (3.8.1)\n",
      "Requirement already satisfied: faiss-cpu in /opt/conda/lib/python3.10/site-packages (1.7.4)\n",
      "\u001b[33mWARNING: Running pip as the 'root' user can result in broken permissions and conflicting behaviour with the system package manager. It is recommended to use a virtual environment instead: https://pip.pypa.io/warnings/venv\u001b[0m\u001b[33m\n",
      "\u001b[0mNote: you may need to restart the kernel to use updated packages.\n"
     ]
    }
   ],
   "source": [
    "%pip install langchain\n",
    "%pip install pypdf faiss-cpu"
   ]
  },
  {
   "cell_type": "code",
   "execution_count": 4,
   "metadata": {
    "tags": []
   },
   "outputs": [
    {
     "name": "stdout",
     "output_type": "stream",
     "text": [
      "Requirement already satisfied: tiktoken in /opt/conda/lib/python3.10/site-packages (0.4.0)\n",
      "Requirement already satisfied: regex>=2022.1.18 in /opt/conda/lib/python3.10/site-packages (from tiktoken) (2023.12.25)\n",
      "Requirement already satisfied: requests>=2.26.0 in /opt/conda/lib/python3.10/site-packages (from tiktoken) (2.31.0)\n",
      "Requirement already satisfied: charset-normalizer<4,>=2 in /opt/conda/lib/python3.10/site-packages (from requests>=2.26.0->tiktoken) (3.3.2)\n",
      "Requirement already satisfied: idna<4,>=2.5 in /opt/conda/lib/python3.10/site-packages (from requests>=2.26.0->tiktoken) (3.6)\n",
      "Requirement already satisfied: urllib3<3,>=1.21.1 in /opt/conda/lib/python3.10/site-packages (from requests>=2.26.0->tiktoken) (2.0.7)\n",
      "Requirement already satisfied: certifi>=2017.4.17 in /opt/conda/lib/python3.10/site-packages (from requests>=2.26.0->tiktoken) (2024.2.2)\n",
      "\u001b[33mWARNING: Running pip as the 'root' user can result in broken permissions and conflicting behaviour with the system package manager. It is recommended to use a virtual environment instead: https://pip.pypa.io/warnings/venv\u001b[0m\u001b[33m\n",
      "\u001b[0mNote: you may need to restart the kernel to use updated packages.\n"
     ]
    }
   ],
   "source": [
    "%pip install tiktoken"
   ]
  },
  {
   "cell_type": "code",
   "execution_count": 5,
   "metadata": {
    "tags": []
   },
   "outputs": [
    {
     "name": "stdout",
     "output_type": "stream",
     "text": [
      "Requirement already satisfied: sqlalchemy in /opt/conda/lib/python3.10/site-packages (2.0.21)\n",
      "Requirement already satisfied: typing-extensions>=4.2.0 in /opt/conda/lib/python3.10/site-packages (from sqlalchemy) (4.10.0)\n",
      "Requirement already satisfied: greenlet!=0.4.17 in /opt/conda/lib/python3.10/site-packages (from sqlalchemy) (3.0.3)\n",
      "\u001b[33mWARNING: Running pip as the 'root' user can result in broken permissions and conflicting behaviour with the system package manager. It is recommended to use a virtual environment instead: https://pip.pypa.io/warnings/venv\u001b[0m\u001b[33m\n",
      "\u001b[0mNote: you may need to restart the kernel to use updated packages.\n"
     ]
    }
   ],
   "source": [
    "%pip install sqlalchemy"
   ]
  },
  {
   "cell_type": "markdown",
   "metadata": {},
   "source": [
    "### Import Libraries"
   ]
  },
  {
   "cell_type": "code",
   "execution_count": 9,
   "metadata": {
    "tags": []
   },
   "outputs": [],
   "source": [
    "import json\n",
    "import os\n",
    "import sys\n",
    "import re\n",
    "import pandas as pd\n",
    "\n",
    "import boto3\n",
    "import botocore"
   ]
  },
  {
   "cell_type": "markdown",
   "metadata": {},
   "source": [
    "### Initialize Boto session"
   ]
  },
  {
   "cell_type": "code",
   "execution_count": 8,
   "metadata": {
    "tags": []
   },
   "outputs": [
    {
     "name": "stdout",
     "output_type": "stream",
     "text": [
      "us-east-1\n"
     ]
    }
   ],
   "source": [
    "# module_path = \"..\"\n",
    "# sys.path.append(os.path.abspath(module_path))\n",
    "\n",
    "boto_session = boto3.Session()\n",
    "aws_region = boto_session.region_name\n",
    "print(aws_region)\n",
    "br_client = boto_session.client(\"bedrock\", region_name=aws_region)\n",
    "br_runtime = boto_session.client(\"bedrock-runtime\", region_name=aws_region)\n"
   ]
  },
  {
   "cell_type": "markdown",
   "metadata": {},
   "source": [
    "### Data Preparation\n",
    "Let's first download the Fannie Mae selling guide (large PDF document) to build our document store.\n",
    "\n",
    "In this example, you will use Fannie Mae's selling guide as a text corpus to perform Q&A on."
   ]
  },
  {
   "cell_type": "code",
   "execution_count": 14,
   "metadata": {
    "tags": []
   },
   "outputs": [
    {
     "name": "stderr",
     "output_type": "stream",
     "text": [
      "--2024-03-14 12:16:20--  https://www.fanniemae.com/media/49331/display\n",
      "Resolving www.fanniemae.com (www.fanniemae.com)... 104.18.27.25, 104.18.26.25, 2606:4700::6812:1b19, ...\n",
      "Connecting to www.fanniemae.com (www.fanniemae.com)|104.18.27.25|:443... connected.\n",
      "HTTP request sent, awaiting response... 200 OK\n",
      "Length: 249442 (244K) [application/pdf]\n",
      "Saving to: ‘fannie-mf-commentary-oct-2023.pdf’\n",
      "\n",
      "     0K .......... .......... .......... .......... .......... 20% 23.1M 0s\n",
      "    50K .......... .......... .......... .......... .......... 41%  153M 0s\n",
      "   100K .......... .......... .......... .......... .......... 61% 45.8M 0s\n",
      "   150K .......... .......... .......... .......... .......... 82% 69.3M 0s\n",
      "   200K .......... .......... .......... .......... ...       100% 35.1M=0.005s\n",
      "\n",
      "2024-03-14 12:16:20 (43.9 MB/s) - ‘fannie-mf-commentary-oct-2023.pdf’ saved [249442/249442]\n",
      "\n"
     ]
    }
   ],
   "source": [
    "%%sh\n",
    "\n",
    "wget -O fannie-mf-commentary-oct-2023.pdf https://www.fanniemae.com/media/49331/display\n",
    "# https://singlefamily.fanniemae.com/media/38401/display"
   ]
  },
  {
   "cell_type": "markdown",
   "metadata": {},
   "source": [
    "After downloading we can load the documents with the help of [DirectoryLoader from PyPDF available under LangChain](https://python.langchain.com/en/latest/reference/modules/document_loaders.html) and splitting them into smaller chunks.\n",
    "\n",
    "Note: The retrieved document/text should be large enough to contain enough information to answer a question; but small enough to fit into the LLM prompt. Also the embeddings model has a limit of the length of input tokens limited to 4000 tokens, which roughly translates to ~16000 characters. For the sake of this use-case we are creating chunks of roughly 5000 characters with an overlap of 200 characters using [RecursiveCharacterTextSplitter](https://python.langchain.com/en/latest/modules/indexes/text_splitters/examples/recursive_text_splitter.html)."
   ]
  },
  {
   "cell_type": "code",
   "execution_count": 21,
   "metadata": {
    "tags": []
   },
   "outputs": [
    {
     "name": "stdout",
     "output_type": "stream",
     "text": [
      "[{'name': 'FNMA Selling Guide 2024', 'source': 'https://singlefamily.fanniemae.com/media/38401/display'}]\n"
     ]
    }
   ],
   "source": [
    "filenames = ['fannie-mf-commentary-oct-2023.pdf']\n",
    "metadata = [dict(name='FNMA Selling Guide 2024', source='https://singlefamily.fanniemae.com/media/38401/display')]\n",
    "\n",
    "print(metadata)"
   ]
  },
  {
   "cell_type": "code",
   "execution_count": 25,
   "metadata": {
    "tags": []
   },
   "outputs": [
    {
     "name": "stdout",
     "output_type": "stream",
     "text": [
      "Total Page: 5 \n",
      "\n",
      "First Page:\n",
      "\n",
      " page_content='1Multifamily Economic and Market Commentary\\nOCTOBER 2023\\nRising Number of Multifamily Properties Offering Concessions\\nMultifamily market fundamentals have softened in 2023 compared to the prior year, the result of mixed economic \\ntrends including slowing -but-still -positive job growth, elevated single -family housing prices keeping many renters in \\nplace, and continued favorable demographics. Rent growth was exceptional over the past two years, and, of course, \\nunsustainable, thus 2023 has seen a substantial slowing of rent growth rates. There remains a robust pipeline of new \\napartment rental projects that are underway in the nation’s largest metros, and with recessionary concerns there has \\nbeen a rise in the number of properties across the country offering concessions.\\nIn the multifamily apartment rental market, concessions are incentives with an economic value for renters, such as \\nperiods of free rent, free utilities, or other amenities. And in a competitive market when property owners need to fill \\nvacant units, concessions are one of the ways they attract tenants. As seen in the charts below, recent concessions data \\nfrom RealPage show that the multifamily market has seen softening trends over the past year: There is a notably higher \\npercentage of units offering concessions than a year ago –  up from 5.2% of all units in August 2022 to 9.0% of all units \\nin August 2023. However, the value of the concession being offered has slightly declined, from 7.7% of asking rent in \\nAugust 2022 to 7.2% in August 2023, which is slightly less than one month’s free rent. It’s important to note that the \\noverall level of concessions continues to be well above the low levels observed just before the pandemic. \\nSource: RealPage\\nSupply of New Units Remains High\\nAccording to the Dodge Data & Analytics Supply Track construction pipeline data, the number of apartment units \\ncompleted across the country may reach a record in 2023. According to Dodge, as of the middle of 2023, nearly 730,000 \\nunits were underway with completion dates expected in 2023, though only 164,000 were completed year to date through \\nApril. That’s compared to full -year totals of 479,000 units in 2022 and 395,000 units in 2021. The overall pipeline \\nunderway is slightly lower than it was in the prior year: As of July 2023, 1,116,000 units were underway, compared to \\n1,141,000 in July 2022. With supply chains operating more efficiently in 2023 than in 2022, substantially more units may \\nbe completed this year than last, which we believe might lead to about 500,000 units delivering this year. Multifamily concession rate National % of multifamily units offering concessions\\n3%5%7%9%11%13%15%17%\\n5.5%6.0%6.5%7.0%7.5%8.0%8.5%9.0%' metadata={'name': 'FNMA Selling Guide 2024', 'source': 'https://singlefamily.fanniemae.com/media/38401/display'}\n",
      "\n"
     ]
    }
   ],
   "source": [
    "import numpy as np\n",
    "from langchain.text_splitter import RecursiveCharacterTextSplitter\n",
    "from langchain.document_loaders import PyPDFLoader\n",
    "\n",
    "documents = []\n",
    "\n",
    "for idx, file in enumerate(filenames):\n",
    "    loader = PyPDFLoader('./' + file)\n",
    "    document = loader.load()\n",
    "    for document_fragment in document:\n",
    "        document_fragment.metadata = metadata[idx]\n",
    "        \n",
    "    print(f'Total Page: {len(document)} \\n\\nFirst Page:\\n\\n {document[0]}\\n')\n",
    "    documents += document\n",
    "\n",
    "# - in our testing Character split works better with this PDF data set\n",
    "text_splitter = RecursiveCharacterTextSplitter(\n",
    "    # Set a really small chunk size, just to show.\n",
    "    chunk_size = 5000,\n",
    "    chunk_overlap  = 200,\n",
    ")\n",
    "\n",
    "docs = text_splitter.split_documents(documents)"
   ]
  },
  {
   "cell_type": "markdown",
   "metadata": {},
   "source": [
    "Before we are proceeding we are looking into some interesting statistics regarding the document preprocessing we just performed:"
   ]
  },
  {
   "cell_type": "code",
   "execution_count": 26,
   "metadata": {
    "tags": []
   },
   "outputs": [
    {
     "name": "stdout",
     "output_type": "stream",
     "text": [
      "Average length among 5 documents loaded is 2007 characters.\n",
      "After the split we have 5 documents as opposed to the original 5.\n",
      "Average length among 5 documents (after split) is 2007 characters.\n"
     ]
    }
   ],
   "source": [
    "avg_doc_length = lambda documents: sum([len(doc.page_content) for doc in documents])//len(documents)\n",
    "print(f'Average length among {len(documents)} documents loaded is {avg_doc_length(documents)} characters.')\n",
    "print(f'After the split we have {len(docs)} documents as opposed to the original {len(documents)}.')\n",
    "print(f'Average length among {len(docs)} documents (after split) is {avg_doc_length(docs)} characters.')"
   ]
  },
  {
   "cell_type": "markdown",
   "metadata": {},
   "source": [
    "### Setup langchain\n",
    "\n",
    "We create an instance of the Bedrock classes for the LLM and the embedding models. At the time of writing, Bedrock supports one embedding model and therefore we do not need to specify any model id. To be able to compare token consumption across the different RAG-approaches shown in the workshop labs we use langchain callbacks to count token consumption."
   ]
  },
  {
   "cell_type": "code",
   "execution_count": 28,
   "metadata": {
    "tags": []
   },
   "outputs": [],
   "source": [
    "# We will be using the Titan Embeddings Model to generate our Embeddings.\n",
    "from langchain.embeddings import BedrockEmbeddings\n",
    "from langchain.llms.bedrock import Bedrock\n",
    "\n",
    "# - create the Anthropic Model\n",
    "llm = Bedrock(model_id=\"anthropic.claude-v2\", \n",
    "              client=br_runtime, \n",
    "              model_kwargs={\n",
    "                  'max_tokens_to_sample': 200\n",
    "              })\n",
    "\n",
    "# - create the Titan Embeddings Model\n",
    "bedrock_embeddings = BedrockEmbeddings(model_id=\"amazon.titan-embed-text-v1\",\n",
    "                                       client=br_runtime)"
   ]
  },
  {
   "cell_type": "markdown",
   "metadata": {},
   "source": [
    "Now we can see how a sample embedding would look like for one of those chunks."
   ]
  },
  {
   "cell_type": "code",
   "execution_count": 29,
   "metadata": {
    "tags": []
   },
   "outputs": [
    {
     "name": "stdout",
     "output_type": "stream",
     "text": [
      "Sample embedding of a document chunk:  [ 0.113061   -0.12235427 -0.10330784 ... -0.37938827  0.21118337\n",
      " -0.20052083]\n",
      "Size of the embedding:  (1536,)\n"
     ]
    }
   ],
   "source": [
    "sample_embedding = np.array(bedrock_embeddings.embed_query(docs[0].page_content))\n",
    "print(\"Sample embedding of a document chunk: \", sample_embedding)\n",
    "print(\"Size of the embedding: \", sample_embedding.shape)"
   ]
  },
  {
   "cell_type": "markdown",
   "metadata": {},
   "source": [
    "Following the very same approach embeddings can be generated for the entire corpus and stored in a vector store.\n",
    "\n",
    "This can be easily done using [FAISS](https://github.com/facebookresearch/faiss) implementation inside [LangChain](https://python.langchain.com/en/latest/modules/indexes/vectorstores/examples/faiss.html) which takes  input the embeddings model and the documents to create the entire vector store. Using the Index Wrapper we can abstract away most of the heavy lifting such as creating the prompt, getting embeddings of the query, sampling the relevant documents and calling the LLM. [VectorStoreIndexWrapper](https://python.langchain.com/en/latest/modules/indexes/getting_started.html#one-line-index-creation) helps us with that.\n",
    "\n",
    "**⚠️⚠️⚠️ NOTE: it might take few minutes to run the following cell ⚠️⚠️⚠️**"
   ]
  },
  {
   "cell_type": "code",
   "execution_count": 30,
   "metadata": {
    "tags": []
   },
   "outputs": [],
   "source": [
    "from langchain.chains.question_answering import load_qa_chain\n",
    "from langchain.vectorstores import FAISS\n",
    "from langchain.indexes import VectorstoreIndexCreator\n",
    "from langchain.indexes.vectorstore import VectorStoreIndexWrapper\n",
    "\n",
    "vectorstore_faiss = FAISS.from_documents(\n",
    "    docs,\n",
    "    bedrock_embeddings,\n",
    ")\n",
    "\n",
    "wrapper_store_faiss = VectorStoreIndexWrapper(vectorstore=vectorstore_faiss)"
   ]
  },
  {
   "cell_type": "markdown",
   "metadata": {},
   "source": [
    "### Question Answering\n",
    "\n",
    "Now that we have our vector store in place, we can start asking questions."
   ]
  },
  {
   "cell_type": "code",
   "execution_count": 42,
   "metadata": {
    "tags": []
   },
   "outputs": [],
   "source": [
    "query_1 = \"How many new units expected to complete in 2023?\""
   ]
  },
  {
   "cell_type": "markdown",
   "metadata": {},
   "source": [
    "The first step would be to create an embedding of the query such that it could be compared with the documents"
   ]
  },
  {
   "cell_type": "code",
   "execution_count": 43,
   "metadata": {
    "tags": []
   },
   "outputs": [
    {
     "data": {
      "text/plain": [
       "array([-0.8125    , -0.48242188, -0.17285156, ...,  0.18164062,\n",
       "        0.71875   , -0.6484375 ])"
      ]
     },
     "execution_count": 43,
     "metadata": {},
     "output_type": "execute_result"
    }
   ],
   "source": [
    "query_embedding = vectorstore_faiss.embedding_function(query)\n",
    "np.array(query_embedding)"
   ]
  },
  {
   "cell_type": "markdown",
   "metadata": {},
   "source": [
    "We can use this embedding of the query to then fetch relevant documents.\n",
    "Now our query is represented as embeddings we can do a similarity search of our query against our data store providing us with the most relevant information."
   ]
  },
  {
   "cell_type": "code",
   "execution_count": 34,
   "metadata": {
    "tags": []
   },
   "outputs": [
    {
     "name": "stdout",
     "output_type": "stream",
     "text": [
      "4 documents are fetched which are relevant to the query.\n",
      "----\n",
      "## Document 1: 1Multifamily Economic and Market Commentary\n",
      "OCTOBER 2023\n",
      "Rising Number of Multifamily Properties Offering Concessions\n",
      "Multifamily market fundamentals have softened in 2023 compared to the prior year, the result of\n",
      "mixed economic\n",
      "trends including slowing -but-still -positive job growth, elevated single -family housing prices\n",
      "keeping many renters in\n",
      "place, and continued favorable demographics. Rent growth was exceptional over the past two years,\n",
      "and, of course,\n",
      "unsustainable, thus 2023 has seen a substantial slowing of rent growth rates. There remains a robust\n",
      "pipeline of new\n",
      "apartment rental projects that are underway in the nation’s largest metros, and with recessionary\n",
      "concerns there has\n",
      "been a rise in the number of properties across the country offering concessions.\n",
      "In the multifamily apartment rental market, concessions are incentives with an economic value for\n",
      "renters, such as\n",
      "periods of free rent, free utilities, or other amenities. And in a competitive market when property\n",
      "owners need to fill\n",
      "vacant units, concessions are one of the ways they attract tenants. As seen in the charts below,\n",
      "recent concessions data\n",
      "from RealPage show that the multifamily market has seen softening trends over the past year: There\n",
      "is a notably higher\n",
      "percentage of units offering concessions than a year ago –  up from 5.2% of all units in August 2022\n",
      "to 9.0% of all units\n",
      "in August 2023. However, the value of the concession being offered has slightly declined, from 7.7%\n",
      "of asking rent in\n",
      "August 2022 to 7.2% in August 2023, which is slightly less than one month’s free rent. It’s\n",
      "important to note that the\n",
      "overall level of concessions continues to be well above the low levels observed just before the\n",
      "pandemic.\n",
      "Source: RealPage\n",
      "Supply of New Units Remains High\n",
      "According to the Dodge Data & Analytics Supply Track construction pipeline data, the number of\n",
      "apartment units\n",
      "completed across the country may reach a record in 2023. According to Dodge, as of the middle of\n",
      "2023, nearly 730,000\n",
      "units were underway with completion dates expected in 2023, though only 164,000 were completed year\n",
      "to date through\n",
      "April. That’s compared to full -year totals of 479,000 units in 2022 and 395,000 units in 2021. The\n",
      "overall pipeline\n",
      "underway is slightly lower than it was in the prior year: As of July 2023, 1,116,000 units were\n",
      "underway, compared to\n",
      "1,141,000 in July 2022. With supply chains operating more efficiently in 2023 than in 2022,\n",
      "substantially more units may\n",
      "be completed this year than last, which we believe might lead to about 500,000 units delivering this\n",
      "year. Multifamily concession rate National % of multifamily units offering concessions\n",
      "3%5%7%9%11%13%15%17%\n",
      "5.5%6.0%6.5%7.0%7.5%8.0%8.5%9.0%.......\n",
      "---\n",
      "## Document 2: 4Multifamily Economic and Market Commentary\n",
      "Further Softening Expected to Lead to More Concessions and Stagnant Rent Growth\n",
      "After exceptional rent growth rates in 2021 and 2022, it was generally expected that 2023 would see\n",
      "easing of\n",
      "multifamily rent growth and overall fundamentals, including vacancy rates. In general, that has been\n",
      "the case.\n",
      "Softening in demand during the first half of this year resulted in a below -average rent growth of\n",
      "just 1.0% for\n",
      "the nation, and a modest rise in vacancies. But some metros had notably weaker results, experiencing\n",
      "modest\n",
      "rent contractions, including Austin, Las Vegas, San Francisco, and Phoenix.\n",
      "Because of this fundamental demand softness, and our current expectation of a mild recession in the\n",
      "first half\n",
      "of 2024, a further rise in the number of units offering concessions may be on the horizon. It is\n",
      "noteworthy that\n",
      "amid significantly weaker conditions in 2023 compared to 2022 the value of concessions offered by\n",
      "property\n",
      "owners has been generally stable; instead, property owners have moved to offering lower asking rent\n",
      "levels.\n",
      "However, with a robust pipeline of supply expected over the next 18 months, we believe there will\n",
      "continue to\n",
      "be pressure on owners to offer more generous concessions along with lower rents. Combining that new\n",
      "competition with likely unemployment increases and a rental household formation slowdown would\n",
      "likely\n",
      "result in owners using a combination of both options to not only retain their current tenants but to\n",
      "also gain\n",
      "new ones. And that would still include all classes of units, including the more affordable Class B\n",
      "and C.\n",
      "We believe the forecasted economic slowdown, combined with the robust supply of new apartment units\n",
      "that\n",
      "are underway, will likely add stress to the multifamily sector over the next 12 to 18 months. But we\n",
      "continue to\n",
      "believe that demand for multifamily rental housing will remain stable over the longer term due to\n",
      "home\n",
      "purchase affordability constraints and higher interest rates keeping many tenants from moving to\n",
      "homeownership. As a result, we believe that many renters -by-choice will stay in their units for\n",
      "slightly longer,\n",
      "especially if they are able to take advantage of lower rent levels and more generous\n",
      "concessions........\n",
      "---\n",
      "## Document 3: 3Multifamily Economic and Market Commentary\n",
      "4.0%5.0%6.0%7.0%8.0%9.0%10.0%11.0%\n",
      "A B CHigher Class A Concessions Continue, More B and C Offering Concessions\n",
      "During the current multi -year development cycle, multifamily builders have primarily been\n",
      "constructing more\n",
      "expensive, amenity -offering apartments, usually referred to as Class A units. As seen in the charts\n",
      "below, with\n",
      "increased competition among this class, property owners have had to offer a generally higher level\n",
      "of concession, as\n",
      "well as more properties having to offer them. The value of Class A concessions increased\n",
      "significantly at the beginning\n",
      "of the pandemic and has remained comparatively high, well above Class B and C units during this\n",
      "period. And over the\n",
      "past year, as demand has softened compared to the prior year, the value of concessions for Class A\n",
      "units has declined\n",
      "slightly, from 8.6% in August 2022 to 8.1% in August 2023, most likely due to the decrease in asking\n",
      "rents. But the\n",
      "percent of Class A units offering these concessions has risen more notably, from 6.7% a year ago to\n",
      "9.5% as of August\n",
      "2023.\n",
      "The softening demand for apartments over the past year is also observed in the rising percentage of\n",
      "units offering\n",
      "concessions in Class B and C units. As of August 2022, 4.8% of Class B units were offering\n",
      "concessions, while just 3.7%\n",
      "of Class C were. But both classes have seen noteworthy increases: As of August 2023, 8.4% Class B\n",
      "units were offering\n",
      "concessions, up 3.6% from the prior year, and 9.2% of Class C units were, up 5.5% from the prior\n",
      "year.\n",
      "National monthly concession rates by class\n",
      "Source: RealPage, Inc.\n",
      "Its is noteworthy, however, that the value of the concession being offered has not changed\n",
      "significantly among Class\n",
      "B and C units over the past year. Class B units have slightly decreased the value of the concessions\n",
      "being offered,\n",
      "from 6.8% a year ago to 6.5% in August 2023. However, the value of Class C concessions has risen\n",
      "slightly, increasing\n",
      "from 6.5% a year ago to 6.7% in August 2023.\n",
      "The mixed signals across all three classes of properties indicate that overall demand has softened\n",
      "and that many\n",
      "property owners have decided to move quickly by dropping asking rents combined with offering a\n",
      "slightly lower\n",
      "concession as an offset in an attempt to bring in new tenants.\n",
      "2.0%4.0%6.0%8.0%10.0%12.0%14.0%16.0%18.0%20.0%\n",
      "A B CPercent of units offering concessions by class.......\n",
      "---\n",
      "## Document 4: Multifamily Economic and Market Commentary\n",
      "5Tim Komosa\n",
      "Economist - Senior Manager\n",
      "Multifamily Economics and Research\n",
      "October 2023\n",
      "Opinions, analyses, estimates, forecasts, and other views of Fannie Mae’s Economic and\n",
      "Strategic Research (ESR) Group included in these materials should not be construed as\n",
      "indicating Fannie Mae’s business prospects or expected results, are based on a number of\n",
      "assumptions, and are subject to change without notice. How this information affects Fannie\n",
      "Mae will depend on many factors. Although the ESR Group bases its opinions, analyses,\n",
      "estimates, forecasts, and other views on information it considers reliable, it does not\n",
      "guarantee that the information provided in these materials is accurate, current, or suitable\n",
      "for any particular purpose. Changes in the assumptions or the information underlying these\n",
      "views could produce materially different results. The analyses, opinions, estimates,\n",
      "forecasts, and other views published by the ESR Group represent the views of that group as\n",
      "of the date indicated and do not necessarily represent the views of Fannie Mae or its\n",
      "management.\n",
      "© 2023 Fannie Mae.......\n",
      "---\n"
     ]
    }
   ],
   "source": [
    "relevant_documents = vectorstore_faiss.similarity_search_by_vector(query_embedding)\n",
    "print(f'{len(relevant_documents)} documents are fetched which are relevant to the query.')\n",
    "print('----')\n",
    "for i, rel_doc in enumerate(relevant_documents):\n",
    "    print(f'## Document {i+1}: {rel_doc.page_content}.......')\n",
    "    print('---')"
   ]
  },
  {
   "cell_type": "markdown",
   "metadata": {},
   "source": [
    "Now we have the relevant documents, it's time to use the LLM to generate an answer based on these documents. \n",
    "\n",
    "We will take our inital prompt, together with our relevant documents which were retreived based on the results of our similarity search. We then by combining these create a prompt that we feed back to the model to get our result. At this point our model should give us highly informed information on how we can change the tire of our specific car as it was outlined in our manual.\n",
    "\n",
    "LangChain provides an abstraction of how this can be done easily."
   ]
  },
  {
   "cell_type": "markdown",
   "metadata": {},
   "source": [
    "### Quick way\n",
    "You have the possibility to use the wrapper provided by LangChain which wraps around the Vector Store and takes input the LLM.\n",
    "This wrapper performs the following steps behind the scences:\n",
    "- Takes input the question\n",
    "- Create question embedding\n",
    "- Fetch relevant documents\n",
    "- Stuff the documents and the question into a prompt\n",
    "- Invoke the model with the prompt and generate the answer in a human readable manner."
   ]
  },
  {
   "cell_type": "code",
   "execution_count": 44,
   "metadata": {
    "tags": []
   },
   "outputs": [
    {
     "name": "stdout",
     "output_type": "stream",
     "text": [
      " Based on the information provided in the context, it is expected that about 500,000 new apartment units will be completed in 2023. Specifically, the text states:\n",
      "\n",
      "\"According to Dodge, as of the middle of 2023, nearly 730,000 units were underway with completion dates expected in 2023, though only 164,000 were completed year to date through April. That’s compared to full-year totals of 479,000 units in 2022 and 395,000 units in 2021. With supply chains operating more efficiently in 2023 than in 2022, substantially more units may be completed this year than last, which we believe might lead to about 500,000 units delivering this year.\"\n",
      "\n",
      "So the estimate is that about 500,000 new apartment units will be completed in 2023.\n"
     ]
    }
   ],
   "source": [
    "answer_1 = wrapper_store_faiss.query(question=query, llm=llm)\n",
    "print(answer_1)"
   ]
  },
  {
   "cell_type": "markdown",
   "metadata": {},
   "source": [
    "Let's ask a different question:"
   ]
  },
  {
   "cell_type": "code",
   "execution_count": 45,
   "metadata": {
    "tags": []
   },
   "outputs": [],
   "source": [
    "query_2 = \"Does the economy favors Multifamily markets?\""
   ]
  },
  {
   "cell_type": "code",
   "execution_count": 46,
   "metadata": {
    "tags": []
   },
   "outputs": [
    {
     "name": "stdout",
     "output_type": "stream",
     "text": [
      " Based on the context provided, it does not seem like the economy particularly favors multifamily markets right now. A few key points:\n",
      "\n",
      "- The commentary notes that multifamily market fundamentals have softened in 2023 compared to 2022. Rent growth has slowed substantially.\n",
      "\n",
      "- There is a rise in the number of properties offering concessions across the country. The percentage of units offering concessions is up significantly compared to a year ago. \n",
      "\n",
      "- There is a robust pipeline of new apartment rental projects underway in major metros. This increased supply could add more competition and pressure. \n",
      "\n",
      "- The outlook mentions concerns about an economic slowdown and recession in 2024, which could add further stress to the multifamily sector.\n",
      "\n",
      "So in summary, the context indicates challenging conditions for multifamily markets currently and in the near-term outlook, rather than the economy strongly favoring the multifamily sector. The analysis seems cautious about multifamily prospects in light of macroeconomic trends. I don't\n"
     ]
    }
   ],
   "source": [
    "answer_2 = wrapper_store_faiss.query(question=query_2, llm=llm)\n",
    "print(answer_2)"
   ]
  },
  {
   "cell_type": "code",
   "execution_count": 38,
   "metadata": {
    "tags": []
   },
   "outputs": [],
   "source": [
    "query_3 = \"Which metros are rapidly growing?\""
   ]
  },
  {
   "cell_type": "code",
   "execution_count": 39,
   "metadata": {
    "tags": []
   },
   "outputs": [
    {
     "name": "stdout",
     "output_type": "stream",
     "text": [
      " Based on the information provided, the passage states that new apartment supply has been concentrated in the nation's largest and rapidly growing metropolitan areas. It specifically names New York City, Dallas, Houston, and Atlanta as metros that are expecting a large number of new apartment units to be completed in the current year. So these major metros - New York City, Dallas, Houston, and Atlanta - are described as being rapidly growing.\n"
     ]
    }
   ],
   "source": [
    "answer_3 = wrapper_store_faiss.query(question=query_3, llm=llm)\n",
    "print(answer_3)"
   ]
  },
  {
   "cell_type": "markdown",
   "metadata": {},
   "source": [
    "### Customisable option\n",
    "In the above scenario you explored the quick and easy way to get a context-aware answer to your question. Now let's have a look at a more customizable option with the help of [RetrievalQA](https://python.langchain.com/en/latest/modules/chains/index_examples/vector_db_qa.html) where you can customize how the documents fetched should be added to prompt using `chain_type` parameter. Also, if you want to control how many relevant documents should be retrieved then change the `k` parameter in the cell below to see different outputs. In many scenarios you might want to know which were the source documents that the LLM used to generate the answer, you can get those documents in the output using `return_source_documents` which returns the documents that are added to the context of the LLM prompt. `RetrievalQA` also allows you to provide a custom [prompt template](https://python.langchain.com/en/latest/modules/prompts/prompt_templates/getting_started.html) which can be specific to the model.\n",
    "\n",
    "Note: In this example we are using Anthropic Claude as the LLM under Amazon Bedrock, this particular model performs best if the inputs are provided under `Human:` and the model is requested to generate an output after `Assistant:`. In the cell below you see an example of how to control the prompt such that the LLM stays grounded and doesn't answer outside the context."
   ]
  },
  {
   "cell_type": "code",
   "execution_count": 40,
   "metadata": {
    "tags": []
   },
   "outputs": [],
   "source": [
    "from langchain.chains import RetrievalQA\n",
    "from langchain.prompts import PromptTemplate\n",
    "\n",
    "prompt_template = \"\"\"\n",
    "\n",
    "Human: Use the following pieces of context to provide a concise answer to the question at the end. If you don't know the answer, just say that you don't know, don't try to make up an answer.\n",
    "\n",
    "{context}\n",
    "\n",
    "Question: {question}\n",
    "\n",
    "Assistant:\"\"\"\n",
    "PROMPT = PromptTemplate(\n",
    "    template=prompt_template, input_variables=[\"context\", \"question\"]\n",
    ")\n",
    "\n",
    "qa = RetrievalQA.from_chain_type(\n",
    "    llm=llm,\n",
    "    chain_type=\"stuff\",\n",
    "    retriever=vectorstore_faiss.as_retriever(\n",
    "        search_type=\"similarity\", search_kwargs={\"k\": 3}\n",
    "    ),\n",
    "    return_source_documents=True,\n",
    "    chain_type_kwargs={\"prompt\": PROMPT}\n",
    ")"
   ]
  },
  {
   "cell_type": "code",
   "execution_count": 47,
   "metadata": {
    "tags": []
   },
   "outputs": [
    {
     "name": "stdout",
     "output_type": "stream",
     "text": [
      " Based on the information provided in the multifamily economic commentary, it is expected that around 500,000 new apartment units will be completed in 2023. \n",
      "\n",
      "The key evidence supporting this is:\n",
      "\n",
      "- As of mid-2023, nearly 730,000 units were underway with expected completion in 2023, though only 164,000 were completed through April.\n",
      "\n",
      "- In 2022, 479,000 units were completed. In 2021, 395,000 units were completed. \n",
      "\n",
      "- Supply chains are operating more efficiently in 2023 than 2022, so substantially more units may be completed this year than last.\n",
      "\n",
      "- The commentary states \"we believe that might lead to about 500,000 units delivering this year.\"\n",
      "\n",
      "So in summary, around 500,000 new apartment units are expected to be completed in 2023.\n",
      "\n",
      "[Document(page_content='1Multifamily Economic and Market Commentary\\nOCTOBER 2023\\nRising Number of Multifamily Properties Offering Concessions\\nMultifamily market fundamentals have softened in 2023 compared to the prior year, the result of mixed economic \\ntrends including slowing -but-still -positive job growth, elevated single -family housing prices keeping many renters in \\nplace, and continued favorable demographics. Rent growth was exceptional over the past two years, and, of course, \\nunsustainable, thus 2023 has seen a substantial slowing of rent growth rates. There remains a robust pipeline of new \\napartment rental projects that are underway in the nation’s largest metros, and with recessionary concerns there has \\nbeen a rise in the number of properties across the country offering concessions.\\nIn the multifamily apartment rental market, concessions are incentives with an economic value for renters, such as \\nperiods of free rent, free utilities, or other amenities. And in a competitive market when property owners need to fill \\nvacant units, concessions are one of the ways they attract tenants. As seen in the charts below, recent concessions data \\nfrom RealPage show that the multifamily market has seen softening trends over the past year: There is a notably higher \\npercentage of units offering concessions than a year ago –  up from 5.2% of all units in August 2022 to 9.0% of all units \\nin August 2023. However, the value of the concession being offered has slightly declined, from 7.7% of asking rent in \\nAugust 2022 to 7.2% in August 2023, which is slightly less than one month’s free rent. It’s important to note that the \\noverall level of concessions continues to be well above the low levels observed just before the pandemic. \\nSource: RealPage\\nSupply of New Units Remains High\\nAccording to the Dodge Data & Analytics Supply Track construction pipeline data, the number of apartment units \\ncompleted across the country may reach a record in 2023. According to Dodge, as of the middle of 2023, nearly 730,000 \\nunits were underway with completion dates expected in 2023, though only 164,000 were completed year to date through \\nApril. That’s compared to full -year totals of 479,000 units in 2022 and 395,000 units in 2021. The overall pipeline \\nunderway is slightly lower than it was in the prior year: As of July 2023, 1,116,000 units were underway, compared to \\n1,141,000 in July 2022. With supply chains operating more efficiently in 2023 than in 2022, substantially more units may \\nbe completed this year than last, which we believe might lead to about 500,000 units delivering this year. Multifamily concession rate National % of multifamily units offering concessions\\n3%5%7%9%11%13%15%17%\\n5.5%6.0%6.5%7.0%7.5%8.0%8.5%9.0%', metadata={'name': 'FNMA Selling Guide 2024', 'source': 'https://singlefamily.fanniemae.com/media/38401/display'}), Document(page_content='4Multifamily Economic and Market Commentary\\nFurther Softening Expected to Lead to More Concessions and Stagnant Rent Growth\\nAfter exceptional rent growth rates in 2021 and 2022, it was generally expected that 2023 would see easing of \\nmultifamily rent growth and overall fundamentals, including vacancy rates. In general, that has been the case. \\nSoftening in demand during the first half of this year resulted in a below -average rent growth of just 1.0% for \\nthe nation, and a modest rise in vacancies. But some metros had notably weaker results, experiencing modest \\nrent contractions, including Austin, Las Vegas, San Francisco, and Phoenix. \\nBecause of this fundamental demand softness, and our current expectation of a mild recession in the first half \\nof 2024, a further rise in the number of units offering concessions may be on the horizon. It is noteworthy that \\namid significantly weaker conditions in 2023 compared to 2022 the value of concessions offered by property \\nowners has been generally stable; instead, property owners have moved to offering lower asking rent levels.  \\nHowever, with a robust pipeline of supply expected over the next 18 months, we believe there will continue to \\nbe pressure on owners to offer more generous concessions along with lower rents. Combining that new \\ncompetition with likely unemployment increases and a rental household formation slowdown would likely \\nresult in owners using a combination of both options to not only retain their current tenants but to also gain \\nnew ones. And that would still include all classes of units, including the more affordable Class B and C.\\nWe believe the forecasted economic slowdown, combined with the robust supply of new apartment units that \\nare underway, will likely add stress to the multifamily sector over the next 12 to 18 months. But we continue to \\nbelieve that demand for multifamily rental housing will remain stable over the longer term due to home \\npurchase affordability constraints and higher interest rates keeping many tenants from moving to \\nhomeownership. As a result, we believe that many renters -by-choice will stay in their units for slightly longer, \\nespecially if they are able to take advantage of lower rent levels and more generous concessions.', metadata={'name': 'FNMA Selling Guide 2024', 'source': 'https://singlefamily.fanniemae.com/media/38401/display'}), Document(page_content='3Multifamily Economic and Market Commentary\\n4.0%5.0%6.0%7.0%8.0%9.0%10.0%11.0%\\nA B CHigher Class A Concessions Continue, More B and C Offering Concessions\\nDuring the current multi -year development cycle, multifamily builders have primarily been constructing more \\nexpensive, amenity -offering apartments, usually referred to as Class A units. As seen in the charts below, with \\nincreased competition among this class, property owners have had to offer a generally higher level of concession, as \\nwell as more properties having to offer them. The value of Class A concessions increased significantly at the beginning \\nof the pandemic and has remained comparatively high, well above Class B and C units during this period. And over the \\npast year, as demand has softened compared to the prior year, the value of concessions for Class A units has declined \\nslightly, from 8.6% in August 2022 to 8.1% in August 2023, most likely due to the decrease in asking rents. But the \\npercent of Class A units offering these concessions has risen more notably, from 6.7% a year ago to 9.5% as of August \\n2023.\\nThe softening demand for apartments over the past year is also observed in the rising percentage of units offering \\nconcessions in Class B and C units. As of August 2022, 4.8% of Class B units were offering concessions, while just 3.7% \\nof Class C were. But both classes have seen noteworthy increases: As of August 2023, 8.4% Class B units were offering \\nconcessions, up 3.6% from the prior year, and 9.2% of Class C units were, up 5.5% from the prior year.\\nNational monthly concession rates by class\\nSource: RealPage, Inc. \\nIts is noteworthy, however, that the value of the concession being offered has not changed significantly among Class \\nB and C units over the past year. Class B units have slightly decreased the value of the concessions being offered, \\nfrom 6.8% a year ago to 6.5% in August 2023. However, the value of Class C concessions has risen slightly, increasing \\nfrom 6.5% a year ago to 6.7% in August 2023.\\nThe mixed signals across all three classes of properties indicate that overall demand has softened and that many \\nproperty owners have decided to move quickly by dropping asking rents combined with offering a slightly lower \\nconcession as an offset in an attempt to bring in new tenants. 2.0%4.0%6.0%8.0%10.0%12.0%14.0%16.0%18.0%20.0%\\nA B CPercent of units offering concessions by class', metadata={'name': 'FNMA Selling Guide 2024', 'source': 'https://singlefamily.fanniemae.com/media/38401/display'})]\n"
     ]
    }
   ],
   "source": [
    "query = query_1\n",
    "result = qa({\"query\": query})\n",
    "print(result['result'])\n",
    "\n",
    "print(f\"\\n{result['source_documents']}\")"
   ]
  },
  {
   "cell_type": "code",
   "execution_count": 48,
   "metadata": {
    "tags": []
   },
   "outputs": [
    {
     "name": "stdout",
     "output_type": "stream",
     "text": [
      " Based on the provided context, it does not seem like the economy currently favors multifamily\n",
      "markets. The key points are:\n",
      "\n",
      "- After strong rent growth in 2021-2022, multifamily rent growth is expected to ease in 2023. Some\n",
      "markets have already seen rent contractions.\n",
      "\n",
      "- With an expected mild recession in early 2024, more concessions and stagnant rent growth are\n",
      "expected as supply remains robust.\n",
      "\n",
      "- The number of units offering concessions has notably increased compared to 2022, though the value\n",
      "of concessions has slightly declined.\n",
      "\n",
      "- A record number of new apartment units are expected to be completed in 2023, adding to supply.\n",
      "\n",
      "So in summary, the slowing economy along with robust new supply appears to be putting pressure on\n",
      "the multifamily market, with expectations of more concessions, lower rents, and stagnant rent growth\n",
      "overall. The economy does not seem to currently favor multifamily markets.\n",
      "\n",
      "[Document(page_content='Multifamily Economic and Market Commentary\\n5Tim Komosa\\nEconomist - Senior Manager\\nMultifamily Economics and Research\\nOctober 2023\\nOpinions, analyses, estimates, forecasts, and other views of Fannie Mae’s Economic and \\nStrategic Research (ESR) Group included in these materials should not be construed as \\nindicating Fannie Mae’s business prospects or expected results, are based on a number of \\nassumptions, and are subject to change without notice. How this information affects Fannie \\nMae will depend on many factors. Although the ESR Group bases its opinions, analyses, \\nestimates, forecasts, and other views on information it considers reliable, it does not \\nguarantee that the information provided in these materials is accurate, current, or suitable \\nfor any particular purpose. Changes in the assumptions or the information underlying these \\nviews could produce materially different results. The analyses, opinions, estimates, \\nforecasts, and other views published by the ESR Group represent the views of that group as \\nof the date indicated and do not necessarily represent the views of Fannie Mae or its \\nmanagement.\\n© 2023 Fannie Mae', metadata={'name': 'FNMA Selling Guide 2024', 'source': 'https://singlefamily.fanniemae.com/media/38401/display'}), Document(page_content='4Multifamily Economic and Market Commentary\\nFurther Softening Expected to Lead to More Concessions and Stagnant Rent Growth\\nAfter exceptional rent growth rates in 2021 and 2022, it was generally expected that 2023 would see easing of \\nmultifamily rent growth and overall fundamentals, including vacancy rates. In general, that has been the case. \\nSoftening in demand during the first half of this year resulted in a below -average rent growth of just 1.0% for \\nthe nation, and a modest rise in vacancies. But some metros had notably weaker results, experiencing modest \\nrent contractions, including Austin, Las Vegas, San Francisco, and Phoenix. \\nBecause of this fundamental demand softness, and our current expectation of a mild recession in the first half \\nof 2024, a further rise in the number of units offering concessions may be on the horizon. It is noteworthy that \\namid significantly weaker conditions in 2023 compared to 2022 the value of concessions offered by property \\nowners has been generally stable; instead, property owners have moved to offering lower asking rent levels.  \\nHowever, with a robust pipeline of supply expected over the next 18 months, we believe there will continue to \\nbe pressure on owners to offer more generous concessions along with lower rents. Combining that new \\ncompetition with likely unemployment increases and a rental household formation slowdown would likely \\nresult in owners using a combination of both options to not only retain their current tenants but to also gain \\nnew ones. And that would still include all classes of units, including the more affordable Class B and C.\\nWe believe the forecasted economic slowdown, combined with the robust supply of new apartment units that \\nare underway, will likely add stress to the multifamily sector over the next 12 to 18 months. But we continue to \\nbelieve that demand for multifamily rental housing will remain stable over the longer term due to home \\npurchase affordability constraints and higher interest rates keeping many tenants from moving to \\nhomeownership. As a result, we believe that many renters -by-choice will stay in their units for slightly longer, \\nespecially if they are able to take advantage of lower rent levels and more generous concessions.', metadata={'name': 'FNMA Selling Guide 2024', 'source': 'https://singlefamily.fanniemae.com/media/38401/display'}), Document(page_content='1Multifamily Economic and Market Commentary\\nOCTOBER 2023\\nRising Number of Multifamily Properties Offering Concessions\\nMultifamily market fundamentals have softened in 2023 compared to the prior year, the result of mixed economic \\ntrends including slowing -but-still -positive job growth, elevated single -family housing prices keeping many renters in \\nplace, and continued favorable demographics. Rent growth was exceptional over the past two years, and, of course, \\nunsustainable, thus 2023 has seen a substantial slowing of rent growth rates. There remains a robust pipeline of new \\napartment rental projects that are underway in the nation’s largest metros, and with recessionary concerns there has \\nbeen a rise in the number of properties across the country offering concessions.\\nIn the multifamily apartment rental market, concessions are incentives with an economic value for renters, such as \\nperiods of free rent, free utilities, or other amenities. And in a competitive market when property owners need to fill \\nvacant units, concessions are one of the ways they attract tenants. As seen in the charts below, recent concessions data \\nfrom RealPage show that the multifamily market has seen softening trends over the past year: There is a notably higher \\npercentage of units offering concessions than a year ago –  up from 5.2% of all units in August 2022 to 9.0% of all units \\nin August 2023. However, the value of the concession being offered has slightly declined, from 7.7% of asking rent in \\nAugust 2022 to 7.2% in August 2023, which is slightly less than one month’s free rent. It’s important to note that the \\noverall level of concessions continues to be well above the low levels observed just before the pandemic. \\nSource: RealPage\\nSupply of New Units Remains High\\nAccording to the Dodge Data & Analytics Supply Track construction pipeline data, the number of apartment units \\ncompleted across the country may reach a record in 2023. According to Dodge, as of the middle of 2023, nearly 730,000 \\nunits were underway with completion dates expected in 2023, though only 164,000 were completed year to date through \\nApril. That’s compared to full -year totals of 479,000 units in 2022 and 395,000 units in 2021. The overall pipeline \\nunderway is slightly lower than it was in the prior year: As of July 2023, 1,116,000 units were underway, compared to \\n1,141,000 in July 2022. With supply chains operating more efficiently in 2023 than in 2022, substantially more units may \\nbe completed this year than last, which we believe might lead to about 500,000 units delivering this year. Multifamily concession rate National % of multifamily units offering concessions\\n3%5%7%9%11%13%15%17%\\n5.5%6.0%6.5%7.0%7.5%8.0%8.5%9.0%', metadata={'name': 'FNMA Selling Guide 2024', 'source': 'https://singlefamily.fanniemae.com/media/38401/display'})]\n"
     ]
    }
   ],
   "source": [
    "query = query_2\n",
    "result = qa({\"query\": query})\n",
    "print(result['result'])\n",
    "\n",
    "print(f\"\\n{result['source_documents']}\")"
   ]
  },
  {
   "cell_type": "code",
   "execution_count": 49,
   "metadata": {
    "tags": []
   },
   "outputs": [
    {
     "name": "stdout",
     "output_type": "stream",
     "text": [
      " Based on the context provided, the passage states that new apartment supply has been concentrated in the nation's largest and rapidly growing metropolitan areas. It specifically mentions that New York City, Dallas, Houston, and Atlanta are expecting at least 50,000 new units to be completed this year. So these major metros - New York City, Dallas, Houston, and Atlanta - are described as rapidly growing.\n",
      "\n",
      "[Document(page_content='2Multifamily Economic and Market Commentary\\nConcessions Declining in Most Major Markets \\nSource: RealPageMultifamily monthly concession rate by market – select metrosAs has been the case for several years, new apartment supply has been concentrated in the nation’s largest and rapidly \\ngrowing metropolitan areas. New York City continues to be the most active metro in the country, with nearly 150,000 units \\neither recently completed or underway, with Dallas next at 74,000 units. Houston and Atlanta are also each expecting at \\nleast 50,000 units will be completed this year. \\nThe robust supply in many of these markets, along with consumer skittishness over economic trends, appears to have \\nimpacted demand. As seen below, with the exceptions of New York and Chicago, all have seen the percentage of units \\noffering concessions rise compared to the prior year. Atlanta, Dallas, and Phoenix have each seen increases of more than \\n5%. It is noteworthy, however, that eight of the 12 markets shown below have seen concession values decline over the pri or \\nyear, and that the largest increase, in Phoenix, was just 2.8%. We believe that these mixed trends suggest that demand for \\nrental apartments has declined so quickly, especially over the past few months, that combined with competition from new \\nunits coming online, Class A unit property owners are instead dropping asking rents to lure in new tenants. \\nConcession % of Asking Rent \\n(Left Axis)% of Units Offering Concessions \\n(Right Axis)', metadata={'name': 'FNMA Selling Guide 2024', 'source': 'https://singlefamily.fanniemae.com/media/38401/display'}), Document(page_content='1Multifamily Economic and Market Commentary\\nOCTOBER 2023\\nRising Number of Multifamily Properties Offering Concessions\\nMultifamily market fundamentals have softened in 2023 compared to the prior year, the result of mixed economic \\ntrends including slowing -but-still -positive job growth, elevated single -family housing prices keeping many renters in \\nplace, and continued favorable demographics. Rent growth was exceptional over the past two years, and, of course, \\nunsustainable, thus 2023 has seen a substantial slowing of rent growth rates. There remains a robust pipeline of new \\napartment rental projects that are underway in the nation’s largest metros, and with recessionary concerns there has \\nbeen a rise in the number of properties across the country offering concessions.\\nIn the multifamily apartment rental market, concessions are incentives with an economic value for renters, such as \\nperiods of free rent, free utilities, or other amenities. And in a competitive market when property owners need to fill \\nvacant units, concessions are one of the ways they attract tenants. As seen in the charts below, recent concessions data \\nfrom RealPage show that the multifamily market has seen softening trends over the past year: There is a notably higher \\npercentage of units offering concessions than a year ago –  up from 5.2% of all units in August 2022 to 9.0% of all units \\nin August 2023. However, the value of the concession being offered has slightly declined, from 7.7% of asking rent in \\nAugust 2022 to 7.2% in August 2023, which is slightly less than one month’s free rent. It’s important to note that the \\noverall level of concessions continues to be well above the low levels observed just before the pandemic. \\nSource: RealPage\\nSupply of New Units Remains High\\nAccording to the Dodge Data & Analytics Supply Track construction pipeline data, the number of apartment units \\ncompleted across the country may reach a record in 2023. According to Dodge, as of the middle of 2023, nearly 730,000 \\nunits were underway with completion dates expected in 2023, though only 164,000 were completed year to date through \\nApril. That’s compared to full -year totals of 479,000 units in 2022 and 395,000 units in 2021. The overall pipeline \\nunderway is slightly lower than it was in the prior year: As of July 2023, 1,116,000 units were underway, compared to \\n1,141,000 in July 2022. With supply chains operating more efficiently in 2023 than in 2022, substantially more units may \\nbe completed this year than last, which we believe might lead to about 500,000 units delivering this year. Multifamily concession rate National % of multifamily units offering concessions\\n3%5%7%9%11%13%15%17%\\n5.5%6.0%6.5%7.0%7.5%8.0%8.5%9.0%', metadata={'name': 'FNMA Selling Guide 2024', 'source': 'https://singlefamily.fanniemae.com/media/38401/display'}), Document(page_content='4Multifamily Economic and Market Commentary\\nFurther Softening Expected to Lead to More Concessions and Stagnant Rent Growth\\nAfter exceptional rent growth rates in 2021 and 2022, it was generally expected that 2023 would see easing of \\nmultifamily rent growth and overall fundamentals, including vacancy rates. In general, that has been the case. \\nSoftening in demand during the first half of this year resulted in a below -average rent growth of just 1.0% for \\nthe nation, and a modest rise in vacancies. But some metros had notably weaker results, experiencing modest \\nrent contractions, including Austin, Las Vegas, San Francisco, and Phoenix. \\nBecause of this fundamental demand softness, and our current expectation of a mild recession in the first half \\nof 2024, a further rise in the number of units offering concessions may be on the horizon. It is noteworthy that \\namid significantly weaker conditions in 2023 compared to 2022 the value of concessions offered by property \\nowners has been generally stable; instead, property owners have moved to offering lower asking rent levels.  \\nHowever, with a robust pipeline of supply expected over the next 18 months, we believe there will continue to \\nbe pressure on owners to offer more generous concessions along with lower rents. Combining that new \\ncompetition with likely unemployment increases and a rental household formation slowdown would likely \\nresult in owners using a combination of both options to not only retain their current tenants but to also gain \\nnew ones. And that would still include all classes of units, including the more affordable Class B and C.\\nWe believe the forecasted economic slowdown, combined with the robust supply of new apartment units that \\nare underway, will likely add stress to the multifamily sector over the next 12 to 18 months. But we continue to \\nbelieve that demand for multifamily rental housing will remain stable over the longer term due to home \\npurchase affordability constraints and higher interest rates keeping many tenants from moving to \\nhomeownership. As a result, we believe that many renters -by-choice will stay in their units for slightly longer, \\nespecially if they are able to take advantage of lower rent levels and more generous concessions.', metadata={'name': 'FNMA Selling Guide 2024', 'source': 'https://singlefamily.fanniemae.com/media/38401/display'})]\n"
     ]
    }
   ],
   "source": [
    "query = query_3\n",
    "result = qa({\"query\": query})\n",
    "print(result['result'])\n",
    "\n",
    "print(f\"\\n{result['source_documents']}\")"
   ]
  },
  {
   "cell_type": "markdown",
   "metadata": {},
   "source": [
    "## Conclusion\n",
    "Congratulations on completing this moduel on retrieval augmented generation! This is an important technique that combines the power of large language models with the precision of retrieval methods. By augmenting generation with relevant retrieved examples, the responses we recieved become more coherent, consistent and grounded. You should feel proud of learning this innovative approach. I'm sure the knowledge you've gained will be very useful for building creative and engaging language generation systems. Well done!\n",
    "\n",
    "In the above implementation of RAG based Question Answering we have explored the following concepts and how to implement them using Amazon Bedrock and it's LangChain integration.\n",
    "\n",
    "- Loading documents of different kind and generating embeddings to create a vector store\n",
    "- Retrieving documents to the question\n",
    "- Preparing a prompt which goes as input to the LLM\n",
    "- Present an answer in a human friendly manner\n",
    "\n",
    "### Take-aways\n",
    "- Experiment with different Vector Stores\n",
    "- Leverage various models available under Amazon Bedrock to see alternate outputs\n",
    "- Explore options such as persistent storage of embeddings and document chunks\n",
    "- Integration with enterprise data stores\n",
    "\n",
    "# Thank You"
   ]
  },
  {
   "cell_type": "code",
   "execution_count": null,
   "metadata": {},
   "outputs": [],
   "source": []
  }
 ],
 "metadata": {
  "availableInstances": [
   {
    "_defaultOrder": 0,
    "_isFastLaunch": true,
    "category": "General purpose",
    "gpuNum": 0,
    "hideHardwareSpecs": false,
    "memoryGiB": 4,
    "name": "ml.t3.medium",
    "vcpuNum": 2
   },
   {
    "_defaultOrder": 1,
    "_isFastLaunch": false,
    "category": "General purpose",
    "gpuNum": 0,
    "hideHardwareSpecs": false,
    "memoryGiB": 8,
    "name": "ml.t3.large",
    "vcpuNum": 2
   },
   {
    "_defaultOrder": 2,
    "_isFastLaunch": false,
    "category": "General purpose",
    "gpuNum": 0,
    "hideHardwareSpecs": false,
    "memoryGiB": 16,
    "name": "ml.t3.xlarge",
    "vcpuNum": 4
   },
   {
    "_defaultOrder": 3,
    "_isFastLaunch": false,
    "category": "General purpose",
    "gpuNum": 0,
    "hideHardwareSpecs": false,
    "memoryGiB": 32,
    "name": "ml.t3.2xlarge",
    "vcpuNum": 8
   },
   {
    "_defaultOrder": 4,
    "_isFastLaunch": true,
    "category": "General purpose",
    "gpuNum": 0,
    "hideHardwareSpecs": false,
    "memoryGiB": 8,
    "name": "ml.m5.large",
    "vcpuNum": 2
   },
   {
    "_defaultOrder": 5,
    "_isFastLaunch": false,
    "category": "General purpose",
    "gpuNum": 0,
    "hideHardwareSpecs": false,
    "memoryGiB": 16,
    "name": "ml.m5.xlarge",
    "vcpuNum": 4
   },
   {
    "_defaultOrder": 6,
    "_isFastLaunch": false,
    "category": "General purpose",
    "gpuNum": 0,
    "hideHardwareSpecs": false,
    "memoryGiB": 32,
    "name": "ml.m5.2xlarge",
    "vcpuNum": 8
   },
   {
    "_defaultOrder": 7,
    "_isFastLaunch": false,
    "category": "General purpose",
    "gpuNum": 0,
    "hideHardwareSpecs": false,
    "memoryGiB": 64,
    "name": "ml.m5.4xlarge",
    "vcpuNum": 16
   },
   {
    "_defaultOrder": 8,
    "_isFastLaunch": false,
    "category": "General purpose",
    "gpuNum": 0,
    "hideHardwareSpecs": false,
    "memoryGiB": 128,
    "name": "ml.m5.8xlarge",
    "vcpuNum": 32
   },
   {
    "_defaultOrder": 9,
    "_isFastLaunch": false,
    "category": "General purpose",
    "gpuNum": 0,
    "hideHardwareSpecs": false,
    "memoryGiB": 192,
    "name": "ml.m5.12xlarge",
    "vcpuNum": 48
   },
   {
    "_defaultOrder": 10,
    "_isFastLaunch": false,
    "category": "General purpose",
    "gpuNum": 0,
    "hideHardwareSpecs": false,
    "memoryGiB": 256,
    "name": "ml.m5.16xlarge",
    "vcpuNum": 64
   },
   {
    "_defaultOrder": 11,
    "_isFastLaunch": false,
    "category": "General purpose",
    "gpuNum": 0,
    "hideHardwareSpecs": false,
    "memoryGiB": 384,
    "name": "ml.m5.24xlarge",
    "vcpuNum": 96
   },
   {
    "_defaultOrder": 12,
    "_isFastLaunch": false,
    "category": "General purpose",
    "gpuNum": 0,
    "hideHardwareSpecs": false,
    "memoryGiB": 8,
    "name": "ml.m5d.large",
    "vcpuNum": 2
   },
   {
    "_defaultOrder": 13,
    "_isFastLaunch": false,
    "category": "General purpose",
    "gpuNum": 0,
    "hideHardwareSpecs": false,
    "memoryGiB": 16,
    "name": "ml.m5d.xlarge",
    "vcpuNum": 4
   },
   {
    "_defaultOrder": 14,
    "_isFastLaunch": false,
    "category": "General purpose",
    "gpuNum": 0,
    "hideHardwareSpecs": false,
    "memoryGiB": 32,
    "name": "ml.m5d.2xlarge",
    "vcpuNum": 8
   },
   {
    "_defaultOrder": 15,
    "_isFastLaunch": false,
    "category": "General purpose",
    "gpuNum": 0,
    "hideHardwareSpecs": false,
    "memoryGiB": 64,
    "name": "ml.m5d.4xlarge",
    "vcpuNum": 16
   },
   {
    "_defaultOrder": 16,
    "_isFastLaunch": false,
    "category": "General purpose",
    "gpuNum": 0,
    "hideHardwareSpecs": false,
    "memoryGiB": 128,
    "name": "ml.m5d.8xlarge",
    "vcpuNum": 32
   },
   {
    "_defaultOrder": 17,
    "_isFastLaunch": false,
    "category": "General purpose",
    "gpuNum": 0,
    "hideHardwareSpecs": false,
    "memoryGiB": 192,
    "name": "ml.m5d.12xlarge",
    "vcpuNum": 48
   },
   {
    "_defaultOrder": 18,
    "_isFastLaunch": false,
    "category": "General purpose",
    "gpuNum": 0,
    "hideHardwareSpecs": false,
    "memoryGiB": 256,
    "name": "ml.m5d.16xlarge",
    "vcpuNum": 64
   },
   {
    "_defaultOrder": 19,
    "_isFastLaunch": false,
    "category": "General purpose",
    "gpuNum": 0,
    "hideHardwareSpecs": false,
    "memoryGiB": 384,
    "name": "ml.m5d.24xlarge",
    "vcpuNum": 96
   },
   {
    "_defaultOrder": 20,
    "_isFastLaunch": false,
    "category": "General purpose",
    "gpuNum": 0,
    "hideHardwareSpecs": true,
    "memoryGiB": 0,
    "name": "ml.geospatial.interactive",
    "supportedImageNames": [
     "sagemaker-geospatial-v1-0"
    ],
    "vcpuNum": 0
   },
   {
    "_defaultOrder": 21,
    "_isFastLaunch": true,
    "category": "Compute optimized",
    "gpuNum": 0,
    "hideHardwareSpecs": false,
    "memoryGiB": 4,
    "name": "ml.c5.large",
    "vcpuNum": 2
   },
   {
    "_defaultOrder": 22,
    "_isFastLaunch": false,
    "category": "Compute optimized",
    "gpuNum": 0,
    "hideHardwareSpecs": false,
    "memoryGiB": 8,
    "name": "ml.c5.xlarge",
    "vcpuNum": 4
   },
   {
    "_defaultOrder": 23,
    "_isFastLaunch": false,
    "category": "Compute optimized",
    "gpuNum": 0,
    "hideHardwareSpecs": false,
    "memoryGiB": 16,
    "name": "ml.c5.2xlarge",
    "vcpuNum": 8
   },
   {
    "_defaultOrder": 24,
    "_isFastLaunch": false,
    "category": "Compute optimized",
    "gpuNum": 0,
    "hideHardwareSpecs": false,
    "memoryGiB": 32,
    "name": "ml.c5.4xlarge",
    "vcpuNum": 16
   },
   {
    "_defaultOrder": 25,
    "_isFastLaunch": false,
    "category": "Compute optimized",
    "gpuNum": 0,
    "hideHardwareSpecs": false,
    "memoryGiB": 72,
    "name": "ml.c5.9xlarge",
    "vcpuNum": 36
   },
   {
    "_defaultOrder": 26,
    "_isFastLaunch": false,
    "category": "Compute optimized",
    "gpuNum": 0,
    "hideHardwareSpecs": false,
    "memoryGiB": 96,
    "name": "ml.c5.12xlarge",
    "vcpuNum": 48
   },
   {
    "_defaultOrder": 27,
    "_isFastLaunch": false,
    "category": "Compute optimized",
    "gpuNum": 0,
    "hideHardwareSpecs": false,
    "memoryGiB": 144,
    "name": "ml.c5.18xlarge",
    "vcpuNum": 72
   },
   {
    "_defaultOrder": 28,
    "_isFastLaunch": false,
    "category": "Compute optimized",
    "gpuNum": 0,
    "hideHardwareSpecs": false,
    "memoryGiB": 192,
    "name": "ml.c5.24xlarge",
    "vcpuNum": 96
   },
   {
    "_defaultOrder": 29,
    "_isFastLaunch": true,
    "category": "Accelerated computing",
    "gpuNum": 1,
    "hideHardwareSpecs": false,
    "memoryGiB": 16,
    "name": "ml.g4dn.xlarge",
    "vcpuNum": 4
   },
   {
    "_defaultOrder": 30,
    "_isFastLaunch": false,
    "category": "Accelerated computing",
    "gpuNum": 1,
    "hideHardwareSpecs": false,
    "memoryGiB": 32,
    "name": "ml.g4dn.2xlarge",
    "vcpuNum": 8
   },
   {
    "_defaultOrder": 31,
    "_isFastLaunch": false,
    "category": "Accelerated computing",
    "gpuNum": 1,
    "hideHardwareSpecs": false,
    "memoryGiB": 64,
    "name": "ml.g4dn.4xlarge",
    "vcpuNum": 16
   },
   {
    "_defaultOrder": 32,
    "_isFastLaunch": false,
    "category": "Accelerated computing",
    "gpuNum": 1,
    "hideHardwareSpecs": false,
    "memoryGiB": 128,
    "name": "ml.g4dn.8xlarge",
    "vcpuNum": 32
   },
   {
    "_defaultOrder": 33,
    "_isFastLaunch": false,
    "category": "Accelerated computing",
    "gpuNum": 4,
    "hideHardwareSpecs": false,
    "memoryGiB": 192,
    "name": "ml.g4dn.12xlarge",
    "vcpuNum": 48
   },
   {
    "_defaultOrder": 34,
    "_isFastLaunch": false,
    "category": "Accelerated computing",
    "gpuNum": 1,
    "hideHardwareSpecs": false,
    "memoryGiB": 256,
    "name": "ml.g4dn.16xlarge",
    "vcpuNum": 64
   },
   {
    "_defaultOrder": 35,
    "_isFastLaunch": false,
    "category": "Accelerated computing",
    "gpuNum": 1,
    "hideHardwareSpecs": false,
    "memoryGiB": 61,
    "name": "ml.p3.2xlarge",
    "vcpuNum": 8
   },
   {
    "_defaultOrder": 36,
    "_isFastLaunch": false,
    "category": "Accelerated computing",
    "gpuNum": 4,
    "hideHardwareSpecs": false,
    "memoryGiB": 244,
    "name": "ml.p3.8xlarge",
    "vcpuNum": 32
   },
   {
    "_defaultOrder": 37,
    "_isFastLaunch": false,
    "category": "Accelerated computing",
    "gpuNum": 8,
    "hideHardwareSpecs": false,
    "memoryGiB": 488,
    "name": "ml.p3.16xlarge",
    "vcpuNum": 64
   },
   {
    "_defaultOrder": 38,
    "_isFastLaunch": false,
    "category": "Accelerated computing",
    "gpuNum": 8,
    "hideHardwareSpecs": false,
    "memoryGiB": 768,
    "name": "ml.p3dn.24xlarge",
    "vcpuNum": 96
   },
   {
    "_defaultOrder": 39,
    "_isFastLaunch": false,
    "category": "Memory Optimized",
    "gpuNum": 0,
    "hideHardwareSpecs": false,
    "memoryGiB": 16,
    "name": "ml.r5.large",
    "vcpuNum": 2
   },
   {
    "_defaultOrder": 40,
    "_isFastLaunch": false,
    "category": "Memory Optimized",
    "gpuNum": 0,
    "hideHardwareSpecs": false,
    "memoryGiB": 32,
    "name": "ml.r5.xlarge",
    "vcpuNum": 4
   },
   {
    "_defaultOrder": 41,
    "_isFastLaunch": false,
    "category": "Memory Optimized",
    "gpuNum": 0,
    "hideHardwareSpecs": false,
    "memoryGiB": 64,
    "name": "ml.r5.2xlarge",
    "vcpuNum": 8
   },
   {
    "_defaultOrder": 42,
    "_isFastLaunch": false,
    "category": "Memory Optimized",
    "gpuNum": 0,
    "hideHardwareSpecs": false,
    "memoryGiB": 128,
    "name": "ml.r5.4xlarge",
    "vcpuNum": 16
   },
   {
    "_defaultOrder": 43,
    "_isFastLaunch": false,
    "category": "Memory Optimized",
    "gpuNum": 0,
    "hideHardwareSpecs": false,
    "memoryGiB": 256,
    "name": "ml.r5.8xlarge",
    "vcpuNum": 32
   },
   {
    "_defaultOrder": 44,
    "_isFastLaunch": false,
    "category": "Memory Optimized",
    "gpuNum": 0,
    "hideHardwareSpecs": false,
    "memoryGiB": 384,
    "name": "ml.r5.12xlarge",
    "vcpuNum": 48
   },
   {
    "_defaultOrder": 45,
    "_isFastLaunch": false,
    "category": "Memory Optimized",
    "gpuNum": 0,
    "hideHardwareSpecs": false,
    "memoryGiB": 512,
    "name": "ml.r5.16xlarge",
    "vcpuNum": 64
   },
   {
    "_defaultOrder": 46,
    "_isFastLaunch": false,
    "category": "Memory Optimized",
    "gpuNum": 0,
    "hideHardwareSpecs": false,
    "memoryGiB": 768,
    "name": "ml.r5.24xlarge",
    "vcpuNum": 96
   },
   {
    "_defaultOrder": 47,
    "_isFastLaunch": false,
    "category": "Accelerated computing",
    "gpuNum": 1,
    "hideHardwareSpecs": false,
    "memoryGiB": 16,
    "name": "ml.g5.xlarge",
    "vcpuNum": 4
   },
   {
    "_defaultOrder": 48,
    "_isFastLaunch": false,
    "category": "Accelerated computing",
    "gpuNum": 1,
    "hideHardwareSpecs": false,
    "memoryGiB": 32,
    "name": "ml.g5.2xlarge",
    "vcpuNum": 8
   },
   {
    "_defaultOrder": 49,
    "_isFastLaunch": false,
    "category": "Accelerated computing",
    "gpuNum": 1,
    "hideHardwareSpecs": false,
    "memoryGiB": 64,
    "name": "ml.g5.4xlarge",
    "vcpuNum": 16
   },
   {
    "_defaultOrder": 50,
    "_isFastLaunch": false,
    "category": "Accelerated computing",
    "gpuNum": 1,
    "hideHardwareSpecs": false,
    "memoryGiB": 128,
    "name": "ml.g5.8xlarge",
    "vcpuNum": 32
   },
   {
    "_defaultOrder": 51,
    "_isFastLaunch": false,
    "category": "Accelerated computing",
    "gpuNum": 1,
    "hideHardwareSpecs": false,
    "memoryGiB": 256,
    "name": "ml.g5.16xlarge",
    "vcpuNum": 64
   },
   {
    "_defaultOrder": 52,
    "_isFastLaunch": false,
    "category": "Accelerated computing",
    "gpuNum": 4,
    "hideHardwareSpecs": false,
    "memoryGiB": 192,
    "name": "ml.g5.12xlarge",
    "vcpuNum": 48
   },
   {
    "_defaultOrder": 53,
    "_isFastLaunch": false,
    "category": "Accelerated computing",
    "gpuNum": 4,
    "hideHardwareSpecs": false,
    "memoryGiB": 384,
    "name": "ml.g5.24xlarge",
    "vcpuNum": 96
   },
   {
    "_defaultOrder": 54,
    "_isFastLaunch": false,
    "category": "Accelerated computing",
    "gpuNum": 8,
    "hideHardwareSpecs": false,
    "memoryGiB": 768,
    "name": "ml.g5.48xlarge",
    "vcpuNum": 192
   },
   {
    "_defaultOrder": 55,
    "_isFastLaunch": false,
    "category": "Accelerated computing",
    "gpuNum": 8,
    "hideHardwareSpecs": false,
    "memoryGiB": 1152,
    "name": "ml.p4d.24xlarge",
    "vcpuNum": 96
   },
   {
    "_defaultOrder": 56,
    "_isFastLaunch": false,
    "category": "Accelerated computing",
    "gpuNum": 8,
    "hideHardwareSpecs": false,
    "memoryGiB": 1152,
    "name": "ml.p4de.24xlarge",
    "vcpuNum": 96
   },
   {
    "_defaultOrder": 57,
    "_isFastLaunch": false,
    "category": "Accelerated computing",
    "gpuNum": 0,
    "hideHardwareSpecs": false,
    "memoryGiB": 32,
    "name": "ml.trn1.2xlarge",
    "vcpuNum": 8
   },
   {
    "_defaultOrder": 58,
    "_isFastLaunch": false,
    "category": "Accelerated computing",
    "gpuNum": 0,
    "hideHardwareSpecs": false,
    "memoryGiB": 512,
    "name": "ml.trn1.32xlarge",
    "vcpuNum": 128
   },
   {
    "_defaultOrder": 59,
    "_isFastLaunch": false,
    "category": "Accelerated computing",
    "gpuNum": 0,
    "hideHardwareSpecs": false,
    "memoryGiB": 512,
    "name": "ml.trn1n.32xlarge",
    "vcpuNum": 128
   }
  ],
  "instance_type": "ml.t3.medium",
  "kernelspec": {
   "display_name": "Python 3 (Data Science 3.0)",
   "language": "python",
   "name": "python3__SAGEMAKER_INTERNAL__arn:aws:sagemaker:us-east-1:081325390199:image/sagemaker-data-science-310-v1"
  },
  "language_info": {
   "codemirror_mode": {
    "name": "ipython",
    "version": 3
   },
   "file_extension": ".py",
   "mimetype": "text/x-python",
   "name": "python",
   "nbconvert_exporter": "python",
   "pygments_lexer": "ipython3",
   "version": "3.10.6"
  }
 },
 "nbformat": 4,
 "nbformat_minor": 4
}
