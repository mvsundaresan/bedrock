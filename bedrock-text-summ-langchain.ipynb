{
 "cells": [
  {
   "cell_type": "markdown",
   "id": "97572c6f-0d1a-4ee5-8e01-651a05c8e031",
   "metadata": {},
   "source": [
    "# Large File Summarization using LangChain/LCEL with Bedrock API \n",
    "## GenAI Code Accelerator \n",
    "Author: Sundaresan Manoharan - Enterprise Architecture AI/ML Team\n",
    "> *This notebook should work well with the **`Data Science 3.0`** kernel in SageMaker Studio*\n",
    "\n",
    "Text summarization in Natural Language Processing (NLP) is the process of breaking down large texts into smaller parts. It uses deep learning and machine learning models to extract important information while preserving the meaning of the text from a text document and presenting it in a concise and coherent format. It allows digesting and distilling the essence from large volumes of content efficiently. It is a key capability of LLMs with many potential applications across industries to improve understanding and save time. This notebook demostrates text summarization using Amazon Bedrock API. \n",
    "\n",
    "Challenge: A key challenge is managing large documents that exceed the token limit. Another is obtaining high quality summaries. When we work with large documents, we can face some challenges as the input text might not fit into the model context length, or the model hallucinates with large documents, or, out of memory errors, etc.\n",
    "\n",
    "To solve those problems, we are going to show an architecture that is based on the concept of chunking and chaining prompts. This architecture is leveraging LangChain which is a popular framework for developing applications powered by language models.\n",
    "\n",
    "Use Cases:\n",
    "- Books, Articles, Blogs, Research Papers\n",
    "\n",
    "Foundation Model(s):\n",
    "- Amazon Titan Lite\n",
    "\n",
    "This notebook introduces Text Summarization using Amazon Bedrock API.  \n",
    "- Uses various Foundation Models (LLM agnostic)\n",
    "- Uses a PDF document (Large document which doesn't fit LLM context window)\n",
    "- Uses simple and easy to adapt bite size'd code accelerator\n",
    "\n",
    "Insert Architecture Diagram\n",
    "\n",
    "In this architecture:\n",
    "\n",
    "1. A large document (or a giant file appending small ones) is loaded\n",
    "1. Langchain utility is used to split it into multiple smaller chunks (chunking)\n",
    "1. First chunk is sent to the model; Model returns the corresponding summary\n",
    "1. Langchain gets next chunk and appends it to the returned summary and sends the combined text as a new request to the model; the process repeats until all chunks are processed\n",
    "1. In the end, you have final summary based on entire content\n"
   ]
  },
  {
   "cell_type": "markdown",
   "id": "83862a34-d128-4235-a291-14ba2f4595db",
   "metadata": {},
   "source": [
    "### Install Libraries"
   ]
  },
  {
   "cell_type": "code",
   "execution_count": 2,
   "id": "25413009-3494-4bb5-bff3-50c17bdb0064",
   "metadata": {
    "tags": []
   },
   "outputs": [
    {
     "name": "stdout",
     "output_type": "stream",
     "text": [
      "Requirement already satisfied: pip in /opt/conda/lib/python3.10/site-packages (24.0)\n",
      "\u001b[33mWARNING: Running pip as the 'root' user can result in broken permissions and conflicting behaviour with the system package manager. It is recommended to use a virtual environment instead: https://pip.pypa.io/warnings/venv\u001b[0m\u001b[33m\n",
      "\u001b[0m"
     ]
    }
   ],
   "source": [
    "!pip install --upgrade pip"
   ]
  },
  {
   "cell_type": "code",
   "execution_count": 3,
   "id": "908a8cf7-57fc-4fe9-a2a0-bf55864b8fac",
   "metadata": {
    "scrolled": true,
    "tags": []
   },
   "outputs": [
    {
     "name": "stdout",
     "output_type": "stream",
     "text": [
      "Collecting boto3>=1.28.57\n",
      "  Downloading boto3-1.34.42-py3-none-any.whl.metadata (6.6 kB)\n",
      "Collecting awscli>=1.29.57\n",
      "  Downloading awscli-1.32.42-py3-none-any.whl.metadata (11 kB)\n",
      "Collecting botocore>=1.31.57\n",
      "  Downloading botocore-1.34.42-py3-none-any.whl.metadata (5.7 kB)\n",
      "Collecting jmespath<2.0.0,>=0.7.1 (from boto3>=1.28.57)\n",
      "  Using cached jmespath-1.0.1-py3-none-any.whl (20 kB)\n",
      "Collecting s3transfer<0.11.0,>=0.10.0 (from boto3>=1.28.57)\n",
      "  Using cached s3transfer-0.10.0-py3-none-any.whl.metadata (1.7 kB)\n",
      "Collecting docutils<0.17,>=0.10 (from awscli>=1.29.57)\n",
      "  Using cached docutils-0.16-py2.py3-none-any.whl (548 kB)\n",
      "Collecting PyYAML<6.1,>=3.10 (from awscli>=1.29.57)\n",
      "  Using cached PyYAML-6.0.1-cp310-cp310-manylinux_2_17_x86_64.manylinux2014_x86_64.whl.metadata (2.1 kB)\n",
      "Collecting colorama<0.4.5,>=0.2.5 (from awscli>=1.29.57)\n",
      "  Using cached colorama-0.4.4-py2.py3-none-any.whl (16 kB)\n",
      "Collecting rsa<4.8,>=3.1.2 (from awscli>=1.29.57)\n",
      "  Using cached rsa-4.7.2-py3-none-any.whl (34 kB)\n",
      "Collecting python-dateutil<3.0.0,>=2.1 (from botocore>=1.31.57)\n",
      "  Using cached python_dateutil-2.8.2-py2.py3-none-any.whl (247 kB)\n",
      "Collecting urllib3<2.1,>=1.25.4 (from botocore>=1.31.57)\n",
      "  Using cached urllib3-2.0.7-py3-none-any.whl.metadata (6.6 kB)\n",
      "Collecting six>=1.5 (from python-dateutil<3.0.0,>=2.1->botocore>=1.31.57)\n",
      "  Using cached six-1.16.0-py2.py3-none-any.whl (11 kB)\n",
      "Collecting pyasn1>=0.1.3 (from rsa<4.8,>=3.1.2->awscli>=1.29.57)\n",
      "  Using cached pyasn1-0.5.1-py2.py3-none-any.whl.metadata (8.6 kB)\n",
      "Downloading boto3-1.34.42-py3-none-any.whl (139 kB)\n",
      "\u001b[2K   \u001b[90m━━━━━━━━━━━━━━━━━━━━━━━━━━━━━━━━━━━━━━━━\u001b[0m \u001b[32m139.3/139.3 kB\u001b[0m \u001b[31m1.4 MB/s\u001b[0m eta \u001b[36m0:00:00\u001b[0mta \u001b[36m0:00:01\u001b[0m\n",
      "\u001b[?25hDownloading awscli-1.32.42-py3-none-any.whl (4.4 MB)\n",
      "\u001b[2K   \u001b[90m━━━━━━━━━━━━━━━━━━━━━━━━━━━━━━━━━━━━━━━━\u001b[0m \u001b[32m4.4/4.4 MB\u001b[0m \u001b[31m26.5 MB/s\u001b[0m eta \u001b[36m0:00:00\u001b[0m:00:01\u001b[0m\n",
      "\u001b[?25hDownloading botocore-1.34.42-py3-none-any.whl (12.0 MB)\n",
      "\u001b[2K   \u001b[90m━━━━━━━━━━━━━━━━━━━━━━━━━━━━━━━━━━━━━━━━\u001b[0m \u001b[32m12.0/12.0 MB\u001b[0m \u001b[31m38.0 MB/s\u001b[0m eta \u001b[36m0:00:00\u001b[0m:00:01\u001b[0m00:01\u001b[0m\n",
      "\u001b[?25hUsing cached PyYAML-6.0.1-cp310-cp310-manylinux_2_17_x86_64.manylinux2014_x86_64.whl (705 kB)\n",
      "Using cached s3transfer-0.10.0-py3-none-any.whl (82 kB)\n",
      "Using cached urllib3-2.0.7-py3-none-any.whl (124 kB)\n",
      "Using cached pyasn1-0.5.1-py2.py3-none-any.whl (84 kB)\n",
      "Installing collected packages: urllib3, six, PyYAML, pyasn1, jmespath, docutils, colorama, rsa, python-dateutil, botocore, s3transfer, boto3, awscli\n",
      "  Attempting uninstall: urllib3\n",
      "    Found existing installation: urllib3 2.0.7\n",
      "    Uninstalling urllib3-2.0.7:\n",
      "      Successfully uninstalled urllib3-2.0.7\n",
      "  Attempting uninstall: six\n",
      "    Found existing installation: six 1.16.0\n",
      "    Uninstalling six-1.16.0:\n",
      "      Successfully uninstalled six-1.16.0\n",
      "  Attempting uninstall: PyYAML\n",
      "    Found existing installation: PyYAML 6.0.1\n",
      "    Uninstalling PyYAML-6.0.1:\n",
      "      Successfully uninstalled PyYAML-6.0.1\n",
      "  Attempting uninstall: pyasn1\n",
      "    Found existing installation: pyasn1 0.5.1\n",
      "    Uninstalling pyasn1-0.5.1:\n",
      "      Successfully uninstalled pyasn1-0.5.1\n",
      "  Attempting uninstall: jmespath\n",
      "    Found existing installation: jmespath 1.0.1\n",
      "    Uninstalling jmespath-1.0.1:\n",
      "      Successfully uninstalled jmespath-1.0.1\n",
      "  Attempting uninstall: docutils\n",
      "    Found existing installation: docutils 0.16\n",
      "    Uninstalling docutils-0.16:\n",
      "      Successfully uninstalled docutils-0.16\n",
      "  Attempting uninstall: colorama\n",
      "    Found existing installation: colorama 0.4.4\n",
      "    Uninstalling colorama-0.4.4:\n",
      "      Successfully uninstalled colorama-0.4.4\n",
      "  Attempting uninstall: rsa\n",
      "    Found existing installation: rsa 4.7.2\n",
      "    Uninstalling rsa-4.7.2:\n",
      "      Successfully uninstalled rsa-4.7.2\n",
      "  Attempting uninstall: python-dateutil\n",
      "    Found existing installation: python-dateutil 2.8.2\n",
      "    Uninstalling python-dateutil-2.8.2:\n",
      "      Successfully uninstalled python-dateutil-2.8.2\n",
      "  Attempting uninstall: botocore\n",
      "    Found existing installation: botocore 1.34.39\n",
      "    Uninstalling botocore-1.34.39:\n",
      "      Successfully uninstalled botocore-1.34.39\n",
      "  Attempting uninstall: s3transfer\n",
      "    Found existing installation: s3transfer 0.10.0\n",
      "    Uninstalling s3transfer-0.10.0:\n",
      "      Successfully uninstalled s3transfer-0.10.0\n",
      "  Attempting uninstall: boto3\n",
      "    Found existing installation: boto3 1.34.39\n",
      "    Uninstalling boto3-1.34.39:\n",
      "      Successfully uninstalled boto3-1.34.39\n",
      "  Attempting uninstall: awscli\n",
      "    Found existing installation: awscli 1.32.39\n",
      "    Uninstalling awscli-1.32.39:\n",
      "      Successfully uninstalled awscli-1.32.39\n",
      "\u001b[31mERROR: pip's dependency resolver does not currently take into account all the packages that are installed. This behaviour is the source of the following dependency conflicts.\n",
      "sagemaker-datawrangler 0.4.3 requires ipywidgets<8.0.0, but you have ipywidgets 8.1.2 which is incompatible.\n",
      "sagemaker-datawrangler 0.4.3 requires sagemaker-data-insights==0.4.0, but you have sagemaker-data-insights 0.3.3 which is incompatible.\n",
      "sparkmagic 0.20.4 requires nest-asyncio==1.5.5, but you have nest-asyncio 1.6.0 which is incompatible.\u001b[0m\u001b[31m\n",
      "\u001b[0mSuccessfully installed PyYAML-6.0.1 awscli-1.32.42 boto3-1.34.42 botocore-1.34.42 colorama-0.4.4 docutils-0.16 jmespath-1.0.1 pyasn1-0.5.1 python-dateutil-2.8.2 rsa-4.7.2 s3transfer-0.10.0 six-1.16.0 urllib3-2.0.7\n",
      "\u001b[33mWARNING: Running pip as the 'root' user can result in broken permissions and conflicting behaviour with the system package manager. It is recommended to use a virtual environment instead: https://pip.pypa.io/warnings/venv\u001b[0m\u001b[33m\n",
      "\u001b[0mNote: you may need to restart the kernel to use updated packages.\n"
     ]
    }
   ],
   "source": [
    "%pip install --no-build-isolation --force-reinstall \\\n",
    "    \"boto3>=1.28.57\" \\\n",
    "    \"awscli>=1.29.57\" \\\n",
    "    \"botocore>=1.31.57\""
   ]
  },
  {
   "cell_type": "code",
   "execution_count": 4,
   "id": "10917cd1-6084-48d6-a016-2109de2f44cb",
   "metadata": {
    "scrolled": true,
    "tags": []
   },
   "outputs": [
    {
     "name": "stdout",
     "output_type": "stream",
     "text": [
      "Requirement already satisfied: langchain in /opt/conda/lib/python3.10/site-packages (0.1.6)\n",
      "Requirement already satisfied: PyYAML>=5.3 in /opt/conda/lib/python3.10/site-packages (from langchain) (6.0.1)\n",
      "Requirement already satisfied: SQLAlchemy<3,>=1.4 in /opt/conda/lib/python3.10/site-packages (from langchain) (2.0.25)\n",
      "Requirement already satisfied: aiohttp<4.0.0,>=3.8.3 in /opt/conda/lib/python3.10/site-packages (from langchain) (3.9.3)\n",
      "Requirement already satisfied: async-timeout<5.0.0,>=4.0.0 in /opt/conda/lib/python3.10/site-packages (from langchain) (4.0.3)\n",
      "Requirement already satisfied: dataclasses-json<0.7,>=0.5.7 in /opt/conda/lib/python3.10/site-packages (from langchain) (0.6.4)\n",
      "Requirement already satisfied: jsonpatch<2.0,>=1.33 in /opt/conda/lib/python3.10/site-packages (from langchain) (1.33)\n",
      "Requirement already satisfied: langchain-community<0.1,>=0.0.18 in /opt/conda/lib/python3.10/site-packages (from langchain) (0.0.19)\n",
      "Requirement already satisfied: langchain-core<0.2,>=0.1.22 in /opt/conda/lib/python3.10/site-packages (from langchain) (0.1.22)\n",
      "Requirement already satisfied: langsmith<0.1,>=0.0.83 in /opt/conda/lib/python3.10/site-packages (from langchain) (0.0.87)\n",
      "Requirement already satisfied: numpy<2,>=1 in /opt/conda/lib/python3.10/site-packages (from langchain) (1.26.4)\n",
      "Requirement already satisfied: pydantic<3,>=1 in /opt/conda/lib/python3.10/site-packages (from langchain) (1.10.14)\n",
      "Requirement already satisfied: requests<3,>=2 in /opt/conda/lib/python3.10/site-packages (from langchain) (2.31.0)\n",
      "Requirement already satisfied: tenacity<9.0.0,>=8.1.0 in /opt/conda/lib/python3.10/site-packages (from langchain) (8.2.3)\n",
      "Requirement already satisfied: aiosignal>=1.1.2 in /opt/conda/lib/python3.10/site-packages (from aiohttp<4.0.0,>=3.8.3->langchain) (1.3.1)\n",
      "Requirement already satisfied: attrs>=17.3.0 in /opt/conda/lib/python3.10/site-packages (from aiohttp<4.0.0,>=3.8.3->langchain) (23.2.0)\n",
      "Requirement already satisfied: frozenlist>=1.1.1 in /opt/conda/lib/python3.10/site-packages (from aiohttp<4.0.0,>=3.8.3->langchain) (1.4.1)\n",
      "Requirement already satisfied: multidict<7.0,>=4.5 in /opt/conda/lib/python3.10/site-packages (from aiohttp<4.0.0,>=3.8.3->langchain) (6.0.5)\n",
      "Requirement already satisfied: yarl<2.0,>=1.0 in /opt/conda/lib/python3.10/site-packages (from aiohttp<4.0.0,>=3.8.3->langchain) (1.9.4)\n",
      "Requirement already satisfied: marshmallow<4.0.0,>=3.18.0 in /opt/conda/lib/python3.10/site-packages (from dataclasses-json<0.7,>=0.5.7->langchain) (3.20.2)\n",
      "Requirement already satisfied: typing-inspect<1,>=0.4.0 in /opt/conda/lib/python3.10/site-packages (from dataclasses-json<0.7,>=0.5.7->langchain) (0.9.0)\n",
      "Requirement already satisfied: jsonpointer>=1.9 in /opt/conda/lib/python3.10/site-packages (from jsonpatch<2.0,>=1.33->langchain) (2.4)\n",
      "Requirement already satisfied: anyio<5,>=3 in /opt/conda/lib/python3.10/site-packages (from langchain-core<0.2,>=0.1.22->langchain) (4.2.0)\n",
      "Requirement already satisfied: packaging<24.0,>=23.2 in /opt/conda/lib/python3.10/site-packages (from langchain-core<0.2,>=0.1.22->langchain) (23.2)\n",
      "Requirement already satisfied: typing-extensions>=4.2.0 in /opt/conda/lib/python3.10/site-packages (from pydantic<3,>=1->langchain) (4.9.0)\n",
      "Requirement already satisfied: charset-normalizer<4,>=2 in /opt/conda/lib/python3.10/site-packages (from requests<3,>=2->langchain) (3.3.2)\n",
      "Requirement already satisfied: idna<4,>=2.5 in /opt/conda/lib/python3.10/site-packages (from requests<3,>=2->langchain) (3.6)\n",
      "Requirement already satisfied: urllib3<3,>=1.21.1 in /opt/conda/lib/python3.10/site-packages (from requests<3,>=2->langchain) (2.0.7)\n",
      "Requirement already satisfied: certifi>=2017.4.17 in /opt/conda/lib/python3.10/site-packages (from requests<3,>=2->langchain) (2024.2.2)\n",
      "Requirement already satisfied: greenlet!=0.4.17 in /opt/conda/lib/python3.10/site-packages (from SQLAlchemy<3,>=1.4->langchain) (3.0.3)\n",
      "Requirement already satisfied: sniffio>=1.1 in /opt/conda/lib/python3.10/site-packages (from anyio<5,>=3->langchain-core<0.2,>=0.1.22->langchain) (1.3.0)\n",
      "Requirement already satisfied: exceptiongroup>=1.0.2 in /opt/conda/lib/python3.10/site-packages (from anyio<5,>=3->langchain-core<0.2,>=0.1.22->langchain) (1.2.0)\n",
      "Requirement already satisfied: mypy-extensions>=0.3.0 in /opt/conda/lib/python3.10/site-packages (from typing-inspect<1,>=0.4.0->dataclasses-json<0.7,>=0.5.7->langchain) (1.0.0)\n",
      "\u001b[33mWARNING: Running pip as the 'root' user can result in broken permissions and conflicting behaviour with the system package manager. It is recommended to use a virtual environment instead: https://pip.pypa.io/warnings/venv\u001b[0m\u001b[33m\n",
      "\u001b[0mNote: you may need to restart the kernel to use updated packages.\n",
      "Requirement already satisfied: transformers in /opt/conda/lib/python3.10/site-packages (4.37.2)\n",
      "Requirement already satisfied: filelock in /opt/conda/lib/python3.10/site-packages (from transformers) (3.13.1)\n",
      "Requirement already satisfied: huggingface-hub<1.0,>=0.19.3 in /opt/conda/lib/python3.10/site-packages (from transformers) (0.20.3)\n",
      "Requirement already satisfied: numpy>=1.17 in /opt/conda/lib/python3.10/site-packages (from transformers) (1.26.4)\n",
      "Requirement already satisfied: packaging>=20.0 in /opt/conda/lib/python3.10/site-packages (from transformers) (23.2)\n",
      "Requirement already satisfied: pyyaml>=5.1 in /opt/conda/lib/python3.10/site-packages (from transformers) (6.0.1)\n",
      "Requirement already satisfied: regex!=2019.12.17 in /opt/conda/lib/python3.10/site-packages (from transformers) (2023.12.25)\n",
      "Requirement already satisfied: requests in /opt/conda/lib/python3.10/site-packages (from transformers) (2.31.0)\n",
      "Requirement already satisfied: tokenizers<0.19,>=0.14 in /opt/conda/lib/python3.10/site-packages (from transformers) (0.15.1)\n",
      "Requirement already satisfied: safetensors>=0.4.1 in /opt/conda/lib/python3.10/site-packages (from transformers) (0.4.2)\n",
      "Requirement already satisfied: tqdm>=4.27 in /opt/conda/lib/python3.10/site-packages (from transformers) (4.66.1)\n",
      "Requirement already satisfied: fsspec>=2023.5.0 in /opt/conda/lib/python3.10/site-packages (from huggingface-hub<1.0,>=0.19.3->transformers) (2024.2.0)\n",
      "Requirement already satisfied: typing-extensions>=3.7.4.3 in /opt/conda/lib/python3.10/site-packages (from huggingface-hub<1.0,>=0.19.3->transformers) (4.9.0)\n",
      "Requirement already satisfied: charset-normalizer<4,>=2 in /opt/conda/lib/python3.10/site-packages (from requests->transformers) (3.3.2)\n",
      "Requirement already satisfied: idna<4,>=2.5 in /opt/conda/lib/python3.10/site-packages (from requests->transformers) (3.6)\n",
      "Requirement already satisfied: urllib3<3,>=1.21.1 in /opt/conda/lib/python3.10/site-packages (from requests->transformers) (2.0.7)\n",
      "Requirement already satisfied: certifi>=2017.4.17 in /opt/conda/lib/python3.10/site-packages (from requests->transformers) (2024.2.2)\n",
      "\u001b[33mWARNING: Running pip as the 'root' user can result in broken permissions and conflicting behaviour with the system package manager. It is recommended to use a virtual environment instead: https://pip.pypa.io/warnings/venv\u001b[0m\u001b[33m\n",
      "\u001b[0mRequirement already satisfied: PyPDF2 in /opt/conda/lib/python3.10/site-packages (3.0.1)\n",
      "\u001b[33mWARNING: Running pip as the 'root' user can result in broken permissions and conflicting behaviour with the system package manager. It is recommended to use a virtual environment instead: https://pip.pypa.io/warnings/venv\u001b[0m\u001b[33m\n",
      "\u001b[0m"
     ]
    }
   ],
   "source": [
    "%pip install langchain\n",
    "!pip install transformers\n",
    "# install PDF Reader library\n",
    "!pip install PyPDF2\n"
   ]
  },
  {
   "cell_type": "markdown",
   "id": "205669b5-9fe7-4885-a716-428640308a13",
   "metadata": {
    "tags": []
   },
   "source": [
    "### Import Libraries"
   ]
  },
  {
   "cell_type": "code",
   "execution_count": 5,
   "id": "12c074c5-dbd7-4396-9ced-c93d57ef8e46",
   "metadata": {
    "tags": []
   },
   "outputs": [],
   "source": [
    "import json\n",
    "import os\n",
    "import sys\n",
    "import pandas as pd\n",
    "import re\n",
    "\n",
    "import boto3\n",
    "import botocore\n",
    "from IPython.display import display_markdown, Markdown, clear_output\n",
    "from PyPDF2 import PdfReader\n",
    "\n",
    "from langchain.llms.bedrock import Bedrock\n"
   ]
  },
  {
   "cell_type": "markdown",
   "id": "f892a385-2458-40c8-9416-6d74819a9d4a",
   "metadata": {},
   "source": [
    "### Initialize boto session"
   ]
  },
  {
   "cell_type": "code",
   "execution_count": 6,
   "id": "8ed5c71c-3a7e-421c-becc-ee9336e7a6d2",
   "metadata": {
    "tags": []
   },
   "outputs": [
    {
     "name": "stdout",
     "output_type": "stream",
     "text": [
      "us-east-1\n"
     ]
    }
   ],
   "source": [
    "# module_path = \"..\"\n",
    "# sys.path.append(os.path.abspath(module_path))\n",
    "\n",
    "boto_session = boto3.Session()\n",
    "aws_region = boto_session.region_name\n",
    "print(aws_region)\n",
    "br_client = boto_session.client(\"bedrock\", region_name=aws_region)\n",
    "br_runtime = boto_session.client(\"bedrock-runtime\", region_name=aws_region)\n"
   ]
  },
  {
   "cell_type": "markdown",
   "id": "cd61b405-d024-430b-8430-eb96866914e2",
   "metadata": {},
   "source": [
    "### Test Connection & List Foundation Models"
   ]
  },
  {
   "cell_type": "code",
   "execution_count": 7,
   "id": "2fa1dbd9-35b6-4cdf-aeef-0d5e41391beb",
   "metadata": {
    "tags": []
   },
   "outputs": [
    {
     "name": "stdout",
     "output_type": "stream",
     "text": [
      "(45, 10)\n"
     ]
    },
    {
     "data": {
      "text/html": [
       "<div>\n",
       "<style scoped>\n",
       "    .dataframe tbody tr th:only-of-type {\n",
       "        vertical-align: middle;\n",
       "    }\n",
       "\n",
       "    .dataframe tbody tr th {\n",
       "        vertical-align: top;\n",
       "    }\n",
       "\n",
       "    .dataframe thead th {\n",
       "        text-align: right;\n",
       "    }\n",
       "</style>\n",
       "<table border=\"1\" class=\"dataframe\">\n",
       "  <thead>\n",
       "    <tr style=\"text-align: right;\">\n",
       "      <th></th>\n",
       "      <th>modelArn</th>\n",
       "      <th>modelId</th>\n",
       "      <th>modelName</th>\n",
       "      <th>providerName</th>\n",
       "      <th>inputModalities</th>\n",
       "      <th>outputModalities</th>\n",
       "      <th>responseStreamingSupported</th>\n",
       "      <th>customizationsSupported</th>\n",
       "      <th>inferenceTypesSupported</th>\n",
       "      <th>modelLifecycle</th>\n",
       "    </tr>\n",
       "  </thead>\n",
       "  <tbody>\n",
       "    <tr>\n",
       "      <th>0</th>\n",
       "      <td>arn:aws:bedrock:us-east-1::foundation-model/am...</td>\n",
       "      <td>amazon.titan-tg1-large</td>\n",
       "      <td>Titan Text Large</td>\n",
       "      <td>Amazon</td>\n",
       "      <td>[TEXT]</td>\n",
       "      <td>[TEXT]</td>\n",
       "      <td>True</td>\n",
       "      <td>[]</td>\n",
       "      <td>[ON_DEMAND]</td>\n",
       "      <td>{'status': 'ACTIVE'}</td>\n",
       "    </tr>\n",
       "    <tr>\n",
       "      <th>1</th>\n",
       "      <td>arn:aws:bedrock:us-east-1::foundation-model/am...</td>\n",
       "      <td>amazon.titan-image-generator-v1:0</td>\n",
       "      <td>Titan Image Generator G1</td>\n",
       "      <td>Amazon</td>\n",
       "      <td>[TEXT, IMAGE]</td>\n",
       "      <td>[IMAGE]</td>\n",
       "      <td>NaN</td>\n",
       "      <td>[FINE_TUNING]</td>\n",
       "      <td>[ON_DEMAND, PROVISIONED]</td>\n",
       "      <td>{'status': 'ACTIVE'}</td>\n",
       "    </tr>\n",
       "    <tr>\n",
       "      <th>2</th>\n",
       "      <td>arn:aws:bedrock:us-east-1::foundation-model/am...</td>\n",
       "      <td>amazon.titan-image-generator-v1</td>\n",
       "      <td>Titan Image Generator G1</td>\n",
       "      <td>Amazon</td>\n",
       "      <td>[TEXT, IMAGE]</td>\n",
       "      <td>[IMAGE]</td>\n",
       "      <td>NaN</td>\n",
       "      <td>[]</td>\n",
       "      <td>[ON_DEMAND]</td>\n",
       "      <td>{'status': 'ACTIVE'}</td>\n",
       "    </tr>\n",
       "    <tr>\n",
       "      <th>3</th>\n",
       "      <td>arn:aws:bedrock:us-east-1::foundation-model/am...</td>\n",
       "      <td>amazon.titan-embed-g1-text-02</td>\n",
       "      <td>Titan Text Embeddings v2</td>\n",
       "      <td>Amazon</td>\n",
       "      <td>[TEXT]</td>\n",
       "      <td>[EMBEDDING]</td>\n",
       "      <td>NaN</td>\n",
       "      <td>[]</td>\n",
       "      <td>[ON_DEMAND]</td>\n",
       "      <td>{'status': 'ACTIVE'}</td>\n",
       "    </tr>\n",
       "    <tr>\n",
       "      <th>4</th>\n",
       "      <td>arn:aws:bedrock:us-east-1::foundation-model/am...</td>\n",
       "      <td>amazon.titan-text-lite-v1:0:4k</td>\n",
       "      <td>Titan Text G1 - Lite</td>\n",
       "      <td>Amazon</td>\n",
       "      <td>[TEXT]</td>\n",
       "      <td>[TEXT]</td>\n",
       "      <td>True</td>\n",
       "      <td>[FINE_TUNING, CONTINUED_PRE_TRAINING]</td>\n",
       "      <td>[PROVISIONED]</td>\n",
       "      <td>{'status': 'ACTIVE'}</td>\n",
       "    </tr>\n",
       "  </tbody>\n",
       "</table>\n",
       "</div>"
      ],
      "text/plain": [
       "                                            modelArn  \\\n",
       "0  arn:aws:bedrock:us-east-1::foundation-model/am...   \n",
       "1  arn:aws:bedrock:us-east-1::foundation-model/am...   \n",
       "2  arn:aws:bedrock:us-east-1::foundation-model/am...   \n",
       "3  arn:aws:bedrock:us-east-1::foundation-model/am...   \n",
       "4  arn:aws:bedrock:us-east-1::foundation-model/am...   \n",
       "\n",
       "                             modelId                 modelName providerName  \\\n",
       "0             amazon.titan-tg1-large          Titan Text Large       Amazon   \n",
       "1  amazon.titan-image-generator-v1:0  Titan Image Generator G1       Amazon   \n",
       "2    amazon.titan-image-generator-v1  Titan Image Generator G1       Amazon   \n",
       "3      amazon.titan-embed-g1-text-02  Titan Text Embeddings v2       Amazon   \n",
       "4     amazon.titan-text-lite-v1:0:4k      Titan Text G1 - Lite       Amazon   \n",
       "\n",
       "  inputModalities outputModalities responseStreamingSupported  \\\n",
       "0          [TEXT]           [TEXT]                       True   \n",
       "1   [TEXT, IMAGE]          [IMAGE]                        NaN   \n",
       "2   [TEXT, IMAGE]          [IMAGE]                        NaN   \n",
       "3          [TEXT]      [EMBEDDING]                        NaN   \n",
       "4          [TEXT]           [TEXT]                       True   \n",
       "\n",
       "                 customizationsSupported   inferenceTypesSupported  \\\n",
       "0                                     []               [ON_DEMAND]   \n",
       "1                          [FINE_TUNING]  [ON_DEMAND, PROVISIONED]   \n",
       "2                                     []               [ON_DEMAND]   \n",
       "3                                     []               [ON_DEMAND]   \n",
       "4  [FINE_TUNING, CONTINUED_PRE_TRAINING]             [PROVISIONED]   \n",
       "\n",
       "         modelLifecycle  \n",
       "0  {'status': 'ACTIVE'}  \n",
       "1  {'status': 'ACTIVE'}  \n",
       "2  {'status': 'ACTIVE'}  \n",
       "3  {'status': 'ACTIVE'}  \n",
       "4  {'status': 'ACTIVE'}  "
      ]
     },
     "execution_count": 7,
     "metadata": {},
     "output_type": "execute_result"
    }
   ],
   "source": [
    "fms = br_client.list_foundation_models()['modelSummaries']\n",
    "dfFM = pd.DataFrame(fms)\n",
    "print(dfFM.shape)\n",
    "dfFM.head()"
   ]
  },
  {
   "cell_type": "code",
   "execution_count": 8,
   "id": "9d40e865-f417-4dcd-ad88-72fe78253a60",
   "metadata": {
    "tags": []
   },
   "outputs": [
    {
     "data": {
      "text/plain": [
       "Index(['modelArn', 'modelId', 'modelName', 'providerName', 'inputModalities',\n",
       "       'outputModalities', 'responseStreamingSupported',\n",
       "       'customizationsSupported', 'inferenceTypesSupported', 'modelLifecycle'],\n",
       "      dtype='object')"
      ]
     },
     "execution_count": 8,
     "metadata": {},
     "output_type": "execute_result"
    }
   ],
   "source": [
    "dfFM.columns"
   ]
  },
  {
   "cell_type": "code",
   "execution_count": 9,
   "id": "4b147e97-1057-42b6-87ac-355fd743158b",
   "metadata": {
    "tags": []
   },
   "outputs": [
    {
     "data": {
      "text/plain": [
       "array(['Titan Text Large', 'Titan Image Generator G1',\n",
       "       'Titan Text Embeddings v2', 'Titan Text G1 - Lite',\n",
       "       'Titan Text G1 - Express', 'Titan Embeddings G1 - Text',\n",
       "       'Titan Multimodal Embeddings G1', 'SDXL 0.8', 'SDXL 1.0',\n",
       "       'J2 Grande Instruct', 'J2 Jumbo Instruct', 'Jurassic-2 Mid',\n",
       "       'Jurassic-2 Ultra', 'Claude Instant', 'Claude', 'Command',\n",
       "       'Command Light', 'Embed English', 'Embed Multilingual',\n",
       "       'Llama 2 Chat 13B', 'Llama 2 Chat 70B', 'Llama 2 13B',\n",
       "       'Llama 2 70B'], dtype=object)"
      ]
     },
     "execution_count": 9,
     "metadata": {},
     "output_type": "execute_result"
    }
   ],
   "source": [
    "dfFM.modelName.unique()"
   ]
  },
  {
   "cell_type": "markdown",
   "id": "bfc0135b-8ca9-47e5-a4f7-eda0a63cb85b",
   "metadata": {},
   "source": [
    "## Large Document Summarization\n",
    "\n",
    "### Download a public dataset"
   ]
  },
  {
   "cell_type": "code",
   "execution_count": 10,
   "id": "0c7c9343-cb9c-4cb2-826c-7fed4f09265f",
   "metadata": {
    "tags": []
   },
   "outputs": [
    {
     "name": "stderr",
     "output_type": "stream",
     "text": [
      "--2024-02-15 00:05:02--  https://www.fanniemae.com/media/48156/display\n",
      "Resolving www.fanniemae.com (www.fanniemae.com)... 104.18.27.25, 104.18.26.25, 2606:4700::6812:1b19, ...\n",
      "Connecting to www.fanniemae.com (www.fanniemae.com)|104.18.27.25|:443... connected.\n",
      "HTTP request sent, awaiting response... 200 OK\n",
      "Length: 8202655 (7.8M) [application/pdf]\n",
      "Saving to: ‘fnma-esg-2022.pdf’\n",
      "\n",
      "     0K .......... .......... .......... .......... ..........  0% 29.8M 0s\n",
      "    50K .......... .......... .......... .......... ..........  1%  176M 0s\n",
      "   100K .......... .......... .......... .......... ..........  1%  172M 0s\n",
      "   150K .......... .......... .......... .......... ..........  2% 29.2M 0s\n",
      "   200K .......... .......... .......... .......... ..........  3% 75.6M 0s\n",
      "   250K .......... .......... .......... .......... ..........  3% 21.0M 0s\n",
      "   300K .......... .......... .......... .......... ..........  4% 10.7M 0s\n",
      "   350K .......... .......... .......... .......... ..........  4% 87.2M 0s\n",
      "   400K .......... .......... .......... .......... ..........  5%  296M 0s\n",
      "   450K .......... .......... .......... .......... ..........  6%  298M 0s\n",
      "   500K .......... .......... .......... .......... ..........  6%  201M 0s\n",
      "   550K .......... .......... .......... .......... ..........  7% 91.2M 0s\n",
      "   600K .......... .......... .......... .......... ..........  8%  428M 0s\n",
      "   650K .......... .......... .......... .......... ..........  8% 14.6M 0s\n",
      "   700K .......... .......... .......... .......... ..........  9%  259M 0s\n",
      "   750K .......... .......... .......... .......... ..........  9% 20.5M 0s\n",
      "   800K .......... .......... .......... .......... .......... 10%  156M 0s\n",
      "   850K .......... .......... .......... .......... .......... 11%  269M 0s\n",
      "   900K .......... .......... .......... .......... .......... 11% 82.7M 0s\n",
      "   950K .......... .......... .......... .......... .......... 12%  288M 0s\n",
      "  1000K .......... .......... .......... .......... .......... 13% 44.6M 0s\n",
      "  1050K .......... .......... .......... .......... .......... 13% 2.98M 0s\n",
      "  1100K .......... .......... .......... .......... .......... 14%  227M 0s\n",
      "  1150K .......... .......... .......... .......... .......... 14%  285M 0s\n",
      "  1200K .......... .......... .......... .......... .......... 15%  330M 0s\n",
      "  1250K .......... .......... .......... .......... .......... 16%  315M 0s\n",
      "  1300K .......... .......... .......... .......... .......... 16% 28.6M 0s\n",
      "  1350K .......... .......... .......... .......... .......... 17%  112M 0s\n",
      "  1400K .......... .......... .......... .......... .......... 18%  159M 0s\n",
      "  1450K .......... .......... .......... .......... .......... 18%  359M 0s\n",
      "  1500K .......... .......... .......... .......... .......... 19%  365M 0s\n",
      "  1550K .......... .......... .......... .......... .......... 19% 46.8M 0s\n",
      "  1600K .......... .......... .......... .......... .......... 20% 11.3M 0s\n",
      "  1650K .......... .......... .......... .......... .......... 21%  304M 0s\n",
      "  1700K .......... .......... .......... .......... .......... 21%  304M 0s\n",
      "  1750K .......... .......... .......... .......... .......... 22%  124M 0s\n",
      "  1800K .......... .......... .......... .......... .......... 23%  279M 0s\n",
      "  1850K .......... .......... .......... .......... .......... 23%  313M 0s\n",
      "  1900K .......... .......... .......... .......... .......... 24%  260M 0s\n",
      "  1950K .......... .......... .......... .......... .......... 24%  326M 0s\n",
      "  2000K .......... .......... .......... .......... .......... 25%  308M 0s\n",
      "  2050K .......... .......... .......... .......... .......... 26%  306M 0s\n",
      "  2100K .......... .......... .......... .......... .......... 26%  255M 0s\n",
      "  2150K .......... .......... .......... .......... .......... 27%  316M 0s\n",
      "  2200K .......... .......... .......... .......... .......... 28%  173M 0s\n",
      "  2250K .......... .......... .......... .......... .......... 28%  234M 0s\n",
      "  2300K .......... .......... .......... .......... .......... 29% 22.0M 0s\n",
      "  2350K .......... .......... .......... .......... .......... 29% 18.0M 0s\n",
      "  2400K .......... .......... .......... .......... .......... 30%  287M 0s\n",
      "  2450K .......... .......... .......... .......... .......... 31%  299M 0s\n",
      "  2500K .......... .......... .......... .......... .......... 31%  253M 0s\n",
      "  2550K .......... .......... .......... .......... .......... 32%  328M 0s\n",
      "  2600K .......... .......... .......... .......... .......... 33%  199M 0s\n",
      "  2650K .......... .......... .......... .......... .......... 33%  339M 0s\n",
      "  2700K .......... .......... .......... .......... .......... 34%  191M 0s\n",
      "  2750K .......... .......... .......... .......... .......... 34% 30.7M 0s\n",
      "  2800K .......... .......... .......... .......... .......... 35%  137M 0s\n",
      "  2850K .......... .......... .......... .......... .......... 36% 60.2M 0s\n",
      "  2900K .......... .......... .......... .......... .......... 36% 87.1M 0s\n",
      "  2950K .......... .......... .......... .......... .......... 37%  150M 0s\n",
      "  3000K .......... .......... .......... .......... .......... 38% 60.7M 0s\n",
      "  3050K .......... .......... .......... .......... .......... 38% 25.4M 0s\n",
      "  3100K .......... .......... .......... .......... .......... 39%  146M 0s\n",
      "  3150K .......... .......... .......... .......... .......... 39% 58.4M 0s\n",
      "  3200K .......... .......... .......... .......... .......... 40%  159M 0s\n",
      "  3250K .......... .......... .......... .......... .......... 41%  290M 0s\n",
      "  3300K .......... .......... .......... .......... .......... 41% 6.21M 0s\n",
      "  3350K .......... .......... .......... .......... .......... 42% 97.6M 0s\n",
      "  3400K .......... .......... .......... .......... .......... 43%  135M 0s\n",
      "  3450K .......... .......... .......... .......... .......... 43%  131M 0s\n",
      "  3500K .......... .......... .......... .......... .......... 44%  255M 0s\n",
      "  3550K .......... .......... .......... .......... .......... 44%  229M 0s\n",
      "  3600K .......... .......... .......... .......... .......... 45%  180M 0s\n",
      "  3650K .......... .......... .......... .......... .......... 46%  286M 0s\n",
      "  3700K .......... .......... .......... .......... .......... 46%  197M 0s\n",
      "  3750K .......... .......... .......... .......... .......... 47%  315M 0s\n",
      "  3800K .......... .......... .......... .......... .......... 48% 61.9M 0s\n",
      "  3850K .......... .......... .......... .......... .......... 48% 29.4M 0s\n",
      "  3900K .......... .......... .......... .......... .......... 49%  112M 0s\n",
      "  3950K .......... .......... .......... .......... .......... 49%  195M 0s\n",
      "  4000K .......... .......... .......... .......... .......... 50%  204M 0s\n",
      "  4050K .......... .......... .......... .......... .......... 51% 71.6M 0s\n",
      "  4100K .......... .......... .......... .......... .......... 51%  371M 0s\n",
      "  4150K .......... .......... .......... .......... .......... 52%  453M 0s\n",
      "  4200K .......... .......... .......... .......... .......... 53%  442M 0s\n",
      "  4250K .......... .......... .......... .......... .......... 53%  155M 0s\n",
      "  4300K .......... .......... .......... .......... .......... 54% 22.8M 0s\n",
      "  4350K .......... .......... .......... .......... .......... 54%  120M 0s\n",
      "  4400K .......... .......... .......... .......... .......... 55% 58.8M 0s\n",
      "  4450K .......... .......... .......... .......... .......... 56%  310M 0s\n",
      "  4500K .......... .......... .......... .......... .......... 56%  266M 0s\n",
      "  4550K .......... .......... .......... .......... .......... 57%  331M 0s\n",
      "  4600K .......... .......... .......... .......... .......... 58%  168M 0s\n",
      "  4650K .......... .......... .......... .......... .......... 58% 13.0M 0s\n",
      "  4700K .......... .......... .......... .......... .......... 59%  270M 0s\n",
      "  4750K .......... .......... .......... .......... .......... 59%  450M 0s\n",
      "  4800K .......... .......... .......... .......... .......... 60%  207M 0s\n",
      "  4850K .......... .......... .......... .......... .......... 61%  432M 0s\n",
      "  4900K .......... .......... .......... .......... .......... 61%  397M 0s\n",
      "  4950K .......... .......... .......... .......... .......... 62%  247M 0s\n",
      "  5000K .......... .......... .......... .......... .......... 63%  337M 0s\n",
      "  5050K .......... .......... .......... .......... .......... 63%  279M 0s\n",
      "  5100K .......... .......... .......... .......... .......... 64%  262M 0s\n",
      "  5150K .......... .......... .......... .......... .......... 64%  124M 0s\n",
      "  5200K .......... .......... .......... .......... .......... 65%  223M 0s\n",
      "  5250K .......... .......... .......... .......... .......... 66%  212M 0s\n",
      "  5300K .......... .......... .......... .......... .......... 66% 93.7M 0s\n",
      "  5350K .......... .......... .......... .......... .......... 67%  126M 0s\n",
      "  5400K .......... .......... .......... .......... .......... 68%  333M 0s\n",
      "  5450K .......... .......... .......... .......... .......... 68%  324M 0s\n",
      "  5500K .......... .......... .......... .......... .......... 69%  173M 0s\n",
      "  5550K .......... .......... .......... .......... .......... 69%  303M 0s\n",
      "  5600K .......... .......... .......... .......... .......... 70%  333M 0s\n",
      "  5650K .......... .......... .......... .......... .......... 71%  291M 0s\n",
      "  5700K .......... .......... .......... .......... .......... 71%  286M 0s\n",
      "  5750K .......... .......... .......... .......... .......... 72%  333M 0s\n",
      "  5800K .......... .......... .......... .......... .......... 73%  323M 0s\n",
      "  5850K .......... .......... .......... .......... .......... 73%  305M 0s\n",
      "  5900K .......... .......... .......... .......... .......... 74%  209M 0s\n",
      "  5950K .......... .......... .......... .......... .......... 74%  319M 0s\n",
      "  6000K .......... .......... .......... .......... .......... 75%  316M 0s\n",
      "  6050K .......... .......... .......... .......... .......... 76%  312M 0s\n",
      "  6100K .......... .......... .......... .......... .......... 76%  297M 0s\n",
      "  6150K .......... .......... .......... .......... .......... 77%  310M 0s\n",
      "  6200K .......... .......... .......... .......... .......... 78%  162M 0s\n",
      "  6250K .......... .......... .......... .......... .......... 78%  133M 0s\n",
      "  6300K .......... .......... .......... .......... .......... 79% 75.1M 0s\n",
      "  6350K .......... .......... .......... .......... .......... 79% 78.9M 0s\n",
      "  6400K .......... .......... .......... .......... .......... 80%  141M 0s\n",
      "  6450K .......... .......... .......... .......... .......... 81% 60.2M 0s\n",
      "  6500K .......... .......... .......... .......... .......... 81%  232M 0s\n",
      "  6550K .......... .......... .......... .......... .......... 82%  319M 0s\n",
      "  6600K .......... .......... .......... .......... .......... 83%  308M 0s\n",
      "  6650K .......... .......... .......... .......... .......... 83%  322M 0s\n",
      "  6700K .......... .......... .......... .......... .......... 84%  251M 0s\n",
      "  6750K .......... .......... .......... .......... .......... 84%  326M 0s\n",
      "  6800K .......... .......... .......... .......... .......... 85%  197M 0s\n",
      "  6850K .......... .......... .......... .......... .......... 86%  155M 0s\n",
      "  6900K .......... .......... .......... .......... .......... 86%  268M 0s\n",
      "  6950K .......... .......... .......... .......... .......... 87%  330M 0s\n",
      "  7000K .......... .......... .......... .......... .......... 88%  216M 0s\n",
      "  7050K .......... .......... .......... .......... .......... 88%  317M 0s\n",
      "  7100K .......... .......... .......... .......... .......... 89%  254M 0s\n",
      "  7150K .......... .......... .......... .......... .......... 89%  315M 0s\n",
      "  7200K .......... .......... .......... .......... .......... 90%  327M 0s\n",
      "  7250K .......... .......... .......... .......... .......... 91%  300M 0s\n",
      "  7300K .......... .......... .......... .......... .......... 91%  284M 0s\n",
      "  7350K .......... .......... .......... .......... .......... 92%  296M 0s\n",
      "  7400K .......... .......... .......... .......... .......... 93%  279M 0s\n",
      "  7450K .......... .......... .......... .......... .......... 93%  301M 0s\n",
      "  7500K .......... .......... .......... .......... .......... 94%  246M 0s\n",
      "  7550K .......... .......... .......... .......... .......... 94%  278M 0s\n",
      "  7600K .......... .......... .......... .......... .......... 95%  220M 0s\n",
      "  7650K .......... .......... .......... .......... .......... 96%  315M 0s\n",
      "  7700K .......... .......... .......... .......... .......... 96%  289M 0s\n",
      "  7750K .......... .......... .......... .......... .......... 97%  310M 0s\n",
      "  7800K .......... .......... .......... .......... .......... 97%  326M 0s\n",
      "  7850K .......... .......... .......... .......... .......... 98%  323M 0s\n",
      "  7900K .......... .......... .......... .......... .......... 99%  256M 0s\n",
      "  7950K .......... .......... .......... .......... .......... 99% 36.1M 0s\n",
      "  8000K ..........                                            100%  349M=0.1s\n",
      "\n",
      "2024-02-15 00:05:02 (76.7 MB/s) - ‘fnma-esg-2022.pdf’ saved [8202655/8202655]\n",
      "\n"
     ]
    }
   ],
   "source": [
    "%%sh\n",
    "# 49786\n",
    "wget -O fnma-esg-2022.pdf https://www.fanniemae.com/media/48156/display"
   ]
  },
  {
   "cell_type": "markdown",
   "id": "42d50fa6-a170-47d1-b1f4-9060d7e9288c",
   "metadata": {},
   "source": [
    "### Read and Extract Text from PDF File"
   ]
  },
  {
   "cell_type": "code",
   "execution_count": 11,
   "id": "60b61507-8017-4dba-a78a-318eb0c69204",
   "metadata": {
    "tags": []
   },
   "outputs": [
    {
     "name": "stdout",
     "output_type": "stream",
     "text": [
      "Total Pages: 78\n"
     ]
    }
   ],
   "source": [
    "filename = 'fnma-esg-2022.pdf'\n",
    "reader = PdfReader(filename)\n",
    "print(\"Total Pages:\", len(reader.pages))\n"
   ]
  },
  {
   "cell_type": "code",
   "execution_count": 12,
   "id": "756f95dd-7dc9-4772-b81d-3909055c221c",
   "metadata": {
    "tags": []
   },
   "outputs": [
    {
     "name": "stdout",
     "output_type": "stream",
     "text": [
      "Extracted 78 pages successfully.\n"
     ]
    }
   ],
   "source": [
    "pages = []\n",
    "\n",
    "for idx, page in enumerate(reader.pages):\n",
    "    # print(\"Page \", idx + 1, \"\\n\")\n",
    "    text = page.extract_text(0) # 0 for orientation 90 degree upright \n",
    "    pages.append(text)\n",
    "    # print(text, \"\\n\\n\")\n",
    "    \n",
    "print(f\"Extracted {idx+1} pages successfully.\")"
   ]
  },
  {
   "cell_type": "code",
   "execution_count": 13,
   "id": "cc27c86e-6bc7-49d4-b211-f28d24710090",
   "metadata": {
    "tags": []
   },
   "outputs": [
    {
     "name": "stdout",
     "output_type": "stream",
     "text": [
      "Total Word Count: 7039\n"
     ]
    }
   ],
   "source": [
    "import re\n",
    "# combime extracted text from all pages\n",
    "all_text = \"\\n\".join(pages[5:20])\n",
    "# count the number of tokens\n",
    "print('Total Word Count:', len(re.findall(r\"[\\w']+\", all_text)))"
   ]
  },
  {
   "cell_type": "markdown",
   "id": "36c546d7-06fc-4ebc-ae10-36b2de3ec7c1",
   "metadata": {},
   "source": [
    "### Send Large Text Directly to Small Context Window\n",
    "\n",
    "The following cell sends the large text directly to the LLM for inference. You will see warning indicating the number of tokens in the text file exceeeds the maximum number of tokens for this model."
   ]
  },
  {
   "cell_type": "code",
   "execution_count": 14,
   "id": "5296096f-e744-4d9c-bbb1-a1c1f46a0436",
   "metadata": {
    "tags": []
   },
   "outputs": [],
   "source": [
    "prompt = f\"\"\"\n",
    "Please provide a summary of the following text. \n",
    "\n",
    "<text>\n",
    "{all_text}\n",
    "</text>\n",
    "\n",
    "\"\"\""
   ]
  },
  {
   "cell_type": "code",
   "execution_count": 15,
   "id": "c3cc1ff4-bb9a-490d-aa5a-678b64103225",
   "metadata": {
    "tags": []
   },
   "outputs": [
    {
     "ename": "ValidationException",
     "evalue": "An error occurred (ValidationException) when calling the InvokeModel operation: Malformed input request: expected maxLength: 42000, actual: 46393, please reformat your input and try again.",
     "output_type": "error",
     "traceback": [
      "\u001b[0;31m---------------------------------------------------------------------------\u001b[0m",
      "\u001b[0;31mValidationException\u001b[0m                       Traceback (most recent call last)",
      "File \u001b[0;32m<timed exec>:23\u001b[0m\n",
      "File \u001b[0;32m<timed exec>:16\u001b[0m\n",
      "File \u001b[0;32m/opt/conda/lib/python3.10/site-packages/botocore/client.py:553\u001b[0m, in \u001b[0;36mClientCreator._create_api_method.<locals>._api_call\u001b[0;34m(self, *args, **kwargs)\u001b[0m\n\u001b[1;32m    549\u001b[0m     \u001b[38;5;28;01mraise\u001b[39;00m \u001b[38;5;167;01mTypeError\u001b[39;00m(\n\u001b[1;32m    550\u001b[0m         \u001b[38;5;124mf\u001b[39m\u001b[38;5;124m\"\u001b[39m\u001b[38;5;132;01m{\u001b[39;00mpy_operation_name\u001b[38;5;132;01m}\u001b[39;00m\u001b[38;5;124m() only accepts keyword arguments.\u001b[39m\u001b[38;5;124m\"\u001b[39m\n\u001b[1;32m    551\u001b[0m     )\n\u001b[1;32m    552\u001b[0m \u001b[38;5;66;03m# The \"self\" in this scope is referring to the BaseClient.\u001b[39;00m\n\u001b[0;32m--> 553\u001b[0m \u001b[38;5;28;01mreturn\u001b[39;00m \u001b[38;5;28;43mself\u001b[39;49m\u001b[38;5;241;43m.\u001b[39;49m\u001b[43m_make_api_call\u001b[49m\u001b[43m(\u001b[49m\u001b[43moperation_name\u001b[49m\u001b[43m,\u001b[49m\u001b[43m \u001b[49m\u001b[43mkwargs\u001b[49m\u001b[43m)\u001b[49m\n",
      "File \u001b[0;32m/opt/conda/lib/python3.10/site-packages/botocore/client.py:1009\u001b[0m, in \u001b[0;36mBaseClient._make_api_call\u001b[0;34m(self, operation_name, api_params)\u001b[0m\n\u001b[1;32m   1005\u001b[0m     error_code \u001b[38;5;241m=\u001b[39m error_info\u001b[38;5;241m.\u001b[39mget(\u001b[38;5;124m\"\u001b[39m\u001b[38;5;124mQueryErrorCode\u001b[39m\u001b[38;5;124m\"\u001b[39m) \u001b[38;5;129;01mor\u001b[39;00m error_info\u001b[38;5;241m.\u001b[39mget(\n\u001b[1;32m   1006\u001b[0m         \u001b[38;5;124m\"\u001b[39m\u001b[38;5;124mCode\u001b[39m\u001b[38;5;124m\"\u001b[39m\n\u001b[1;32m   1007\u001b[0m     )\n\u001b[1;32m   1008\u001b[0m     error_class \u001b[38;5;241m=\u001b[39m \u001b[38;5;28mself\u001b[39m\u001b[38;5;241m.\u001b[39mexceptions\u001b[38;5;241m.\u001b[39mfrom_code(error_code)\n\u001b[0;32m-> 1009\u001b[0m     \u001b[38;5;28;01mraise\u001b[39;00m error_class(parsed_response, operation_name)\n\u001b[1;32m   1010\u001b[0m \u001b[38;5;28;01melse\u001b[39;00m:\n\u001b[1;32m   1011\u001b[0m     \u001b[38;5;28;01mreturn\u001b[39;00m parsed_response\n",
      "\u001b[0;31mValidationException\u001b[0m: An error occurred (ValidationException) when calling the InvokeModel operation: Malformed input request: expected maxLength: 42000, actual: 46393, please reformat your input and try again."
     ]
    }
   ],
   "source": [
    "%%time\n",
    "\n",
    "body = json.dumps({\"inputText\": prompt, \n",
    "                   \"textGenerationConfig\":{\n",
    "                       \"maxTokenCount\":256,\n",
    "                       \"stopSequences\":[],\n",
    "                       \"temperature\":0,\n",
    "                       \"topP\":1\n",
    "                   },\n",
    "                  }) \n",
    "\n",
    "modelId = 'amazon.titan-text-lite-v1' # change this to use a different version from the model provider\n",
    "accept = 'application/json'\n",
    "contentType = 'application/json'\n",
    "\n",
    "try:\n",
    "    \n",
    "    response = br_runtime.invoke_model(body=body, modelId=modelId, accept=accept, contentType=contentType)\n",
    "    response_body = json.loads(response.get('body').read())\n",
    "    output_text = response_body.get('results')[0].get('outputText')\n",
    "    print(len(re.findall(r\"[\\w']+\", output_text)))\n",
    "    print(output_text)\n",
    "\n",
    "except botocore.exceptions.ClientError as error:    \n",
    "    raise error"
   ]
  },
  {
   "cell_type": "code",
   "execution_count": 29,
   "id": "d98cc97f-941c-4c37-b378-fa55cbf11ec5",
   "metadata": {
    "tags": []
   },
   "outputs": [
    {
     "data": {
      "text/plain": [
       "46325"
      ]
     },
     "execution_count": 29,
     "metadata": {},
     "output_type": "execute_result"
    }
   ],
   "source": [
    "len(all_text)"
   ]
  },
  {
   "cell_type": "markdown",
   "id": "39f88ed0-d42a-4fe0-ab9a-b9119a2d492c",
   "metadata": {},
   "source": [
    "## Summarize large text \n",
    "\n",
    "### Configuring LangChain with Boto3\n",
    "\n",
    "LangChain allows you to access Bedrock once you pass boto3 session information to LangChain. If you pass None as the boto3 session information to LangChain, LangChain tries to get session information from your environment. Esure the right client is used bedrock-runtime.\n",
    "\n",
    "You need to specify LLM for LangChain Bedrock class, and can pass arguments for inference. Here you specify Amazon Titan Text Lite in `model_id` and pass Titan's inference parameter in `textGenerationConfig`.\n",
    "\n",
    "The following cell loads the text and counts the number of tokens in the file.\n",
    "\n",
    "You will see warning indicating the number of tokens in the text file exceeeds the maximum number of tokens for this model.\n"
   ]
  },
  {
   "cell_type": "code",
   "execution_count": 17,
   "id": "abf14762-1821-42e9-894c-fa7686837390",
   "metadata": {
    "tags": []
   },
   "outputs": [
    {
     "name": "stderr",
     "output_type": "stream",
     "text": [
      "None of PyTorch, TensorFlow >= 2.0, or Flax have been found. Models won't be available and only tokenizers, configuration and file/data utilities can be used.\n",
      "Token indices sequence length is longer than the specified maximum sequence length for this model (11074 > 1024). Running this sequence through the model will result in indexing errors\n"
     ]
    },
    {
     "data": {
      "text/plain": [
       "11074"
      ]
     },
     "execution_count": 17,
     "metadata": {},
     "output_type": "execute_result"
    }
   ],
   "source": [
    "modelId = \"amazon.titan-text-lite-v1\"\n",
    "llm = Bedrock(\n",
    "    model_id=modelId,\n",
    "    model_kwargs={\n",
    "        \"maxTokenCount\": 4096,\n",
    "        \"stopSequences\": [],\n",
    "        \"temperature\": 0,\n",
    "        \"topP\": 1,\n",
    "    },\n",
    "    client=br_runtime,\n",
    ")\n",
    "\n",
    "# how the LLM calculates the Number of Tokens (4-5 Chars considers a Token)\n",
    "llm.get_num_tokens(all_text)"
   ]
  },
  {
   "cell_type": "markdown",
   "id": "d880c992-c1c4-4cc6-af4b-03839b8fb6ca",
   "metadata": {},
   "source": [
    "### Splitting the long text into chunks\n",
    "\n",
    "The text is too long to fit in the prompt, so we will split it into smaller chunks. RecursiveCharacterTextSplitter in LangChain supports splitting long text into chunks recursively until size of each chunk becomes smaller than chunk_size. A text is separated with separators=[\"\\n\\n\", \"\\n\"] into chunks, which avoids splitting each paragraph into multiple chunks.\n",
    "\n",
    "Using 4,000 characters per chunk, we can get summaries for each portion separately. The number of tokens, or word pieces, in a chunk depends on the text.\n"
   ]
  },
  {
   "cell_type": "code",
   "execution_count": 18,
   "id": "629d0c5d-a168-4b14-a3bf-8a68a11be9f3",
   "metadata": {
    "tags": []
   },
   "outputs": [],
   "source": [
    "from langchain.text_splitter import RecursiveCharacterTextSplitter\n",
    "\n",
    "text_splitter = RecursiveCharacterTextSplitter(\n",
    "    separators=[\"\\n\\n\", \"\\n\"], chunk_size=5000, chunk_overlap=100\n",
    ")\n",
    "\n",
    "docs = text_splitter.create_documents([all_text])"
   ]
  },
  {
   "cell_type": "code",
   "execution_count": 19,
   "id": "1f758151-9608-413c-b882-6e554103f1dd",
   "metadata": {
    "tags": []
   },
   "outputs": [
    {
     "name": "stdout",
     "output_type": "stream",
     "text": [
      "Now we have 10 documents and the first one has 1122 tokens\n"
     ]
    }
   ],
   "source": [
    "num_docs = len(docs)\n",
    "\n",
    "num_tokens_first_doc = llm.get_num_tokens(docs[0].page_content)\n",
    "\n",
    "print(\n",
    "    f\"Now we have {num_docs} documents and the first one has {num_tokens_first_doc} tokens\"\n",
    ")"
   ]
  },
  {
   "cell_type": "markdown",
   "id": "0d4c27b9-effc-4ac0-af9b-b392d887858a",
   "metadata": {
    "jp-MarkdownHeadingCollapsed": true,
    "tags": []
   },
   "source": [
    "### Summarizing chunks and combining them\n",
    "\n",
    "Assuming that the number of tokens is consistent in the other docs we should be good to go. Let's use LangChain's [load_summarize_chain](https://python.langchain.com/en/latest/use_cases/summarization.html) to summarize the text. `load_summarize_chain` provides three ways of summarization: `stuff`, `map_reduce`, and `refine`. \n",
    "- `stuff` puts all the chunks into one prompt. Thus, this would hit the maximum limit of tokens.\n",
    "- `map_reduce` summarizes each chunk, combines the summary, and summarizes the combined summary. If the combined summary is too large, it would raise error.\n",
    "- `refine` summarizes the first chunk, and then summarizes the second chunk with the first summary. The same process repeats until all chunks are summarized.\n",
    "\n",
    "`map_reduce` and `refine` invoke LLM multiple times and takes time for obtaining final summary. \n",
    "Let's try `map_reduce` here. \n"
   ]
  },
  {
   "cell_type": "markdown",
   "id": "fe4d5220-5739-4c3c-9840-1a5be8bdcac9",
   "metadata": {},
   "source": [
    "### Option 1. Use Map reduce pattern on Langchain"
   ]
  },
  {
   "cell_type": "code",
   "execution_count": 20,
   "id": "c6f51611-9506-4836-9cac-c74948a102a8",
   "metadata": {
    "tags": []
   },
   "outputs": [],
   "source": [
    "# Set verbose=True if you want to see the prompts being used\n",
    "from langchain.chains.summarize import load_summarize_chain\n",
    "\n",
    "summary_chain = load_summarize_chain(llm=llm, chain_type=\"map_reduce\", verbose=False)"
   ]
  },
  {
   "cell_type": "code",
   "execution_count": 21,
   "id": "ece7126a-165d-45a9-a243-e0c55656fb02",
   "metadata": {
    "tags": []
   },
   "outputs": [
    {
     "name": "stderr",
     "output_type": "stream",
     "text": [
      "/opt/conda/lib/python3.10/site-packages/langchain_core/_api/deprecation.py:117: LangChainDeprecationWarning: The function `run` was deprecated in LangChain 0.1.0 and will be removed in 0.2.0. Use invoke instead.\n",
      "  warn_deprecated(\n"
     ]
    },
    {
     "name": "stdout",
     "output_type": "stream",
     "text": [
      "CPU times: user 92.6 ms, sys: 6.4 ms, total: 99 ms\n",
      "Wall time: 1min 44s\n"
     ]
    }
   ],
   "source": [
    "%%time\n",
    "output = \"\"\n",
    "\n",
    "try:\n",
    "    output = summary_chain.run(docs)\n",
    "except ValueError as error:\n",
    "    raise error\n"
   ]
  },
  {
   "cell_type": "code",
   "execution_count": 22,
   "id": "91033929-1e11-48b3-9d26-0ece4e8420ad",
   "metadata": {
    "tags": []
   },
   "outputs": [
    {
     "name": "stdout",
     "output_type": "stream",
     "text": [
      "\n",
      "Fannie Mae is a company that helps people buy or rent homes by providing mortgage financing. It has two reportable business segments: Single-Family and Multifamily. The 2022 ESG Report provides information on the company's business and operations with a focus on social impact, sustainability, and responsible governance. Fannie Mae's ESG strategy is designed around two core objectives: improving access to equitable and sustainable housing and enhancing its financial and risk positions. The company's ESG team works to deepen its understanding of ESG priorities and solutions, benefiting from enterprise-wide connectivity and visibility, engagement with external stakeholders, and Board-level oversight. Fannie Mae's priority ESG topics include business ethics, climate resilience, climate risk, community engagement, data privacy and security, diversity and inclusion, ESG integration, green homes, housing affordability, housing stability, human capital management, racial equity in housing finance, regulatory engagement, and risk management. Fannie Mae issues labeled Green Bonds backed by single-family loans and labeled Green and Social Bonds backed by multifamily loans, which abide by its Sustainable Bond Framework. The framework received a second-party opinion from Sustainalytics and incorporates the Multifamily and Single-Family Green Bond Frameworks. Fannie Mae's Green Bonds finance assets that align with the United Nations Sustainable Development Goals. Fannie Mae is committed to financing energy- and water-efficient improvements in multifamily and single-family housing through its Green Homes chapter, Green Bond issuance, and Projected Green Bond Impacts. It also offers Single-Family Green Bonds, which are backed by pools of mortgage loans secured exclusively by newly constructed single-family homes with green building certifications. In 2022, Fannie Mae issued $1.4 billion in Single-Family Green MBS and $781 million in Green resecuritizations. The ACCESS program was developed in 1992 to promote diversity within the capital markets. Fannie Mae issued its first Multifamily Social Bonds in 2021 to better connect interested investors to its loans financing affordable housing units with and without rent and/or income restrictions, manufactured housing communities, and Healthy Housing Rewards properties. In 2022, $587 million of the multifamily bonds issued met the criteria for both Social and Green labels. Fannie Mae provides ESG information at the security level, including whole multifamily property energy and water performance metrics. Fannie Mae offers various ESG (Environmental, Social, and Governance) metrics and data, including ENERGY STAR Score and EPA's Water Score, in DUS Disclose. Projected impacts of Green and Social Bonds are available on the website. Single-Family Social Index scores are available in PoolTalk and Data Dynamics. Fannie Mae introduced the Single-Family Social Index in 2022 to provide investors with insights into mission-oriented activities and preserve mortgage consumers' personal information. The index evaluates loans against eight social criteria grouped under three dimensions. Pool-level metrics include Social Criteria ShareTM and Social Density ScoreTM. Fannie Mae provides Social Index scores for most active and inactive pools issued since January 2010. Loans on second homes are not eligible for any criteria, and households with income greater than 120% of Area Median Income are not eligible for most social criteria. The Social Index methodology includes dimensions such as income, borrower, first-time homebuyer, property, minority tract, high-needs rural, and designated disaster area. Fannie Mae supports the U.S. housing market by acquiring and guaranteeing mortgage loans, bringing housing affordability to renters and borrowers. It acquires single-family mortgage loans from lenders and offers options for low down payment financing and consumers with limited or no credit history. It also eases the burden of upfront costs for low-income and first-time homebuyers by allowing low down payments and down payment assistance. Loans with as little as 3% down are eligible for financing under Fannie Mae's guidelines. Fannie Mae is a company that helps make mortgages more accessible to people who might not otherwise be able to get one. They have a program called HomeReady that helps low-income families buy homes. In 2022, they helped over 79,000 families buy homes through this program. To qualify for HomeReady, families must meet certain income requirements and have a credit score of at least 620. They also need to have a down payment of at least 3%. Fannie Mae also offers a program called Community Seconds, which allows borrowers to get conventional mortgage financing while also receiving home purchase assistance through certain secondary mortgage financing programs. In 2022, they helped over 26,000 families buy homes through this program. Fannie Mae is working to make renting and buying homes more affordable for people of all backgrounds. They are working to make rental payments count toward credit scores and to help people overcome credit history barriers. They are also working to make sure that mortgage lenders consider a borrower's positive rent payment history when evaluating their loan application. Fannie Mae is committed to making quality housing more accessible and affordable for people. It has made improvements to its automated underwriting system to responsibly expand access for homebuyers who do not have a credit score. It also invests directly in improvements to its real estate owned (REO) properties, conducts repairs on a majority of the properties it acquires, and offers a closing cost concession of up to 3% of the HomePath property sales price to owner-occupant buyers with a household income equal to or less than the Area Median Income. In 2022, 76% of its single-family REO property sales were to owner-occupant homebuyers. Fannie Mae's Community First by Fannie Mae program offers approved public entities and community-minded organizations exclusive purchase access to REO properties for a limited time. Manufactured homes (MH) are a significant source of affordable housing for low- and moderate-income borrowers, but certain factors can make purchasing them more difficult. In 2022, Fannie Mae provided $4.4 billion in liquidity to the single-family manufactured housing market. Fannie Mae is focused on supporting the preservation, rehabilitation, and creation of more affordable rental homes for renters. In 2022, Fannie Mae financed approximately 598,000 multifamily units, with a significant majority being affordable to low-to-moderate-income households. Fannie Mae is innovating with programs that make it easier for households to afford and maintain suitable rental housing. Multifamily housing affordability is a primary barrier to housing affordability for renters, resulting in competition for available units. Fannie Mae is focused on supporting the preservation, rehabilitation, and creation of more affordable rental homes for renters. In 2022, Fannie Mae financed approximately 598,000 multifamily units, with a significant majority being affordable to low-to-moderate-income households. Fannie Mae is innovating with programs that make it easier for households to afford and maintain suitable rental housing. The Low-Income Housing Tax Credit (LIHTC) program is a federal program incentivizing equity investments in affordable rental housing for low- and very low-income households. Fannie Mae has provided approximately $3.2 billion in LIHTC equity investments since 2018, supporting the creation or preservation of nearly 80,000 rental units at over 1,000 properties in 49 of 50 states, Guam, Puerto Rico, the U.S. Virgin Islands, and Washington, D.C. Fannie Mae is committed to providing affordable housing to diverse groups, including Native Americans, homeless people, youth aging out of foster care, LGBTQ seniors, and people who have experienced domestic violence. They offer financing for properties with supportive services and high-quality, affordable housing and have increased their loan purchase targets on LIHTC properties. They also offer pricing and underwriting incentives for borrowers and lenders to set aside at least 20% of units for households with income less than 80% of AMI. The Housing Choice Voucher (HCV) Program is a key resource for providing direct affordable housing subsidies to very low-income households, seniors, historically underserved populations, and people with disabilities. Fannie Mae launched the Expanded Housing Choice Initiative in 2022 to enlarge the pool of multifamily units that accept HCVs. They are committed to complying with Fair Lending Laws, which prohibit discrimination in housing and lending on the basis of certain characteristics. They require their lender partners to comply with Selling Guides, federal, state, and local laws and regulations, and other related state and federal regulations. They have also developed a Fair Lending Program to prevent, identify, measure, mitigate, and manage enterprise-wide fair lending risks. Mae's Fair Lending Group ensures fair lending practices by reviewing policies, conducting enterprise monitoring, and delivering training. In 2022, Fannie Mae agreed to pay $53 million to resolve a lawsuit alleging discriminatory maintenance and marketing of foreclosed properties.\n"
     ]
    }
   ],
   "source": [
    "print(output)"
   ]
  },
  {
   "cell_type": "markdown",
   "id": "948cba0e-9095-464a-bf1d-10a83ec0ed48",
   "metadata": {},
   "source": [
    "## Option 2. Manually process insights, then summarize¶"
   ]
  },
  {
   "cell_type": "markdown",
   "id": "3851efd4-cb66-4f92-97c4-4ebe017c94fd",
   "metadata": {
    "tags": []
   },
   "source": [
    "### LangChain Expression Language (LCEL)"
   ]
  },
  {
   "cell_type": "code",
   "execution_count": 23,
   "id": "cbfce43d-e079-458f-bc77-583d2a168ef1",
   "metadata": {
    "tags": []
   },
   "outputs": [],
   "source": [
    "from langchain.prompts import PromptTemplate\n",
    "from langchain.output_parsers import XMLOutputParser, PydanticOutputParser\n",
    "from langchain.output_parsers.json import SimpleJsonOutputParser\n",
    "from langchain.schema.output_parser import StrOutputParser\n",
    "\n",
    "xml_parser = XMLOutputParser()\n",
    "str_parser = StrOutputParser()\n",
    "\n",
    "prompt = PromptTemplate(\n",
    "    template=\"\"\"\n",
    "    \n",
    "    Human:\n",
    "    {instructions} : \\\"{document}\\\"\n",
    "    Assistant:\"\"\",\n",
    "    input_variables=[\"instructions\",\"document\"],\n",
    "    # Format help: {format_instructions}.\n",
    "    # partial_variables={\"format_instructions\": xml_parser.get_format_instructions()},\n",
    ")\n",
    "\n",
    "insight_chain = prompt | llm | StrOutputParser()"
   ]
  },
  {
   "cell_type": "code",
   "execution_count": 24,
   "id": "8ae4aa5e-c666-4e90-990e-0aafee708748",
   "metadata": {
    "tags": []
   },
   "outputs": [
    {
     "name": "stdout",
     "output_type": "stream",
     "text": [
      "CPU times: user 44 ms, sys: 4.42 ms, total: 48.4 ms\n",
      "Wall time: 50.6 s\n"
     ]
    }
   ],
   "source": [
    "%%time\n",
    "insights=[]\n",
    "for i in range(len(docs)):\n",
    "    insights.append(\n",
    "        insight_chain.invoke({\n",
    "        \"instructions\":\"Provide Key insights from the following text\",\n",
    "        \"document\": {docs[i].page_content}\n",
    "    }))\n",
    "    "
   ]
  },
  {
   "cell_type": "code",
   "execution_count": 25,
   "id": "437381bd-b7b2-4dda-9158-4bd85e088d50",
   "metadata": {
    "tags": []
   },
   "outputs": [
    {
     "name": "stdout",
     "output_type": "stream",
     "text": [
      "About Fannie Mae\n",
      "Who we are\n",
      "The Federal National Mortgage Association, better known as \n",
      "Fannie Mae, is a purpose-driven company by charter and by \n",
      "choice. Our business supports mortgage lenders by providing \n",
      "mortgage financing to help people buy or rent a home. We help \n",
      "make the popular 30-year fixed-rate mortgage possible, enabling \n",
      "predictable mortgage payments over the life of the loan and \n",
      "giving homeowners stability and peace of mind. \n",
      "Our charter, an act of Congress, establishes our purposes: \n",
      "to provide liquidity and stability to the residential mortgage \n",
      "market and to promote access to mortgage credit. This mandate \n",
      "includes facilitating mortgages on housing for low- and \n",
      "moderate-income families involving a reasonable economic \n",
      "return that may be less than the return earned on other \n",
      "activities. Congress declared that our operations should be \n",
      "financed by private capital to the maximum extent feasible. With \n",
      "these Congressional intentions in mind, we have, principally \n",
      "using private capital, provided liquidity in the secondary market \n",
      "and expanded housing opportunities throughout the U.S. Fannie \n",
      "Mae is committed to maintaining safety and soundness as we \n",
      "work to fulfill this mission.\n",
      "We do not originate mortgage loans or lend money directly to \n",
      "borrowers. Rather, we work primarily with lenders who originate \n",
      "loans to borrowers. We acquire and securitize those loans into \n",
      "mortgage-backed securities that we guarantee (which we refer \n",
      "to as Fannie Mae MBS or our MBS). Our revenues are primarily \n",
      "driven by guaranty fees we receive for assuming the credit risk on \n",
      "loans underlying our MBS. As of December 31, 2022, we owned \n",
      "or guaranteed mortgage assets representing an estimated \n",
      "27% of single-family mortgage debt outstanding and 21% of \n",
      "multifamily mortgage debt outstanding in the U.S.7\n",
      "7 Based on internal estimates using data from the Federal Reserve Board of Governors’ “Financial Accounts of the United States” (Z.1) release , Q4 2022.\n",
      "© 2023 Fannie Mae 2022 ESG Report  |  5TABLE OF CONTENTS INTRODUCTION   /  ABOUT FANNIE MAE\n",
      "Our business segments\n",
      "We have two reportable business segments: Single-Family  \n",
      "and Multifamily. \n",
      "Single-Family\n",
      "Our Single-Family Business acquires mortgage loans secured \n",
      "by properties containing one to four residential dwelling units, \n",
      "delivered by over a thousand lenders across the U.S. in 2022. \n",
      "Fannie Mae’s position in the housing finance value chain means \n",
      "that we help set standards that apply nationally to conventional \n",
      "mortgage financing.8 Those standards include lender business \n",
      "requirements, credit and underwriting guidelines for loans we \n",
      "acquire, eligibility requirements for properties underlying the \n",
      "loans, servicer requirements for ongoing administration of the \n",
      "loans, and standards for borrower assistance and loss mitigation. \n",
      "Our Single-Family Business provided $615 billion in liquidity \n",
      "to the mortgage market in 2022, enabling the financing \n",
      "of 1.2 million home purchases and 886,000 refinancings. \n",
      "Macroeconomic trends pushed mortgage interest rates higher \n",
      "in 2022, leading to a decrease in the volume of refinance loan \n",
      "acquisitions. Housing affordability constraints plus limited \n",
      "8 Our acquisitions of single-family conventional mortgage loans are subject to maximum original principal balance limits, known as “conforming loan limits,” which are adjusted \n",
      "each year based on the Federal Housing Finance Agency’s (FHFA) housing price index. In most of the U.S., the conforming loan limit for mortgages secured by one-family \n",
      "residences was set at $647,200 for 2022.\n",
      "9 Low-income borrowers are those with incomes of 80% of Area Median Income (AMI) or below; low-to-moderate-income borrowers are those with incomes of 100% of AMI or \n",
      "below. Percentages are based on number of loans and not unpaid principal balance.\n",
      "10 U.S. Census Bureau, 2021 American Community Survey 1-Year Estimates.\n",
      "11 Based on rents reported at loan origination. Rents may change following loan origination. For additional information on multifamily affordable housing acquisitions, see Table 3. \n",
      "Multifamily Housing Mortgage Acquisitions by Year, by Select Characteristics  in the Data Tables section of the Appendix.supply also decreased the volume of loans for home purchase. \n",
      "Most outstanding mortgage borrowers as of late 2022 had \n",
      "mortgage loans with rates well below prevailing market rates, \n",
      "which creates a strong disincentive to refinance.\n",
      "Of the single-family mortgages we acquired in 2022, over a third \n",
      "financed primary residences affordable to low-to-moderate-\n",
      "income households.9 Approximately 539,000 of the mortgages \n",
      "we acquired in 2022 were to first-time homebuyers.\n",
      "Multifamily\n",
      "Our Multifamily Business provides mortgage market liquidity \n",
      "primarily for properties with five or more residential units, which \n",
      "may be apartment communities, cooperative properties, seniors \n",
      "housing, dedicated student housing, or manufactured housing \n",
      "communities. Multifamily housing is an essential part of the U.S. \n",
      "\n",
      "\n",
      " Fannie Mae is a company that provides mortgage financing to help people buy or rent a home. They help make the popular 30-year fixed-rate mortgage possible, enabling predictable mortgage payments over the life of the loan and giving homeowners stability and peace of mind. They do not originate mortgage loans or lend money directly to borrowers, but work primarily with lenders who originate loans to borrowers. They acquire and securitize those loans into mortgage-backed securities that they guarantee. Their revenues are primarily driven by guaranty fees they receive for assuming the credit risk on loans underlying their MBS. As of December 31, 2022, they owned or guaranteed mortgage assets representing an estimated 27% of single-family mortgage debt outstanding and 21% of multifamily mortgage debt outstanding in the U.S. \n",
      "\n",
      "\n"
     ]
    }
   ],
   "source": [
    "print(docs[0].page_content, '\\n\\n')\n",
    "print(insights[0], '\\n\\n')\n"
   ]
  },
  {
   "cell_type": "code",
   "execution_count": 26,
   "id": "c0e95f51-4b15-405e-834f-23dac661916d",
   "metadata": {
    "tags": []
   },
   "outputs": [],
   "source": [
    "prompt = PromptTemplate(\n",
    "    template=\"\"\"\n",
    "    \n",
    "    Human:\n",
    "    {instructions} : \\\"{document}\\\"\n",
    "    Assistant:\"\"\",\n",
    "    input_variables=[\"instructions\",\"document\"]\n",
    ")\n",
    "\n",
    "summary_chain = prompt | llm | StrOutputParser()"
   ]
  },
  {
   "cell_type": "code",
   "execution_count": 27,
   "id": "2c98af8c-531a-41e6-9dc0-dbe0c80f0e80",
   "metadata": {
    "tags": []
   },
   "outputs": [
    {
     "name": "stdout",
     "output_type": "stream",
     "text": [
      " Fannie Mae is a company that provides mortgage financing to help people buy or rent a home. They help make the popular 30-year fixed-rate mortgage possible, enabling predictable mortgage payments over the life of the loan and giving homeowners stability and peace of mind. They do not originate mortgage loans or lend money directly to borrowers, but work primarily with lenders who originate loans to borrowers. They acquire and securitize those loans into mortgage-backed securities that they guarantee. Their revenues are primarily driven by guaranty fees they receive for assuming the credit risk on loans underlying their MBS. As of December 31, 2022, they owned or guaranteed mortgage assets representing an estimated 27% of single-family mortgage debt outstanding and 21% of multifamily mortgage debt outstanding in the U.S. Fannie Mae is committed to realizing scalable, positive impact while mitigating risk through thoughtful integration of ESG priorities throughout its business. The company's ESG team works to deepen its understanding of ESG priorities and solutions to the challenges they present, benefiting from enterprise-wide connectivity and visibility, engagement with external stakeholders, and Board-level oversight. Fannie Mae's priority ESG topics include business ethics, climate resilience, climate risk, community engagement, data privacy and security, diversity and inclusion, ESG integration, green homes, housing affordability, housing stability, human capital management, racial equity in housing finance, regulatory engagement, and risk management. Fannie Mae issues labeled Green Bonds backed by single-family loans and labeled Green and Social Bonds backed by multifamily loans. These securities abide by the Sustainable Bond Framework, which is aligned to global standards set forth in the International Capital Markets Association (ICMA) Green Bond Principles and Social Bond Principles. Fannie Mae's sustainable bonds finance assets that align to the following United Nations Sustainable Development Goals: Goal 1 (No Poverty), Goal 7 (Affordable and Clean Energy), Goal 10 (Reduced Inequalities), and Goal 11 (Sustainable Cities and Communities). Fannie Mae's Multifamily Green Bond Frameworks received Light Green and Good Governance Second Opinions from CICERO Shades of Green. Fannie Mae's Multifamily Green Rewards Mortgage Loan product received a Light to Medium Green rating. Fannie Mae's mission has long been to facilitate equitable and sustainable access to homeownership and quality, affordable rental housing across the U.S. Fannie Mae issues labeled Green Bonds backed by single-family loans and labeled Green and Social Bonds backed by multifamily loans. These securities abide by the Sustainable Bond Framework, which is aligned to global standards set forth in the International Capital Markets Association (ICMA) Green Bond Principles and Social Bond Principles. Fannie Mae's sustainable bonds finance assets that align to the following United Nations Sustainable Development Goals: Goal 1 (No Poverty), Goal 7 (Affordable and Clean Energy), Goal 10 (Reduced Inequalities), and Goal 11 (Sustainable Cities and Communities). Fannie Mae's Multifamily Green Bond Frameworks received Light Green and Good Governance Second Opinions from CICERO Shades of Green. Fannie Mae's Multifamily Green Rewards Mortgage Loan product received a Light to Medium Green rating. Fannie Mae is a leading provider of financing for multifamily and single-family housing. They offer a range of green financing options, including Multifamily Green MBS, Single-Family Green MBS, and Multifamily Social Bonds. Green MBS are pools of mortgage loans that are backed by green building certifications and offer geographic or property-type diversity. Single-Family Green MBS is backed by pools of mortgage loans secured exclusively by newly constructed single-family homes with green building certifications. Multifamily Social Bonds are issued to connect interested investors to affordable housing loans. Fannie Mae provides security-level reporting on ESG metrics related to energy and water performance, including ENERGY STAR Score and EPA's Water Score. Fannie Mae is committed to ESG principles and transparency. They have introduced the Single-Family Social Index to provide investors with insights into their mission-oriented activities in the residential real estate financing market. The index is based on eight social criteria grouped under three dimensions. Loans are evaluated at time of acquisition and pool-level metrics are calculated based on the composition of pools when they are issued. Fannie Mae also provides Green Bond Disclosures and Social Index scores for most active and inactive pools issued since January 2010. The Single-Family Social Index measures loans against eight social criteria, including income, minority borrowers, first-time homebuyers, property, low-income area, minority tract, high-needs rural, and designated disaster area. Loans on second homes are not eligible for any criteria, and households with income greater than 120% of Area Median Income are not eligible for most social criteria. Fannie Mae's business model helps to bring housing affordability to renters and borrowers around the country. They acquire single-family mortgage loans from lenders who originate those loans to borrowers. These loans include options for low down payment financing and consumers with limited or no credit history. Fannie Mae is a U.S. government-sponsored enterprise that provides mortgage financing to help more families achieve the dream of homeownership. It offers a range of mortgage products, including HomeReady, which is designed to help low-income borrowers. Fannie Mae also works to make homeownership more affordable by providing down payment assistance and working with lenders to reduce closing costs. Additionally, Fannie Mae is working to make rental payments count toward credit scores and to overcome credit history barriers for underserved consumers. Fannie Mae is committed to making quality housing more accessible and affordable for people. They have made improvements to their automated underwriting system to allow for a more comprehensive evaluation of borrowers' monthly cash flow, which can help expand access for homebuyers who may not have a credit score. Additionally, Fannie Mae offers financing options like HomeStyle Renovation loans to help homeowners finance improvements to their properties. They also invest directly in repairs to their real estate owned (REO) properties to make them more sustainable and attractive to owner-occupant buyers. Fannie Mae also provides access to properties on HomePath without competition for the first 30 days, and offers a closing cost concession to owner-occupant buyers with a household income equal to or less than the Area Median Income. Manufactured homes (MH) are a vital source of affordable housing for low- and moderate-income individuals. They are typically less expensive to purchase or rent than site-built homes, but certain factors can make purchasing them more difficult, such as difficulty obtaining financing. In 2022, Fannie Mae provided $4.4 billion in liquidity to the single-family manufactured housing market. Native American tribal members, people who have experienced homelessness, youth aging out of foster care, LGBTQ seniors, and people who have experienced domestic violence. Properties focusing on these tenants may include supportive services such as counseling, after-school programs, and job training in addition to providing high-quality, affordable housing. Good morning. How can I help you?\n",
      "CPU times: user 8.64 ms, sys: 0 ns, total: 8.64 ms\n",
      "Wall time: 34.8 s\n"
     ]
    }
   ],
   "source": [
    "%%time\n",
    "print(summary_chain.invoke({\n",
    "        \"instructions\":\"You will be provided with multiple paragraphs of insights. Compile and summarize these insights and provide key takeaways in one concise paragraph.\",\n",
    "        \"document\": {'\\n'.join(insights)}\n",
    "    }))"
   ]
  },
  {
   "cell_type": "markdown",
   "id": "e8cd7708-953f-4f59-a4da-65364e293c41",
   "metadata": {},
   "source": [
    "### Conclusion\n",
    "\n",
    "You have now experimented with using boto3 SDK which provides a vanilla exposure to Amazon Bedrock API. Using this API you have seen the use case of generating a summary of a large document which doesn't fit into LLM context window size, using langChain and LCEL to chunk into much smaller documents and summarize each and then summarize the summaries to get the final summary output.\n",
    "\n",
    "#### Take aways\n",
    "- Adapt this notebook to experiment with different models available through Amazon Bedrock such as Amazon Titan and AI21 Labs Jurassic models.\n",
    "- Change the prompts to your specific usecase and evaluate the output of different models.\n",
    "- Play with the token length to understand the latency and responsiveness of the service.\n",
    "- Apply different prompt engineering principles to get better outputs."
   ]
  }
 ],
 "metadata": {
  "availableInstances": [
   {
    "_defaultOrder": 0,
    "_isFastLaunch": true,
    "category": "General purpose",
    "gpuNum": 0,
    "hideHardwareSpecs": false,
    "memoryGiB": 4,
    "name": "ml.t3.medium",
    "vcpuNum": 2
   },
   {
    "_defaultOrder": 1,
    "_isFastLaunch": false,
    "category": "General purpose",
    "gpuNum": 0,
    "hideHardwareSpecs": false,
    "memoryGiB": 8,
    "name": "ml.t3.large",
    "vcpuNum": 2
   },
   {
    "_defaultOrder": 2,
    "_isFastLaunch": false,
    "category": "General purpose",
    "gpuNum": 0,
    "hideHardwareSpecs": false,
    "memoryGiB": 16,
    "name": "ml.t3.xlarge",
    "vcpuNum": 4
   },
   {
    "_defaultOrder": 3,
    "_isFastLaunch": false,
    "category": "General purpose",
    "gpuNum": 0,
    "hideHardwareSpecs": false,
    "memoryGiB": 32,
    "name": "ml.t3.2xlarge",
    "vcpuNum": 8
   },
   {
    "_defaultOrder": 4,
    "_isFastLaunch": true,
    "category": "General purpose",
    "gpuNum": 0,
    "hideHardwareSpecs": false,
    "memoryGiB": 8,
    "name": "ml.m5.large",
    "vcpuNum": 2
   },
   {
    "_defaultOrder": 5,
    "_isFastLaunch": false,
    "category": "General purpose",
    "gpuNum": 0,
    "hideHardwareSpecs": false,
    "memoryGiB": 16,
    "name": "ml.m5.xlarge",
    "vcpuNum": 4
   },
   {
    "_defaultOrder": 6,
    "_isFastLaunch": false,
    "category": "General purpose",
    "gpuNum": 0,
    "hideHardwareSpecs": false,
    "memoryGiB": 32,
    "name": "ml.m5.2xlarge",
    "vcpuNum": 8
   },
   {
    "_defaultOrder": 7,
    "_isFastLaunch": false,
    "category": "General purpose",
    "gpuNum": 0,
    "hideHardwareSpecs": false,
    "memoryGiB": 64,
    "name": "ml.m5.4xlarge",
    "vcpuNum": 16
   },
   {
    "_defaultOrder": 8,
    "_isFastLaunch": false,
    "category": "General purpose",
    "gpuNum": 0,
    "hideHardwareSpecs": false,
    "memoryGiB": 128,
    "name": "ml.m5.8xlarge",
    "vcpuNum": 32
   },
   {
    "_defaultOrder": 9,
    "_isFastLaunch": false,
    "category": "General purpose",
    "gpuNum": 0,
    "hideHardwareSpecs": false,
    "memoryGiB": 192,
    "name": "ml.m5.12xlarge",
    "vcpuNum": 48
   },
   {
    "_defaultOrder": 10,
    "_isFastLaunch": false,
    "category": "General purpose",
    "gpuNum": 0,
    "hideHardwareSpecs": false,
    "memoryGiB": 256,
    "name": "ml.m5.16xlarge",
    "vcpuNum": 64
   },
   {
    "_defaultOrder": 11,
    "_isFastLaunch": false,
    "category": "General purpose",
    "gpuNum": 0,
    "hideHardwareSpecs": false,
    "memoryGiB": 384,
    "name": "ml.m5.24xlarge",
    "vcpuNum": 96
   },
   {
    "_defaultOrder": 12,
    "_isFastLaunch": false,
    "category": "General purpose",
    "gpuNum": 0,
    "hideHardwareSpecs": false,
    "memoryGiB": 8,
    "name": "ml.m5d.large",
    "vcpuNum": 2
   },
   {
    "_defaultOrder": 13,
    "_isFastLaunch": false,
    "category": "General purpose",
    "gpuNum": 0,
    "hideHardwareSpecs": false,
    "memoryGiB": 16,
    "name": "ml.m5d.xlarge",
    "vcpuNum": 4
   },
   {
    "_defaultOrder": 14,
    "_isFastLaunch": false,
    "category": "General purpose",
    "gpuNum": 0,
    "hideHardwareSpecs": false,
    "memoryGiB": 32,
    "name": "ml.m5d.2xlarge",
    "vcpuNum": 8
   },
   {
    "_defaultOrder": 15,
    "_isFastLaunch": false,
    "category": "General purpose",
    "gpuNum": 0,
    "hideHardwareSpecs": false,
    "memoryGiB": 64,
    "name": "ml.m5d.4xlarge",
    "vcpuNum": 16
   },
   {
    "_defaultOrder": 16,
    "_isFastLaunch": false,
    "category": "General purpose",
    "gpuNum": 0,
    "hideHardwareSpecs": false,
    "memoryGiB": 128,
    "name": "ml.m5d.8xlarge",
    "vcpuNum": 32
   },
   {
    "_defaultOrder": 17,
    "_isFastLaunch": false,
    "category": "General purpose",
    "gpuNum": 0,
    "hideHardwareSpecs": false,
    "memoryGiB": 192,
    "name": "ml.m5d.12xlarge",
    "vcpuNum": 48
   },
   {
    "_defaultOrder": 18,
    "_isFastLaunch": false,
    "category": "General purpose",
    "gpuNum": 0,
    "hideHardwareSpecs": false,
    "memoryGiB": 256,
    "name": "ml.m5d.16xlarge",
    "vcpuNum": 64
   },
   {
    "_defaultOrder": 19,
    "_isFastLaunch": false,
    "category": "General purpose",
    "gpuNum": 0,
    "hideHardwareSpecs": false,
    "memoryGiB": 384,
    "name": "ml.m5d.24xlarge",
    "vcpuNum": 96
   },
   {
    "_defaultOrder": 20,
    "_isFastLaunch": false,
    "category": "General purpose",
    "gpuNum": 0,
    "hideHardwareSpecs": true,
    "memoryGiB": 0,
    "name": "ml.geospatial.interactive",
    "supportedImageNames": [
     "sagemaker-geospatial-v1-0"
    ],
    "vcpuNum": 0
   },
   {
    "_defaultOrder": 21,
    "_isFastLaunch": true,
    "category": "Compute optimized",
    "gpuNum": 0,
    "hideHardwareSpecs": false,
    "memoryGiB": 4,
    "name": "ml.c5.large",
    "vcpuNum": 2
   },
   {
    "_defaultOrder": 22,
    "_isFastLaunch": false,
    "category": "Compute optimized",
    "gpuNum": 0,
    "hideHardwareSpecs": false,
    "memoryGiB": 8,
    "name": "ml.c5.xlarge",
    "vcpuNum": 4
   },
   {
    "_defaultOrder": 23,
    "_isFastLaunch": false,
    "category": "Compute optimized",
    "gpuNum": 0,
    "hideHardwareSpecs": false,
    "memoryGiB": 16,
    "name": "ml.c5.2xlarge",
    "vcpuNum": 8
   },
   {
    "_defaultOrder": 24,
    "_isFastLaunch": false,
    "category": "Compute optimized",
    "gpuNum": 0,
    "hideHardwareSpecs": false,
    "memoryGiB": 32,
    "name": "ml.c5.4xlarge",
    "vcpuNum": 16
   },
   {
    "_defaultOrder": 25,
    "_isFastLaunch": false,
    "category": "Compute optimized",
    "gpuNum": 0,
    "hideHardwareSpecs": false,
    "memoryGiB": 72,
    "name": "ml.c5.9xlarge",
    "vcpuNum": 36
   },
   {
    "_defaultOrder": 26,
    "_isFastLaunch": false,
    "category": "Compute optimized",
    "gpuNum": 0,
    "hideHardwareSpecs": false,
    "memoryGiB": 96,
    "name": "ml.c5.12xlarge",
    "vcpuNum": 48
   },
   {
    "_defaultOrder": 27,
    "_isFastLaunch": false,
    "category": "Compute optimized",
    "gpuNum": 0,
    "hideHardwareSpecs": false,
    "memoryGiB": 144,
    "name": "ml.c5.18xlarge",
    "vcpuNum": 72
   },
   {
    "_defaultOrder": 28,
    "_isFastLaunch": false,
    "category": "Compute optimized",
    "gpuNum": 0,
    "hideHardwareSpecs": false,
    "memoryGiB": 192,
    "name": "ml.c5.24xlarge",
    "vcpuNum": 96
   },
   {
    "_defaultOrder": 29,
    "_isFastLaunch": true,
    "category": "Accelerated computing",
    "gpuNum": 1,
    "hideHardwareSpecs": false,
    "memoryGiB": 16,
    "name": "ml.g4dn.xlarge",
    "vcpuNum": 4
   },
   {
    "_defaultOrder": 30,
    "_isFastLaunch": false,
    "category": "Accelerated computing",
    "gpuNum": 1,
    "hideHardwareSpecs": false,
    "memoryGiB": 32,
    "name": "ml.g4dn.2xlarge",
    "vcpuNum": 8
   },
   {
    "_defaultOrder": 31,
    "_isFastLaunch": false,
    "category": "Accelerated computing",
    "gpuNum": 1,
    "hideHardwareSpecs": false,
    "memoryGiB": 64,
    "name": "ml.g4dn.4xlarge",
    "vcpuNum": 16
   },
   {
    "_defaultOrder": 32,
    "_isFastLaunch": false,
    "category": "Accelerated computing",
    "gpuNum": 1,
    "hideHardwareSpecs": false,
    "memoryGiB": 128,
    "name": "ml.g4dn.8xlarge",
    "vcpuNum": 32
   },
   {
    "_defaultOrder": 33,
    "_isFastLaunch": false,
    "category": "Accelerated computing",
    "gpuNum": 4,
    "hideHardwareSpecs": false,
    "memoryGiB": 192,
    "name": "ml.g4dn.12xlarge",
    "vcpuNum": 48
   },
   {
    "_defaultOrder": 34,
    "_isFastLaunch": false,
    "category": "Accelerated computing",
    "gpuNum": 1,
    "hideHardwareSpecs": false,
    "memoryGiB": 256,
    "name": "ml.g4dn.16xlarge",
    "vcpuNum": 64
   },
   {
    "_defaultOrder": 35,
    "_isFastLaunch": false,
    "category": "Accelerated computing",
    "gpuNum": 1,
    "hideHardwareSpecs": false,
    "memoryGiB": 61,
    "name": "ml.p3.2xlarge",
    "vcpuNum": 8
   },
   {
    "_defaultOrder": 36,
    "_isFastLaunch": false,
    "category": "Accelerated computing",
    "gpuNum": 4,
    "hideHardwareSpecs": false,
    "memoryGiB": 244,
    "name": "ml.p3.8xlarge",
    "vcpuNum": 32
   },
   {
    "_defaultOrder": 37,
    "_isFastLaunch": false,
    "category": "Accelerated computing",
    "gpuNum": 8,
    "hideHardwareSpecs": false,
    "memoryGiB": 488,
    "name": "ml.p3.16xlarge",
    "vcpuNum": 64
   },
   {
    "_defaultOrder": 38,
    "_isFastLaunch": false,
    "category": "Accelerated computing",
    "gpuNum": 8,
    "hideHardwareSpecs": false,
    "memoryGiB": 768,
    "name": "ml.p3dn.24xlarge",
    "vcpuNum": 96
   },
   {
    "_defaultOrder": 39,
    "_isFastLaunch": false,
    "category": "Memory Optimized",
    "gpuNum": 0,
    "hideHardwareSpecs": false,
    "memoryGiB": 16,
    "name": "ml.r5.large",
    "vcpuNum": 2
   },
   {
    "_defaultOrder": 40,
    "_isFastLaunch": false,
    "category": "Memory Optimized",
    "gpuNum": 0,
    "hideHardwareSpecs": false,
    "memoryGiB": 32,
    "name": "ml.r5.xlarge",
    "vcpuNum": 4
   },
   {
    "_defaultOrder": 41,
    "_isFastLaunch": false,
    "category": "Memory Optimized",
    "gpuNum": 0,
    "hideHardwareSpecs": false,
    "memoryGiB": 64,
    "name": "ml.r5.2xlarge",
    "vcpuNum": 8
   },
   {
    "_defaultOrder": 42,
    "_isFastLaunch": false,
    "category": "Memory Optimized",
    "gpuNum": 0,
    "hideHardwareSpecs": false,
    "memoryGiB": 128,
    "name": "ml.r5.4xlarge",
    "vcpuNum": 16
   },
   {
    "_defaultOrder": 43,
    "_isFastLaunch": false,
    "category": "Memory Optimized",
    "gpuNum": 0,
    "hideHardwareSpecs": false,
    "memoryGiB": 256,
    "name": "ml.r5.8xlarge",
    "vcpuNum": 32
   },
   {
    "_defaultOrder": 44,
    "_isFastLaunch": false,
    "category": "Memory Optimized",
    "gpuNum": 0,
    "hideHardwareSpecs": false,
    "memoryGiB": 384,
    "name": "ml.r5.12xlarge",
    "vcpuNum": 48
   },
   {
    "_defaultOrder": 45,
    "_isFastLaunch": false,
    "category": "Memory Optimized",
    "gpuNum": 0,
    "hideHardwareSpecs": false,
    "memoryGiB": 512,
    "name": "ml.r5.16xlarge",
    "vcpuNum": 64
   },
   {
    "_defaultOrder": 46,
    "_isFastLaunch": false,
    "category": "Memory Optimized",
    "gpuNum": 0,
    "hideHardwareSpecs": false,
    "memoryGiB": 768,
    "name": "ml.r5.24xlarge",
    "vcpuNum": 96
   },
   {
    "_defaultOrder": 47,
    "_isFastLaunch": false,
    "category": "Accelerated computing",
    "gpuNum": 1,
    "hideHardwareSpecs": false,
    "memoryGiB": 16,
    "name": "ml.g5.xlarge",
    "vcpuNum": 4
   },
   {
    "_defaultOrder": 48,
    "_isFastLaunch": false,
    "category": "Accelerated computing",
    "gpuNum": 1,
    "hideHardwareSpecs": false,
    "memoryGiB": 32,
    "name": "ml.g5.2xlarge",
    "vcpuNum": 8
   },
   {
    "_defaultOrder": 49,
    "_isFastLaunch": false,
    "category": "Accelerated computing",
    "gpuNum": 1,
    "hideHardwareSpecs": false,
    "memoryGiB": 64,
    "name": "ml.g5.4xlarge",
    "vcpuNum": 16
   },
   {
    "_defaultOrder": 50,
    "_isFastLaunch": false,
    "category": "Accelerated computing",
    "gpuNum": 1,
    "hideHardwareSpecs": false,
    "memoryGiB": 128,
    "name": "ml.g5.8xlarge",
    "vcpuNum": 32
   },
   {
    "_defaultOrder": 51,
    "_isFastLaunch": false,
    "category": "Accelerated computing",
    "gpuNum": 1,
    "hideHardwareSpecs": false,
    "memoryGiB": 256,
    "name": "ml.g5.16xlarge",
    "vcpuNum": 64
   },
   {
    "_defaultOrder": 52,
    "_isFastLaunch": false,
    "category": "Accelerated computing",
    "gpuNum": 4,
    "hideHardwareSpecs": false,
    "memoryGiB": 192,
    "name": "ml.g5.12xlarge",
    "vcpuNum": 48
   },
   {
    "_defaultOrder": 53,
    "_isFastLaunch": false,
    "category": "Accelerated computing",
    "gpuNum": 4,
    "hideHardwareSpecs": false,
    "memoryGiB": 384,
    "name": "ml.g5.24xlarge",
    "vcpuNum": 96
   },
   {
    "_defaultOrder": 54,
    "_isFastLaunch": false,
    "category": "Accelerated computing",
    "gpuNum": 8,
    "hideHardwareSpecs": false,
    "memoryGiB": 768,
    "name": "ml.g5.48xlarge",
    "vcpuNum": 192
   },
   {
    "_defaultOrder": 55,
    "_isFastLaunch": false,
    "category": "Accelerated computing",
    "gpuNum": 8,
    "hideHardwareSpecs": false,
    "memoryGiB": 1152,
    "name": "ml.p4d.24xlarge",
    "vcpuNum": 96
   },
   {
    "_defaultOrder": 56,
    "_isFastLaunch": false,
    "category": "Accelerated computing",
    "gpuNum": 8,
    "hideHardwareSpecs": false,
    "memoryGiB": 1152,
    "name": "ml.p4de.24xlarge",
    "vcpuNum": 96
   },
   {
    "_defaultOrder": 57,
    "_isFastLaunch": false,
    "category": "Accelerated computing",
    "gpuNum": 0,
    "hideHardwareSpecs": false,
    "memoryGiB": 32,
    "name": "ml.trn1.2xlarge",
    "vcpuNum": 8
   },
   {
    "_defaultOrder": 58,
    "_isFastLaunch": false,
    "category": "Accelerated computing",
    "gpuNum": 0,
    "hideHardwareSpecs": false,
    "memoryGiB": 512,
    "name": "ml.trn1.32xlarge",
    "vcpuNum": 128
   },
   {
    "_defaultOrder": 59,
    "_isFastLaunch": false,
    "category": "Accelerated computing",
    "gpuNum": 0,
    "hideHardwareSpecs": false,
    "memoryGiB": 512,
    "name": "ml.trn1n.32xlarge",
    "vcpuNum": 128
   }
  ],
  "instance_type": "ml.t3.medium",
  "kernelspec": {
   "display_name": "Python 3 (Data Science 3.0)",
   "language": "python",
   "name": "python3__SAGEMAKER_INTERNAL__arn:aws:sagemaker:us-east-1:081325390199:image/sagemaker-data-science-310-v1"
  },
  "language_info": {
   "codemirror_mode": {
    "name": "ipython",
    "version": 3
   },
   "file_extension": ".py",
   "mimetype": "text/x-python",
   "name": "python",
   "nbconvert_exporter": "python",
   "pygments_lexer": "ipython3",
   "version": "3.10.6"
  }
 },
 "nbformat": 4,
 "nbformat_minor": 5
}
