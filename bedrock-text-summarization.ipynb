{
 "cells": [
  {
   "cell_type": "markdown",
   "id": "97572c6f-0d1a-4ee5-8e01-651a05c8e031",
   "metadata": {},
   "source": [
    "# Text Summarization using Amazon Bedrock API \n",
    "## GenAI Code Accelerator \n",
    "Author: Sundaresan Manoharan - Enterprise Architecture AI/ML Team\n",
    "\n",
    "Text summarization in Natural Language Processing (NLP) is the process of breaking down large texts into smaller parts. It uses deep learning and machine learning models to extract important information while preserving the meaning of the text from a text document and presenting it in a concise and coherent format. It allows digesting and distilling the essence from large volumes of content efficiently. It is a key capability of LLMs with many potential applications across industries to improve understanding and save time. This notebook demostrates text summarization using Amazon Bedrock API. \n",
    "\n",
    "Note: This approach can be used when the input text or file fits within the model context length. \n",
    "\n",
    "Challenge: A key challenge is managing large documents that exceed the token limit. Another is obtaining high quality summaries. We will explore an approach to address the challenge when users have large document(s) that exceed the token limit and how to measure the summarization quality in the advanced topics.\n",
    "\n",
    "Use Cases:\n",
    "- Meeting/Call Transcripts\n",
    "- Policy, Legal, Government Documents\n",
    "- Books, Articles, Blogs, Research Papers\n",
    "- Financial Reports \n",
    "\n",
    "Foundation Model(s):\n",
    "- Amazon Titan Large\n",
    "- Meta LLaMa 13B\n",
    "\n",
    "This notebook introduces Text Summarization using Amazon Bedrock API.  \n",
    "- Uses various Foundation Models (LLM agnostic)\n",
    "- Uses a PDF document (Earnings Call Transcript, Business/Financial Reports)\n",
    "- Uses simple and easy to adapt bite size'd code accelerator"
   ]
  },
  {
   "cell_type": "markdown",
   "id": "83862a34-d128-4235-a291-14ba2f4595db",
   "metadata": {},
   "source": [
    "### Install Libraries"
   ]
  },
  {
   "cell_type": "code",
   "execution_count": 2,
   "id": "25413009-3494-4bb5-bff3-50c17bdb0064",
   "metadata": {
    "scrolled": true,
    "tags": []
   },
   "outputs": [
    {
     "name": "stdout",
     "output_type": "stream",
     "text": [
      "Requirement already satisfied: pip in /opt/conda/lib/python3.10/site-packages (23.3.2)\n",
      "\u001b[33mWARNING: Running pip as the 'root' user can result in broken permissions and conflicting behaviour with the system package manager. It is recommended to use a virtual environment instead: https://pip.pypa.io/warnings/venv\u001b[0m\u001b[33m\n",
      "\u001b[0mCollecting boto3>=1.28.57\n",
      "  Using cached boto3-1.34.19-py3-none-any.whl.metadata (6.6 kB)\n",
      "Collecting awscli>=1.29.57\n",
      "  Using cached awscli-1.32.19-py3-none-any.whl.metadata (11 kB)\n",
      "Collecting botocore>=1.31.57\n",
      "  Using cached botocore-1.34.19-py3-none-any.whl.metadata (5.6 kB)\n",
      "Collecting jmespath<2.0.0,>=0.7.1 (from boto3>=1.28.57)\n",
      "  Using cached jmespath-1.0.1-py3-none-any.whl (20 kB)\n",
      "Collecting s3transfer<0.11.0,>=0.10.0 (from boto3>=1.28.57)\n",
      "  Using cached s3transfer-0.10.0-py3-none-any.whl.metadata (1.7 kB)\n",
      "Collecting docutils<0.17,>=0.10 (from awscli>=1.29.57)\n",
      "  Using cached docutils-0.16-py2.py3-none-any.whl (548 kB)\n",
      "Collecting PyYAML<6.1,>=3.10 (from awscli>=1.29.57)\n",
      "  Using cached PyYAML-6.0.1-cp310-cp310-manylinux_2_17_x86_64.manylinux2014_x86_64.whl.metadata (2.1 kB)\n",
      "Collecting colorama<0.4.5,>=0.2.5 (from awscli>=1.29.57)\n",
      "  Using cached colorama-0.4.4-py2.py3-none-any.whl (16 kB)\n",
      "Collecting rsa<4.8,>=3.1.2 (from awscli>=1.29.57)\n",
      "  Using cached rsa-4.7.2-py3-none-any.whl (34 kB)\n",
      "Collecting python-dateutil<3.0.0,>=2.1 (from botocore>=1.31.57)\n",
      "  Using cached python_dateutil-2.8.2-py2.py3-none-any.whl (247 kB)\n",
      "Collecting urllib3<2.1,>=1.25.4 (from botocore>=1.31.57)\n",
      "  Using cached urllib3-2.0.7-py3-none-any.whl.metadata (6.6 kB)\n",
      "Collecting six>=1.5 (from python-dateutil<3.0.0,>=2.1->botocore>=1.31.57)\n",
      "  Using cached six-1.16.0-py2.py3-none-any.whl (11 kB)\n",
      "Collecting pyasn1>=0.1.3 (from rsa<4.8,>=3.1.2->awscli>=1.29.57)\n",
      "  Using cached pyasn1-0.5.1-py2.py3-none-any.whl.metadata (8.6 kB)\n",
      "Using cached boto3-1.34.19-py3-none-any.whl (139 kB)\n",
      "Using cached awscli-1.32.19-py3-none-any.whl (4.3 MB)\n",
      "Using cached botocore-1.34.19-py3-none-any.whl (11.9 MB)\n",
      "Using cached PyYAML-6.0.1-cp310-cp310-manylinux_2_17_x86_64.manylinux2014_x86_64.whl (705 kB)\n",
      "Using cached s3transfer-0.10.0-py3-none-any.whl (82 kB)\n",
      "Using cached urllib3-2.0.7-py3-none-any.whl (124 kB)\n",
      "Using cached pyasn1-0.5.1-py2.py3-none-any.whl (84 kB)\n",
      "Installing collected packages: urllib3, six, PyYAML, pyasn1, jmespath, docutils, colorama, rsa, python-dateutil, botocore, s3transfer, boto3, awscli\n",
      "  Attempting uninstall: urllib3\n",
      "    Found existing installation: urllib3 2.0.7\n",
      "    Uninstalling urllib3-2.0.7:\n",
      "      Successfully uninstalled urllib3-2.0.7\n",
      "  Attempting uninstall: six\n",
      "    Found existing installation: six 1.16.0\n",
      "    Uninstalling six-1.16.0:\n",
      "      Successfully uninstalled six-1.16.0\n",
      "  Attempting uninstall: PyYAML\n",
      "    Found existing installation: PyYAML 6.0.1\n",
      "    Uninstalling PyYAML-6.0.1:\n",
      "      Successfully uninstalled PyYAML-6.0.1\n",
      "  Attempting uninstall: pyasn1\n",
      "    Found existing installation: pyasn1 0.5.1\n",
      "    Uninstalling pyasn1-0.5.1:\n",
      "      Successfully uninstalled pyasn1-0.5.1\n",
      "  Attempting uninstall: jmespath\n",
      "    Found existing installation: jmespath 1.0.1\n",
      "    Uninstalling jmespath-1.0.1:\n",
      "      Successfully uninstalled jmespath-1.0.1\n",
      "  Attempting uninstall: docutils\n",
      "    Found existing installation: docutils 0.16\n",
      "    Uninstalling docutils-0.16:\n",
      "      Successfully uninstalled docutils-0.16\n",
      "  Attempting uninstall: colorama\n",
      "    Found existing installation: colorama 0.4.4\n",
      "    Uninstalling colorama-0.4.4:\n",
      "      Successfully uninstalled colorama-0.4.4\n",
      "  Attempting uninstall: rsa\n",
      "    Found existing installation: rsa 4.7.2\n",
      "    Uninstalling rsa-4.7.2:\n",
      "      Successfully uninstalled rsa-4.7.2\n",
      "  Attempting uninstall: python-dateutil\n",
      "    Found existing installation: python-dateutil 2.8.2\n",
      "    Uninstalling python-dateutil-2.8.2:\n",
      "      Successfully uninstalled python-dateutil-2.8.2\n",
      "  Attempting uninstall: botocore\n",
      "    Found existing installation: botocore 1.34.19\n",
      "    Uninstalling botocore-1.34.19:\n",
      "      Successfully uninstalled botocore-1.34.19\n",
      "  Attempting uninstall: s3transfer\n",
      "    Found existing installation: s3transfer 0.10.0\n",
      "    Uninstalling s3transfer-0.10.0:\n",
      "      Successfully uninstalled s3transfer-0.10.0\n",
      "  Attempting uninstall: boto3\n",
      "    Found existing installation: boto3 1.34.19\n",
      "    Uninstalling boto3-1.34.19:\n",
      "      Successfully uninstalled boto3-1.34.19\n",
      "  Attempting uninstall: awscli\n",
      "    Found existing installation: awscli 1.32.19\n",
      "    Uninstalling awscli-1.32.19:\n",
      "      Successfully uninstalled awscli-1.32.19\n",
      "\u001b[31mERROR: pip's dependency resolver does not currently take into account all the packages that are installed. This behaviour is the source of the following dependency conflicts.\n",
      "spyder 5.3.3 requires pyqt5<5.16, which is not installed.\n",
      "spyder 5.3.3 requires pyqtwebengine<5.16, which is not installed.\n",
      "distributed 2022.7.0 requires tornado<6.2,>=6.0.3, but you have tornado 6.4 which is incompatible.\n",
      "jupyterlab 3.4.4 requires jupyter-server~=1.16, but you have jupyter-server 2.12.1 which is incompatible.\n",
      "jupyterlab-server 2.10.3 requires jupyter-server~=1.4, but you have jupyter-server 2.12.1 which is incompatible.\n",
      "notebook 6.5.6 requires jupyter-client<8,>=5.3.4, but you have jupyter-client 8.6.0 which is incompatible.\n",
      "notebook 6.5.6 requires pyzmq<25,>=17, but you have pyzmq 25.1.2 which is incompatible.\n",
      "panel 0.13.1 requires bokeh<2.5.0,>=2.4.0, but you have bokeh 3.3.2 which is incompatible.\n",
      "pyasn1-modules 0.2.8 requires pyasn1<0.5.0,>=0.4.6, but you have pyasn1 0.5.1 which is incompatible.\n",
      "sagemaker 2.199.0 requires urllib3<1.27, but you have urllib3 2.0.7 which is incompatible.\n",
      "sagemaker-datawrangler 0.4.3 requires sagemaker-data-insights==0.4.0, but you have sagemaker-data-insights 0.3.3 which is incompatible.\n",
      "spyder 5.3.3 requires ipython<8.0.0,>=7.31.1, but you have ipython 8.18.1 which is incompatible.\n",
      "spyder 5.3.3 requires pylint<3.0,>=2.5.0, but you have pylint 3.0.2 which is incompatible.\n",
      "spyder-kernels 2.3.3 requires ipython<8,>=7.31.1; python_version >= \"3\", but you have ipython 8.18.1 which is incompatible.\n",
      "spyder-kernels 2.3.3 requires jupyter-client<8,>=7.3.4; python_version >= \"3\", but you have jupyter-client 8.6.0 which is incompatible.\u001b[0m\u001b[31m\n",
      "\u001b[0mSuccessfully installed PyYAML-6.0.1 awscli-1.32.19 boto3-1.34.19 botocore-1.34.19 colorama-0.4.4 docutils-0.16 jmespath-1.0.1 pyasn1-0.5.1 python-dateutil-2.8.2 rsa-4.7.2 s3transfer-0.10.0 six-1.16.0 urllib3-2.0.7\n",
      "\u001b[33mWARNING: Running pip as the 'root' user can result in broken permissions and conflicting behaviour with the system package manager. It is recommended to use a virtual environment instead: https://pip.pypa.io/warnings/venv\u001b[0m\u001b[33m\n",
      "\u001b[0mRequirement already satisfied: PyPDF2 in /opt/conda/lib/python3.10/site-packages (3.0.1)\n",
      "\u001b[33mWARNING: Running pip as the 'root' user can result in broken permissions and conflicting behaviour with the system package manager. It is recommended to use a virtual environment instead: https://pip.pypa.io/warnings/venv\u001b[0m\u001b[33m\n",
      "\u001b[0m"
     ]
    }
   ],
   "source": [
    "# update the pip installer\n",
    "!pip install --upgrade pip\n",
    "\n",
    "# install boto and AWS CLI library\n",
    "!pip install --no-build-isolation --force-reinstall \\\n",
    "    \"boto3>=1.28.57\" \\\n",
    "    \"awscli>=1.29.57\" \\\n",
    "    \"botocore>=1.31.57\"\n",
    "\n",
    "# install PDF Reader library\n",
    "!pip install PyPDF2\n"
   ]
  },
  {
   "cell_type": "markdown",
   "id": "205669b5-9fe7-4885-a716-428640308a13",
   "metadata": {
    "tags": []
   },
   "source": [
    "### Import Libraries"
   ]
  },
  {
   "cell_type": "code",
   "execution_count": 3,
   "id": "12c074c5-dbd7-4396-9ced-c93d57ef8e46",
   "metadata": {
    "tags": []
   },
   "outputs": [],
   "source": [
    "import json\n",
    "import os\n",
    "import sys\n",
    "import re\n",
    "import pandas as pd\n",
    "\n",
    "import boto3\n",
    "import botocore\n",
    "\n",
    "from IPython.display import display_markdown, Markdown, clear_output\n",
    "from PyPDF2 import PdfReader\n"
   ]
  },
  {
   "cell_type": "markdown",
   "id": "f892a385-2458-40c8-9416-6d74819a9d4a",
   "metadata": {},
   "source": [
    "### Initialize boto session"
   ]
  },
  {
   "cell_type": "code",
   "execution_count": 4,
   "id": "8ed5c71c-3a7e-421c-becc-ee9336e7a6d2",
   "metadata": {
    "tags": []
   },
   "outputs": [
    {
     "name": "stdout",
     "output_type": "stream",
     "text": [
      "us-east-1\n"
     ]
    }
   ],
   "source": [
    "# module_path = \"..\"\n",
    "# sys.path.append(os.path.abspath(module_path))\n",
    "\n",
    "boto_session = boto3.Session()\n",
    "aws_region = boto_session.region_name\n",
    "print(aws_region)\n",
    "br_client = boto_session.client(\"bedrock\", region_name=aws_region)\n",
    "br_runtime = boto_session.client(\"bedrock-runtime\", region_name=aws_region)\n"
   ]
  },
  {
   "cell_type": "markdown",
   "id": "cd61b405-d024-430b-8430-eb96866914e2",
   "metadata": {},
   "source": [
    "### Test Connection & List Foundation Models"
   ]
  },
  {
   "cell_type": "code",
   "execution_count": 5,
   "id": "2fa1dbd9-35b6-4cdf-aeef-0d5e41391beb",
   "metadata": {
    "tags": []
   },
   "outputs": [
    {
     "name": "stdout",
     "output_type": "stream",
     "text": [
      "(45, 10)\n"
     ]
    },
    {
     "data": {
      "text/html": [
       "<div>\n",
       "<style scoped>\n",
       "    .dataframe tbody tr th:only-of-type {\n",
       "        vertical-align: middle;\n",
       "    }\n",
       "\n",
       "    .dataframe tbody tr th {\n",
       "        vertical-align: top;\n",
       "    }\n",
       "\n",
       "    .dataframe thead th {\n",
       "        text-align: right;\n",
       "    }\n",
       "</style>\n",
       "<table border=\"1\" class=\"dataframe\">\n",
       "  <thead>\n",
       "    <tr style=\"text-align: right;\">\n",
       "      <th></th>\n",
       "      <th>modelArn</th>\n",
       "      <th>modelId</th>\n",
       "      <th>modelName</th>\n",
       "      <th>providerName</th>\n",
       "      <th>inputModalities</th>\n",
       "      <th>outputModalities</th>\n",
       "      <th>responseStreamingSupported</th>\n",
       "      <th>customizationsSupported</th>\n",
       "      <th>inferenceTypesSupported</th>\n",
       "      <th>modelLifecycle</th>\n",
       "    </tr>\n",
       "  </thead>\n",
       "  <tbody>\n",
       "    <tr>\n",
       "      <th>0</th>\n",
       "      <td>arn:aws:bedrock:us-east-1::foundation-model/am...</td>\n",
       "      <td>amazon.titan-tg1-large</td>\n",
       "      <td>Titan Text Large</td>\n",
       "      <td>Amazon</td>\n",
       "      <td>[TEXT]</td>\n",
       "      <td>[TEXT]</td>\n",
       "      <td>True</td>\n",
       "      <td>[]</td>\n",
       "      <td>[ON_DEMAND]</td>\n",
       "      <td>{'status': 'ACTIVE'}</td>\n",
       "    </tr>\n",
       "    <tr>\n",
       "      <th>1</th>\n",
       "      <td>arn:aws:bedrock:us-east-1::foundation-model/am...</td>\n",
       "      <td>amazon.titan-image-generator-v1:0</td>\n",
       "      <td>Titan Image Generator G1</td>\n",
       "      <td>Amazon</td>\n",
       "      <td>[TEXT, IMAGE]</td>\n",
       "      <td>[IMAGE]</td>\n",
       "      <td>NaN</td>\n",
       "      <td>[FINE_TUNING]</td>\n",
       "      <td>[ON_DEMAND, PROVISIONED]</td>\n",
       "      <td>{'status': 'ACTIVE'}</td>\n",
       "    </tr>\n",
       "    <tr>\n",
       "      <th>2</th>\n",
       "      <td>arn:aws:bedrock:us-east-1::foundation-model/am...</td>\n",
       "      <td>amazon.titan-image-generator-v1</td>\n",
       "      <td>Titan Image Generator G1</td>\n",
       "      <td>Amazon</td>\n",
       "      <td>[TEXT, IMAGE]</td>\n",
       "      <td>[IMAGE]</td>\n",
       "      <td>NaN</td>\n",
       "      <td>[]</td>\n",
       "      <td>[ON_DEMAND]</td>\n",
       "      <td>{'status': 'ACTIVE'}</td>\n",
       "    </tr>\n",
       "    <tr>\n",
       "      <th>3</th>\n",
       "      <td>arn:aws:bedrock:us-east-1::foundation-model/am...</td>\n",
       "      <td>amazon.titan-embed-g1-text-02</td>\n",
       "      <td>Titan Text Embeddings v2</td>\n",
       "      <td>Amazon</td>\n",
       "      <td>[TEXT]</td>\n",
       "      <td>[EMBEDDING]</td>\n",
       "      <td>NaN</td>\n",
       "      <td>[]</td>\n",
       "      <td>[ON_DEMAND]</td>\n",
       "      <td>{'status': 'ACTIVE'}</td>\n",
       "    </tr>\n",
       "    <tr>\n",
       "      <th>4</th>\n",
       "      <td>arn:aws:bedrock:us-east-1::foundation-model/am...</td>\n",
       "      <td>amazon.titan-text-lite-v1:0:4k</td>\n",
       "      <td>Titan Text G1 - Lite</td>\n",
       "      <td>Amazon</td>\n",
       "      <td>[TEXT]</td>\n",
       "      <td>[TEXT]</td>\n",
       "      <td>True</td>\n",
       "      <td>[FINE_TUNING, CONTINUED_PRE_TRAINING]</td>\n",
       "      <td>[PROVISIONED]</td>\n",
       "      <td>{'status': 'ACTIVE'}</td>\n",
       "    </tr>\n",
       "  </tbody>\n",
       "</table>\n",
       "</div>"
      ],
      "text/plain": [
       "                                            modelArn  \\\n",
       "0  arn:aws:bedrock:us-east-1::foundation-model/am...   \n",
       "1  arn:aws:bedrock:us-east-1::foundation-model/am...   \n",
       "2  arn:aws:bedrock:us-east-1::foundation-model/am...   \n",
       "3  arn:aws:bedrock:us-east-1::foundation-model/am...   \n",
       "4  arn:aws:bedrock:us-east-1::foundation-model/am...   \n",
       "\n",
       "                             modelId                 modelName providerName  \\\n",
       "0             amazon.titan-tg1-large          Titan Text Large       Amazon   \n",
       "1  amazon.titan-image-generator-v1:0  Titan Image Generator G1       Amazon   \n",
       "2    amazon.titan-image-generator-v1  Titan Image Generator G1       Amazon   \n",
       "3      amazon.titan-embed-g1-text-02  Titan Text Embeddings v2       Amazon   \n",
       "4     amazon.titan-text-lite-v1:0:4k      Titan Text G1 - Lite       Amazon   \n",
       "\n",
       "  inputModalities outputModalities responseStreamingSupported  \\\n",
       "0          [TEXT]           [TEXT]                       True   \n",
       "1   [TEXT, IMAGE]          [IMAGE]                        NaN   \n",
       "2   [TEXT, IMAGE]          [IMAGE]                        NaN   \n",
       "3          [TEXT]      [EMBEDDING]                        NaN   \n",
       "4          [TEXT]           [TEXT]                       True   \n",
       "\n",
       "                 customizationsSupported   inferenceTypesSupported  \\\n",
       "0                                     []               [ON_DEMAND]   \n",
       "1                          [FINE_TUNING]  [ON_DEMAND, PROVISIONED]   \n",
       "2                                     []               [ON_DEMAND]   \n",
       "3                                     []               [ON_DEMAND]   \n",
       "4  [FINE_TUNING, CONTINUED_PRE_TRAINING]             [PROVISIONED]   \n",
       "\n",
       "         modelLifecycle  \n",
       "0  {'status': 'ACTIVE'}  \n",
       "1  {'status': 'ACTIVE'}  \n",
       "2  {'status': 'ACTIVE'}  \n",
       "3  {'status': 'ACTIVE'}  \n",
       "4  {'status': 'ACTIVE'}  "
      ]
     },
     "execution_count": 5,
     "metadata": {},
     "output_type": "execute_result"
    }
   ],
   "source": [
    "fms = br_client.list_foundation_models()['modelSummaries']\n",
    "dfFM = pd.DataFrame(fms)\n",
    "print(dfFM.shape)\n",
    "dfFM.head()"
   ]
  },
  {
   "cell_type": "code",
   "execution_count": 6,
   "id": "9d40e865-f417-4dcd-ad88-72fe78253a60",
   "metadata": {
    "tags": []
   },
   "outputs": [
    {
     "data": {
      "text/plain": [
       "Index(['modelArn', 'modelId', 'modelName', 'providerName', 'inputModalities',\n",
       "       'outputModalities', 'responseStreamingSupported',\n",
       "       'customizationsSupported', 'inferenceTypesSupported', 'modelLifecycle'],\n",
       "      dtype='object')"
      ]
     },
     "execution_count": 6,
     "metadata": {},
     "output_type": "execute_result"
    }
   ],
   "source": [
    "dfFM.columns"
   ]
  },
  {
   "cell_type": "code",
   "execution_count": 7,
   "id": "4b147e97-1057-42b6-87ac-355fd743158b",
   "metadata": {
    "tags": []
   },
   "outputs": [
    {
     "data": {
      "text/plain": [
       "array(['Titan Text Large', 'Titan Image Generator G1',\n",
       "       'Titan Text Embeddings v2', 'Titan Text G1 - Lite',\n",
       "       'Titan Text G1 - Express', 'Titan Embeddings G1 - Text',\n",
       "       'Titan Multimodal Embeddings G1', 'SDXL 0.8', 'SDXL 1.0',\n",
       "       'J2 Grande Instruct', 'J2 Jumbo Instruct', 'Jurassic-2 Mid',\n",
       "       'Jurassic-2 Ultra', 'Claude Instant', 'Claude', 'Command',\n",
       "       'Command Light', 'Embed English', 'Embed Multilingual',\n",
       "       'Llama 2 Chat 13B', 'Llama 2 Chat 70B', 'Llama 2 13B',\n",
       "       'Llama 2 70B'], dtype=object)"
      ]
     },
     "execution_count": 7,
     "metadata": {},
     "output_type": "execute_result"
    }
   ],
   "source": [
    "dfFM.modelName.unique()"
   ]
  },
  {
   "cell_type": "markdown",
   "id": "e2daa91e-187a-4272-a2ef-1e719ddc2f5d",
   "metadata": {},
   "source": [
    "## Text Summarization\n",
    "\n",
    "### Download a public dataset"
   ]
  },
  {
   "cell_type": "code",
   "execution_count": 8,
   "id": "e9cb362d-87d3-4c65-8c60-3d1751fb6be0",
   "metadata": {
    "tags": []
   },
   "outputs": [
    {
     "name": "stderr",
     "output_type": "stream",
     "text": [
      "--2024-01-16 17:25:04--  https://www.fanniemae.com/media/49331/display\n",
      "Resolving www.fanniemae.com (www.fanniemae.com)... 104.18.26.25, 104.18.27.25, 2606:4700::6812:1a19, ...\n",
      "Connecting to www.fanniemae.com (www.fanniemae.com)|104.18.26.25|:443... connected.\n",
      "HTTP request sent, awaiting response... 200 OK\n",
      "Length: 249442 (244K) [application/pdf]\n",
      "Saving to: ‘fannie-mf-commentary-oct-2023.pdf’\n",
      "\n",
      "     0K .......... .......... .......... .......... .......... 20% 33.1M 0s\n",
      "    50K .......... .......... .......... .......... .......... 41% 21.4M 0s\n",
      "   100K .......... .......... .......... .......... .......... 61% 7.68M 0s\n",
      "   150K .......... .......... .......... .......... .......... 82%  198M 0s\n",
      "   200K .......... .......... .......... .......... ...       100%  264M=0.01s\n",
      "\n",
      "2024-01-16 17:25:04 (22.6 MB/s) - ‘fannie-mf-commentary-oct-2023.pdf’ saved [249442/249442]\n",
      "\n"
     ]
    }
   ],
   "source": [
    "%%sh\n",
    "\n",
    "wget -O fannie-mf-commentary-oct-2023.pdf https://www.fanniemae.com/media/49331/display"
   ]
  },
  {
   "cell_type": "markdown",
   "id": "d880c992-c1c4-4cc6-af4b-03839b8fb6ca",
   "metadata": {},
   "source": [
    "### Read and Extract Text from PDF File"
   ]
  },
  {
   "cell_type": "code",
   "execution_count": 9,
   "id": "629d0c5d-a168-4b14-a3bf-8a68a11be9f3",
   "metadata": {
    "tags": []
   },
   "outputs": [
    {
     "name": "stdout",
     "output_type": "stream",
     "text": [
      "Total Pages: 5\n"
     ]
    }
   ],
   "source": [
    "filename = 'fannie-mf-commentary-oct-2023.pdf'\n",
    "reader = PdfReader(filename)\n",
    "print(\"Total Pages:\", len(reader.pages))\n"
   ]
  },
  {
   "cell_type": "code",
   "execution_count": 10,
   "id": "4c9c0168-7d2c-4449-9318-96a0796bdd1a",
   "metadata": {
    "scrolled": true,
    "tags": []
   },
   "outputs": [
    {
     "name": "stdout",
     "output_type": "stream",
     "text": [
      "Page  1 \n",
      "\n",
      "1Multifamily Economic and Market Commentary\n",
      "OCTOBER 2023\n",
      "Rising Number of Multifamily Properties Offering Concessions\n",
      "Multifamily market fundamentals have softened in 2023 compared to the prior year, the result of mixed economic \n",
      "trends including slowing -but-still -positive job growth, elevated single -family housing prices keeping many renters in \n",
      "place, and continued favorable demographics. Rent growth was exceptional over the past two years, and, of course, \n",
      "unsustainable, thus 2023 has seen a substantial slowing of rent growth rates. There remains a robust pipeline of new \n",
      "apartment rental projects that are underway in the nation’s largest metros, and with recessionary concerns there has \n",
      "been a rise in the number of properties across the country offering concessions.\n",
      "In the multifamily apartment rental market, concessions are incentives with an economic value for renters, such as \n",
      "periods of free rent, free utilities, or other amenities. And in a competitive market when property owners need to fill \n",
      "vacant units, concessions are one of the ways they attract tenants. As seen in the charts below, recent concessions data \n",
      "from RealPage show that the multifamily market has seen softening trends over the past year: There is a notably higher \n",
      "percentage of units offering concessions than a year ago –  up from 5.2% of all units in August 2022 to 9.0% of all units \n",
      "in August 2023. However, the value of the concession being offered has slightly declined, from 7.7% of asking rent in \n",
      "August 2022 to 7.2% in August 2023, which is slightly less than one month’s free rent. It’s important to note that the \n",
      "overall level of concessions continues to be well above the low levels observed just before the pandemic. \n",
      "Source: RealPage\n",
      "Supply of New Units Remains High\n",
      "According to the Dodge Data & Analytics Supply Track construction pipeline data, the number of apartment units \n",
      "completed across the country may reach a record in 2023. According to Dodge, as of the middle of 2023, nearly 730,000 \n",
      "units were underway with completion dates expected in 2023, though only 164,000 were completed year to date through \n",
      "April. That’s compared to full -year totals of 479,000 units in 2022 and 395,000 units in 2021. The overall pipeline \n",
      "underway is slightly lower than it was in the prior year: As of July 2023, 1,116,000 units were underway, compared to \n",
      "1,141,000 in July 2022. With supply chains operating more efficiently in 2023 than in 2022, substantially more units may \n",
      "be completed this year than last, which we believe might lead to about 500,000 units delivering this year. Multifamily concession rate National % of multifamily units offering concessions\n",
      "3%5%7%9%11%13%15%17%\n",
      "5.5%6.0%6.5%7.0%7.5%8.0%8.5%9.0% \n",
      "\n",
      "\n",
      "Page  2 \n",
      "\n",
      "2Multifamily Economic and Market Commentary\n",
      "Concessions Declining in Most Major Markets \n",
      "Source: RealPageMultifamily monthly concession rate by market – select metrosAs has been the case for several years, new apartment supply has been concentrated in the nation’s largest and rapidly \n",
      "growing metropolitan areas. New York City continues to be the most active metro in the country, with nearly 150,000 units \n",
      "either recently completed or underway, with Dallas next at 74,000 units. Houston and Atlanta are also each expecting at \n",
      "least 50,000 units will be completed this year. \n",
      "The robust supply in many of these markets, along with consumer skittishness over economic trends, appears to have \n",
      "impacted demand. As seen below, with the exceptions of New York and Chicago, all have seen the percentage of units \n",
      "offering concessions rise compared to the prior year. Atlanta, Dallas, and Phoenix have each seen increases of more than \n",
      "5%. It is noteworthy, however, that eight of the 12 markets shown below have seen concession values decline over the pri or \n",
      "year, and that the largest increase, in Phoenix, was just 2.8%. We believe that these mixed trends suggest that demand for \n",
      "rental apartments has declined so quickly, especially over the past few months, that combined with competition from new \n",
      "units coming online, Class A unit property owners are instead dropping asking rents to lure in new tenants. \n",
      "Concession % of Asking Rent \n",
      "(Left Axis)% of Units Offering Concessions \n",
      "(Right Axis) \n",
      "\n",
      "\n",
      "Page  3 \n",
      "\n",
      "3Multifamily Economic and Market Commentary\n",
      "4.0%5.0%6.0%7.0%8.0%9.0%10.0%11.0%\n",
      "A B CHigher Class A Concessions Continue, More B and C Offering Concessions\n",
      "During the current multi -year development cycle, multifamily builders have primarily been constructing more \n",
      "expensive, amenity -offering apartments, usually referred to as Class A units. As seen in the charts below, with \n",
      "increased competition among this class, property owners have had to offer a generally higher level of concession, as \n",
      "well as more properties having to offer them. The value of Class A concessions increased significantly at the beginning \n",
      "of the pandemic and has remained comparatively high, well above Class B and C units during this period. And over the \n",
      "past year, as demand has softened compared to the prior year, the value of concessions for Class A units has declined \n",
      "slightly, from 8.6% in August 2022 to 8.1% in August 2023, most likely due to the decrease in asking rents. But the \n",
      "percent of Class A units offering these concessions has risen more notably, from 6.7% a year ago to 9.5% as of August \n",
      "2023.\n",
      "The softening demand for apartments over the past year is also observed in the rising percentage of units offering \n",
      "concessions in Class B and C units. As of August 2022, 4.8% of Class B units were offering concessions, while just 3.7% \n",
      "of Class C were. But both classes have seen noteworthy increases: As of August 2023, 8.4% Class B units were offering \n",
      "concessions, up 3.6% from the prior year, and 9.2% of Class C units were, up 5.5% from the prior year.\n",
      "National monthly concession rates by class\n",
      "Source: RealPage, Inc. \n",
      "Its is noteworthy, however, that the value of the concession being offered has not changed significantly among Class \n",
      "B and C units over the past year. Class B units have slightly decreased the value of the concessions being offered, \n",
      "from 6.8% a year ago to 6.5% in August 2023. However, the value of Class C concessions has risen slightly, increasing \n",
      "from 6.5% a year ago to 6.7% in August 2023.\n",
      "The mixed signals across all three classes of properties indicate that overall demand has softened and that many \n",
      "property owners have decided to move quickly by dropping asking rents combined with offering a slightly lower \n",
      "concession as an offset in an attempt to bring in new tenants. 2.0%4.0%6.0%8.0%10.0%12.0%14.0%16.0%18.0%20.0%\n",
      "A B CPercent of units offering concessions by class \n",
      "\n",
      "\n",
      "Page  4 \n",
      "\n",
      "4Multifamily Economic and Market Commentary\n",
      "Further Softening Expected to Lead to More Concessions and Stagnant Rent Growth\n",
      "After exceptional rent growth rates in 2021 and 2022, it was generally expected that 2023 would see easing of \n",
      "multifamily rent growth and overall fundamentals, including vacancy rates. In general, that has been the case. \n",
      "Softening in demand during the first half of this year resulted in a below -average rent growth of just 1.0% for \n",
      "the nation, and a modest rise in vacancies. But some metros had notably weaker results, experiencing modest \n",
      "rent contractions, including Austin, Las Vegas, San Francisco, and Phoenix. \n",
      "Because of this fundamental demand softness, and our current expectation of a mild recession in the first half \n",
      "of 2024, a further rise in the number of units offering concessions may be on the horizon. It is noteworthy that \n",
      "amid significantly weaker conditions in 2023 compared to 2022 the value of concessions offered by property \n",
      "owners has been generally stable; instead, property owners have moved to offering lower asking rent levels.  \n",
      "However, with a robust pipeline of supply expected over the next 18 months, we believe there will continue to \n",
      "be pressure on owners to offer more generous concessions along with lower rents. Combining that new \n",
      "competition with likely unemployment increases and a rental household formation slowdown would likely \n",
      "result in owners using a combination of both options to not only retain their current tenants but to also gain \n",
      "new ones. And that would still include all classes of units, including the more affordable Class B and C.\n",
      "We believe the forecasted economic slowdown, combined with the robust supply of new apartment units that \n",
      "are underway, will likely add stress to the multifamily sector over the next 12 to 18 months. But we continue to \n",
      "believe that demand for multifamily rental housing will remain stable over the longer term due to home \n",
      "purchase affordability constraints and higher interest rates keeping many tenants from moving to \n",
      "homeownership. As a result, we believe that many renters -by-choice will stay in their units for slightly longer, \n",
      "especially if they are able to take advantage of lower rent levels and more generous concessions. \n",
      "\n",
      "\n",
      "Page  5 \n",
      "\n",
      "Multifamily Economic and Market Commentary\n",
      "5Tim Komosa\n",
      "Economist - Senior Manager\n",
      "Multifamily Economics and Research\n",
      "October 2023\n",
      "Opinions, analyses, estimates, forecasts, and other views of Fannie Mae’s Economic and \n",
      "Strategic Research (ESR) Group included in these materials should not be construed as \n",
      "indicating Fannie Mae’s business prospects or expected results, are based on a number of \n",
      "assumptions, and are subject to change without notice. How this information affects Fannie \n",
      "Mae will depend on many factors. Although the ESR Group bases its opinions, analyses, \n",
      "estimates, forecasts, and other views on information it considers reliable, it does not \n",
      "guarantee that the information provided in these materials is accurate, current, or suitable \n",
      "for any particular purpose. Changes in the assumptions or the information underlying these \n",
      "views could produce materially different results. The analyses, opinions, estimates, \n",
      "forecasts, and other views published by the ESR Group represent the views of that group as \n",
      "of the date indicated and do not necessarily represent the views of Fannie Mae or its \n",
      "management.\n",
      "© 2023 Fannie Mae \n",
      "\n",
      "\n"
     ]
    }
   ],
   "source": [
    "pages = []\n",
    "\n",
    "for idx, page in enumerate(reader.pages):\n",
    "    print(\"Page \", idx + 1, \"\\n\")\n",
    "    text = page.extract_text(0) # 0 for orientation 90 degree upright \n",
    "    pages.append(text)\n",
    "    print(text, \"\\n\\n\")"
   ]
  },
  {
   "cell_type": "code",
   "execution_count": 11,
   "id": "8e7b8bca-9ea4-4c83-96bb-8b2c4e286456",
   "metadata": {
    "scrolled": true,
    "tags": []
   },
   "outputs": [
    {
     "data": {
      "text/plain": [
       "'1Multifamily Economic and Market Commentary\\nOCTOBER 2023\\nRising Number of Multifamily Properties Offering Concessions\\nMultifamily market fundamentals have softened in 2023 compared to the prior year, the result of mixed economic \\ntrends including slowing -but-still -positive job growth, elevated single -family housing prices keeping many renters in \\nplace, and continued favorable demographics. Rent growth was exceptional over the past two years, and, of course, \\nunsustainable, thus 2023 has seen a substantial slowing of rent growth rates. There remains a robust pipeline of new \\napartment rental projects that are underway in the nation’s largest metros, and with recessionary concerns there has \\nbeen a rise in the number of properties across the country offering concessions.\\nIn the multifamily apartment rental market, concessions are incentives with an economic value for renters, such as \\nperiods of free rent, free utilities, or other amenities. And in a competitive market when property owners need to fill \\nvacant units, concessions are one of the ways they attract tenants. As seen in the charts below, recent concessions data \\nfrom RealPage show that the multifamily market has seen softening trends over the past year: There is a notably higher \\npercentage of units offering concessions than a year ago –  up from 5.2% of all units in August 2022 to 9.0% of all units \\nin August 2023. However, the value of the concession being offered has slightly declined, from 7.7% of asking rent in \\nAugust 2022 to 7.2% in August 2023, which is slightly less than one month’s free rent. It’s important to note that the \\noverall level of concessions continues to be well above the low levels observed just before the pandemic. \\nSource: RealPage\\nSupply of New Units Remains High\\nAccording to the Dodge Data & Analytics Supply Track construction pipeline data, the number of apartment units \\ncompleted across the country may reach a record in 2023. According to Dodge, as of the middle of 2023, nearly 730,000 \\nunits were underway with completion dates expected in 2023, though only 164,000 were completed year to date through \\nApril. That’s compared to full -year totals of 479,000 units in 2022 and 395,000 units in 2021. The overall pipeline \\nunderway is slightly lower than it was in the prior year: As of July 2023, 1,116,000 units were underway, compared to \\n1,141,000 in July 2022. With supply chains operating more efficiently in 2023 than in 2022, substantially more units may \\nbe completed this year than last, which we believe might lead to about 500,000 units delivering this year. Multifamily concession rate National % of multifamily units offering concessions\\n3%5%7%9%11%13%15%17%\\n5.5%6.0%6.5%7.0%7.5%8.0%8.5%9.0%\\n2Multifamily Economic and Market Commentary\\nConcessions Declining in Most Major Markets \\nSource: RealPageMultifamily monthly concession rate by market – select metrosAs has been the case for several years, new apartment supply has been concentrated in the nation’s largest and rapidly \\ngrowing metropolitan areas. New York City continues to be the most active metro in the country, with nearly 150,000 units \\neither recently completed or underway, with Dallas next at 74,000 units. Houston and Atlanta are also each expecting at \\nleast 50,000 units will be completed this year. \\nThe robust supply in many of these markets, along with consumer skittishness over economic trends, appears to have \\nimpacted demand. As seen below, with the exceptions of New York and Chicago, all have seen the percentage of units \\noffering concessions rise compared to the prior year. Atlanta, Dallas, and Phoenix have each seen increases of more than \\n5%. It is noteworthy, however, that eight of the 12 markets shown below have seen concession values decline over the pri or \\nyear, and that the largest increase, in Phoenix, was just 2.8%. We believe that these mixed trends suggest that demand for \\nrental apartments has declined so quickly, especially over the past few months, that combined with competition from new \\nunits coming online, Class A unit property owners are instead dropping asking rents to lure in new tenants. \\nConcession % of Asking Rent \\n(Left Axis)% of Units Offering Concessions \\n(Right Axis)\\n3Multifamily Economic and Market Commentary\\n4.0%5.0%6.0%7.0%8.0%9.0%10.0%11.0%\\nA B CHigher Class A Concessions Continue, More B and C Offering Concessions\\nDuring the current multi -year development cycle, multifamily builders have primarily been constructing more \\nexpensive, amenity -offering apartments, usually referred to as Class A units. As seen in the charts below, with \\nincreased competition among this class, property owners have had to offer a generally higher level of concession, as \\nwell as more properties having to offer them. The value of Class A concessions increased significantly at the beginning \\nof the pandemic and has remained comparatively high, well above Class B and C units during this period. And over the \\npast year, as demand has softened compared to the prior year, the value of concessions for Class A units has declined \\nslightly, from 8.6% in August 2022 to 8.1% in August 2023, most likely due to the decrease in asking rents. But the \\npercent of Class A units offering these concessions has risen more notably, from 6.7% a year ago to 9.5% as of August \\n2023.\\nThe softening demand for apartments over the past year is also observed in the rising percentage of units offering \\nconcessions in Class B and C units. As of August 2022, 4.8% of Class B units were offering concessions, while just 3.7% \\nof Class C were. But both classes have seen noteworthy increases: As of August 2023, 8.4% Class B units were offering \\nconcessions, up 3.6% from the prior year, and 9.2% of Class C units were, up 5.5% from the prior year.\\nNational monthly concession rates by class\\nSource: RealPage, Inc. \\nIts is noteworthy, however, that the value of the concession being offered has not changed significantly among Class \\nB and C units over the past year. Class B units have slightly decreased the value of the concessions being offered, \\nfrom 6.8% a year ago to 6.5% in August 2023. However, the value of Class C concessions has risen slightly, increasing \\nfrom 6.5% a year ago to 6.7% in August 2023.\\nThe mixed signals across all three classes of properties indicate that overall demand has softened and that many \\nproperty owners have decided to move quickly by dropping asking rents combined with offering a slightly lower \\nconcession as an offset in an attempt to bring in new tenants. 2.0%4.0%6.0%8.0%10.0%12.0%14.0%16.0%18.0%20.0%\\nA B CPercent of units offering concessions by class\\n4Multifamily Economic and Market Commentary\\nFurther Softening Expected to Lead to More Concessions and Stagnant Rent Growth\\nAfter exceptional rent growth rates in 2021 and 2022, it was generally expected that 2023 would see easing of \\nmultifamily rent growth and overall fundamentals, including vacancy rates. In general, that has been the case. \\nSoftening in demand during the first half of this year resulted in a below -average rent growth of just 1.0% for \\nthe nation, and a modest rise in vacancies. But some metros had notably weaker results, experiencing modest \\nrent contractions, including Austin, Las Vegas, San Francisco, and Phoenix. \\nBecause of this fundamental demand softness, and our current expectation of a mild recession in the first half \\nof 2024, a further rise in the number of units offering concessions may be on the horizon. It is noteworthy that \\namid significantly weaker conditions in 2023 compared to 2022 the value of concessions offered by property \\nowners has been generally stable; instead, property owners have moved to offering lower asking rent levels.  \\nHowever, with a robust pipeline of supply expected over the next 18 months, we believe there will continue to \\nbe pressure on owners to offer more generous concessions along with lower rents. Combining that new \\ncompetition with likely unemployment increases and a rental household formation slowdown would likely \\nresult in owners using a combination of both options to not only retain their current tenants but to also gain \\nnew ones. And that would still include all classes of units, including the more affordable Class B and C.\\nWe believe the forecasted economic slowdown, combined with the robust supply of new apartment units that \\nare underway, will likely add stress to the multifamily sector over the next 12 to 18 months. But we continue to \\nbelieve that demand for multifamily rental housing will remain stable over the longer term due to home \\npurchase affordability constraints and higher interest rates keeping many tenants from moving to \\nhomeownership. As a result, we believe that many renters -by-choice will stay in their units for slightly longer, \\nespecially if they are able to take advantage of lower rent levels and more generous concessions.\\nMultifamily Economic and Market Commentary\\n5Tim Komosa\\nEconomist - Senior Manager\\nMultifamily Economics and Research\\nOctober 2023\\nOpinions, analyses, estimates, forecasts, and other views of Fannie Mae’s Economic and \\nStrategic Research (ESR) Group included in these materials should not be construed as \\nindicating Fannie Mae’s business prospects or expected results, are based on a number of \\nassumptions, and are subject to change without notice. How this information affects Fannie \\nMae will depend on many factors. Although the ESR Group bases its opinions, analyses, \\nestimates, forecasts, and other views on information it considers reliable, it does not \\nguarantee that the information provided in these materials is accurate, current, or suitable \\nfor any particular purpose. Changes in the assumptions or the information underlying these \\nviews could produce materially different results. The analyses, opinions, estimates, \\nforecasts, and other views published by the ESR Group represent the views of that group as \\nof the date indicated and do not necessarily represent the views of Fannie Mae or its \\nmanagement.\\n© 2023 Fannie Mae'"
      ]
     },
     "execution_count": 11,
     "metadata": {},
     "output_type": "execute_result"
    }
   ],
   "source": [
    "# combime extracted text from all pages\n",
    "all_text = \"\\n\".join(pages)\n",
    "all_text"
   ]
  },
  {
   "cell_type": "markdown",
   "id": "2dd04f21-3749-4646-add7-f2f073f4d597",
   "metadata": {},
   "source": [
    "### Total Tokens Count"
   ]
  },
  {
   "cell_type": "code",
   "execution_count": 12,
   "id": "02b58389-2fae-4189-b773-1c5f128c7a81",
   "metadata": {
    "tags": []
   },
   "outputs": [
    {
     "data": {
      "text/plain": [
       "1674"
      ]
     },
     "execution_count": 12,
     "metadata": {},
     "output_type": "execute_result"
    }
   ],
   "source": [
    "# count the number of tokens\n",
    "len(re.findall(r\"[\\w']+\", all_text))"
   ]
  },
  {
   "cell_type": "markdown",
   "id": "df9ca29d-1590-4692-b694-81f80e64d2c2",
   "metadata": {},
   "source": [
    "### Prompt Engineering\n",
    "\n",
    "Prompts are a specific set of inputs provided by you, the user, that guide LLMs on Amazon Bedrock to generate an appropriate response or output for a given task or instruction. Prompt engineering refers to the practice of crafting and optimizing input prompts by selecting appropriate words, phrases, sentences, punctuation, and separator characters to effectively use LLMs for a wide variety of applications. In other words, prompt engineering is the art of communicating with an LLM. High-quality prompts condition the LLM to generate desired or better responses.\n",
    "\n",
    "Summarization: The prompt is a passage of text, and the model must respond with a shorter passage that captures the main points of the input. \n"
   ]
  },
  {
   "cell_type": "code",
   "execution_count": 13,
   "id": "4d19f0cf-9d30-4afc-a70a-702f0901f925",
   "metadata": {
    "tags": []
   },
   "outputs": [],
   "source": [
    "# Do not add any information that is not mentioned in the text below.\n",
    "\n",
    "prompt = f\"\"\"\n",
    "Please provide a summary of the following text. \n",
    "\n",
    "<text>\n",
    "{all_text}\n",
    "</text>\n",
    "\n",
    "\"\"\""
   ]
  },
  {
   "cell_type": "markdown",
   "id": "0b55d6bb-8991-4521-8db0-950fb55dafb4",
   "metadata": {},
   "source": [
    "### LLM Inference Parameters\n",
    "Inference parameters are values that you can adjust to limit or influence the model response. \n",
    "\n",
    "#### Randomness and Diversity\n",
    "For any given sequence, a model determines a probability distribution of options for the next token in the sequence. To generate each token in an output, the model samples from this distribution. Randomness and diversity refer to the amount of variation in a model's response.\n",
    "\n",
    "Temperature– Affects the shape of the probability distribution for the predicted output and influences the likelihood of the model selecting lower-probability outputs.\n",
    "\n",
    "        Choose a lower value to influence the model to select higher-probability outputs.\n",
    "        Choose a higher value to influence the model to select lower-probability outputs.\n",
    "\n",
    "    In technical terms, the temperature modulates the probability mass function for the next token. A lower temperature steepens the function and leads to more deterministic responses, and a higher temperature flattens the function and leads to more random responses.\n",
    "\n",
    "Top K – The number of most-likely candidates that the model considers for the next token.\n",
    "\n",
    "        Choose a lower value to decrease the size of the pool and limit the options to more likely outputs.\n",
    "        Choose a higher value to increase the size of the pool and allow the model to consider less likely outputs.\n",
    "\n",
    "    For example, if you choose a value of 50 for Top K, the model selects from 50 of the most probable tokens that could be next in the sequence.\n",
    "\n",
    "Top P – The percentage of most-likely candidates that the model considers for the next token.\n",
    "\n",
    "        Choose a lower value to decrease the size of the pool and limit the options to more likely outputs.\n",
    "        Choose a higher value to increase the size of the pool and allow the model to consider less likely outputs.\n",
    "\n",
    "    In technical terms, the model computes the cumulative probability distribution for the set of responses and considers only the top P% of the distribution. For example, if you choose a value of 0.8 for Top P, the model selects from the top 80% of the probability distribution of tokens that could be next in the sequence.\n",
    "\n",
    "#### Length\n",
    "Foundation models typically support parameters that limit the length of the response. \n",
    "\n",
    "Response length – An exact value to specify the minimum or maximum number of tokens to return in the generated response.\n",
    "\n",
    "Penalties – Specify the degree to which to penalize outputs in a response. Examples include the following.\n",
    "\n",
    "        The length of the response.\n",
    "        Repeated tokens in a response.\n",
    "        Frequency of tokens in a response.\n",
    "        Types of tokens in a response.\n",
    "\n",
    "Stop sequences – Specify sequences of characters that stop the model from generating further tokens. If the model generates a stop sequence that you specify, it will stop generating after that sequence.\n",
    "\n"
   ]
  },
  {
   "cell_type": "markdown",
   "id": "e87ca1ca-9943-4d7e-94ea-53574eaedd68",
   "metadata": {},
   "source": [
    "### Invoke Bedrock FM API\n",
    "#### Amazon Titan Large Model\n",
    "Here sends the API request to Amazon Bedrock with specifying request parameters modelId, accept, and contentType. Following the prompt, the foundation model in Amazon Bedrock sumamrizes the text. In this Bedrock service generates the entire summary for the given prompt in a single output, this can be slow if the output contains large amount of tokens."
   ]
  },
  {
   "cell_type": "code",
   "execution_count": 14,
   "id": "32a2d7f2-02df-4118-9647-73ce4496733b",
   "metadata": {
    "tags": []
   },
   "outputs": [
    {
     "name": "stdout",
     "output_type": "stream",
     "text": [
      "181\n",
      "The number of multifamily properties offering concessions has increased in 2023 due to a mix of economic trends, including slowing but still positive job growth, elevated single-family housing prices, and favorable demographics. Rent growth has slowed significantly, and there is a robust pipeline of new apartment rental projects underway in the nation's largest metros. Concessions are incentives with an economic value for renters, such as periods of free rent, free utilities, or other amenities. The value of the concession being offered has slightly declined, from 7.7% of asking rent in August 2022 to 7.2% in August 2023. Supply of new units remains high, with nearly 730,000 units underway with completion dates expected in 2023, though only 164,000 were completed year to date through April.\n",
      "\n",
      "The number of apartment units completed across the country may reach a record in 2023, with nearly 730,000 units underway with completion dates expected in 2023. New apartment supply has been concentrated in the nation's largest and rapidly growing metropolitan areas, with New York City being the most active metro in\n",
      "CPU times: user 16.8 ms, sys: 204 µs, total: 17 ms\n",
      "Wall time: 9.18 s\n"
     ]
    }
   ],
   "source": [
    "%%time\n",
    "\n",
    "body = json.dumps({\"inputText\": prompt, \n",
    "                   \"textGenerationConfig\":{\n",
    "                       \"maxTokenCount\":256,\n",
    "                       \"stopSequences\":[],\n",
    "                       \"temperature\":0,\n",
    "                       \"topP\":1\n",
    "                   },\n",
    "                  }) \n",
    "\n",
    "modelId = 'amazon.titan-tg1-large' # change this to use a different version from the model provider\n",
    "accept = 'application/json'\n",
    "contentType = 'application/json'\n",
    "\n",
    "try:\n",
    "    \n",
    "    response = br_runtime.invoke_model(body=body, modelId=modelId, accept=accept, contentType=contentType)\n",
    "    response_body = json.loads(response.get('body').read())\n",
    "    output_text = response_body.get('results')[0].get('outputText')\n",
    "    print(len(re.findall(r\"[\\w']+\", output_text)))\n",
    "    print(output_text)\n",
    "\n",
    "except botocore.exceptions.ClientError as error:    \n",
    "    raise error"
   ]
  },
  {
   "cell_type": "markdown",
   "id": "de4789f1-6ec1-470d-af48-9a60170f1ee7",
   "metadata": {
    "tags": []
   },
   "source": [
    "### Streaming LLM Output"
   ]
  },
  {
   "cell_type": "code",
   "execution_count": 15,
   "id": "ddc79155-cf08-478c-b44c-9dcd1bc3aa22",
   "metadata": {
    "scrolled": true,
    "tags": []
   },
   "outputs": [
    {
     "name": "stdout",
     "output_type": "stream",
     "text": [
      "The number of multifamily properties offering concessions has increased in 2023 due to a mix of economic trends, including slowing but still positive job growth, elevated single-family housing prices, and favorable demographics. Rent growth has slowed significantly, and there is a robust pipeline of new apartment rental projects underway in the nation's largest metros. Concessions are incentives with an economic value for renters, such as periods of free rent, free utilities, or other amenities. The value of the concession being offered has slightly declined, from 7.7% of asking rent in August 2022 to 7.2% in August 2023. Supply of new units remains high, with nearly 730,000 units underway with completion dates expected in 2023, though only 164,000 were completed year to date through April.\n",
      "\n",
      "The number of apartment units completed across the country may reach a record in 2023, with nearly 730,000 units underway with completion dates expected in 2023. New apartment supply has been concentrated in the nation's largest and rapidly growing metropolitan areas, with New York City being the most active metro in\n",
      "CPU times: user 12.6 ms, sys: 7.36 ms, total: 19.9 ms\n",
      "Wall time: 10.4 s\n"
     ]
    }
   ],
   "source": [
    "%%time\n",
    "\n",
    "try:\n",
    "    response = br_runtime.invoke_model_with_response_stream(body=body, modelId=modelId, accept=accept, contentType=contentType)\n",
    "    stream = response.get('body')\n",
    "    output = []\n",
    "    i = 1\n",
    "    if stream:\n",
    "        for event in stream:\n",
    "            chunk = event.get('chunk')\n",
    "            if chunk:\n",
    "                chunk_obj = json.loads(chunk.get('bytes').decode())\n",
    "                text = chunk_obj['outputText']\n",
    "                clear_output(wait=True)\n",
    "                output.append(text)\n",
    "                display_markdown(Markdown(''.join(output)))\n",
    "                i+=1\n",
    "\n",
    "    clear_output(wait=True)\n",
    "    print(''.join(output))\n",
    "\n",
    "except botocore.exceptions.ClientError as error:\n",
    "    raise error"
   ]
  },
  {
   "cell_type": "markdown",
   "id": "10769ecd",
   "metadata": {},
   "source": [
    "### Meta - LlaMa 13B Model \n",
    "Here is an example of API request for sending text to Meta Llama 2. Inference parameters in textGenerationConfig depends on the model that you are about to use. Inference paramerters of Meta Llama 2 are:\n",
    "\n",
    "     response = bedrock.invoke_model(body=\n",
    "                                {\"prompt\": prompt,\n",
    "                                 \"max_gen_len\": 512,\n",
    "                            \t \"temperature\": 0.2,\n",
    "                            \t \"top_p\": 0.9\n",
    "                                },\n",
    "                                modelId=\"meta.llama2-13b-chat-v1\", \n",
    "                                accept=accept, \n",
    "                                contentType=contentType)\n"
   ]
  },
  {
   "cell_type": "code",
   "execution_count": 16,
   "id": "aad79397",
   "metadata": {
    "tags": []
   },
   "outputs": [
    {
     "name": "stdout",
     "output_type": "stream",
     "text": [
      "Here is a summary of the text:\n",
      "\n",
      "The multifamily housing market is experiencing a softening of fundamentals, including a rise in the number of properties offering concessions, due to mixed economic trends and a robust pipeline of new apartment rental projects. The number of units completed across the country may reach a record in 2023, with the highest levels observed in New York City, Dallas, Houston, and Atlanta. The overall pipeline underway is slightly lower than last year, and supply chains are operating more efficiently. The multifamily concession rate has declined slightly, but the value of concessions remains well above pre-pandemic levels. Class A units have seen the highest level of concessions, while Class B and C units have seen a notable increase in the percentage of units offering concessions. The softening demand for apartments is expected to lead to more concessions and stagnant rent growth.\n",
      "CPU times: user 4.84 ms, sys: 43 µs, total: 4.89 ms\n",
      "Wall time: 6.1 s\n"
     ]
    }
   ],
   "source": [
    "%%time\n",
    "\n",
    "body = json.dumps({\"prompt\": prompt,\n",
    "                 \"max_gen_len\": 512,\n",
    "            \t \"temperature\": 0.2,\n",
    "            \t \"top_p\": 0.9\n",
    "                  }) \n",
    "\n",
    "modelId = 'meta.llama2-13b-chat-v1' # change this to use a different version from the model provider\n",
    "accept = 'application/json'\n",
    "contentType = 'application/json'\n",
    "\n",
    "try:\n",
    "    response = br_runtime.invoke_model(body=body, modelId=modelId, accept=accept, contentType=contentType)\n",
    "    response_body = json.loads(response.get('body').read().decode('utf-8'))\n",
    "    print(response_body.get('generation'))\n",
    "except botocore.exceptions.ClientError as error:    \n",
    "    raise error"
   ]
  },
  {
   "cell_type": "markdown",
   "id": "1773a8da",
   "metadata": {},
   "source": [
    "### Conclusion\n",
    "\n",
    "You have now experimented with using boto3 SDK which provides a vanilla exposure to Amazon Bedrock API. Using this API you have seen the use case of generating a summary of a PDF file using 2 different foundation models: entire output and streaming output generation.\n",
    "\n",
    "#### Take aways\n",
    "- Adapt this notebook to experiment with different models available through Amazon Bedrock such as Amazon Titan and AI21 Labs Jurassic models.\n",
    "- Change the prompts to your specific usecase and evaluate the output of different models.\n",
    "- Play with the token length to understand the latency and responsiveness of the service.\n",
    "- Apply different prompt engineering principles to get better outputs."
   ]
  },
  {
   "cell_type": "markdown",
   "id": "69dd678a-21bd-4330-95d3-abdf06188d43",
   "metadata": {},
   "source": [
    "### Restart Kernel"
   ]
  },
  {
   "cell_type": "code",
   "execution_count": 17,
   "id": "1f781ff0-eee5-441a-9203-afa15f89a6ad",
   "metadata": {
    "tags": []
   },
   "outputs": [
    {
     "data": {
      "text/html": [
       "<script>Jupyter.notebook.kernel.restart()</script>"
      ],
      "text/plain": [
       "<IPython.core.display.HTML object>"
      ]
     },
     "execution_count": 17,
     "metadata": {},
     "output_type": "execute_result"
    }
   ],
   "source": [
    "# restart kernel\n",
    "from IPython.core.display import HTML\n",
    "HTML(\"<script>Jupyter.notebook.kernel.restart()</script>\")"
   ]
  }
 ],
 "metadata": {
  "availableInstances": [
   {
    "_defaultOrder": 0,
    "_isFastLaunch": true,
    "category": "General purpose",
    "gpuNum": 0,
    "hideHardwareSpecs": false,
    "memoryGiB": 4,
    "name": "ml.t3.medium",
    "vcpuNum": 2
   },
   {
    "_defaultOrder": 1,
    "_isFastLaunch": false,
    "category": "General purpose",
    "gpuNum": 0,
    "hideHardwareSpecs": false,
    "memoryGiB": 8,
    "name": "ml.t3.large",
    "vcpuNum": 2
   },
   {
    "_defaultOrder": 2,
    "_isFastLaunch": false,
    "category": "General purpose",
    "gpuNum": 0,
    "hideHardwareSpecs": false,
    "memoryGiB": 16,
    "name": "ml.t3.xlarge",
    "vcpuNum": 4
   },
   {
    "_defaultOrder": 3,
    "_isFastLaunch": false,
    "category": "General purpose",
    "gpuNum": 0,
    "hideHardwareSpecs": false,
    "memoryGiB": 32,
    "name": "ml.t3.2xlarge",
    "vcpuNum": 8
   },
   {
    "_defaultOrder": 4,
    "_isFastLaunch": true,
    "category": "General purpose",
    "gpuNum": 0,
    "hideHardwareSpecs": false,
    "memoryGiB": 8,
    "name": "ml.m5.large",
    "vcpuNum": 2
   },
   {
    "_defaultOrder": 5,
    "_isFastLaunch": false,
    "category": "General purpose",
    "gpuNum": 0,
    "hideHardwareSpecs": false,
    "memoryGiB": 16,
    "name": "ml.m5.xlarge",
    "vcpuNum": 4
   },
   {
    "_defaultOrder": 6,
    "_isFastLaunch": false,
    "category": "General purpose",
    "gpuNum": 0,
    "hideHardwareSpecs": false,
    "memoryGiB": 32,
    "name": "ml.m5.2xlarge",
    "vcpuNum": 8
   },
   {
    "_defaultOrder": 7,
    "_isFastLaunch": false,
    "category": "General purpose",
    "gpuNum": 0,
    "hideHardwareSpecs": false,
    "memoryGiB": 64,
    "name": "ml.m5.4xlarge",
    "vcpuNum": 16
   },
   {
    "_defaultOrder": 8,
    "_isFastLaunch": false,
    "category": "General purpose",
    "gpuNum": 0,
    "hideHardwareSpecs": false,
    "memoryGiB": 128,
    "name": "ml.m5.8xlarge",
    "vcpuNum": 32
   },
   {
    "_defaultOrder": 9,
    "_isFastLaunch": false,
    "category": "General purpose",
    "gpuNum": 0,
    "hideHardwareSpecs": false,
    "memoryGiB": 192,
    "name": "ml.m5.12xlarge",
    "vcpuNum": 48
   },
   {
    "_defaultOrder": 10,
    "_isFastLaunch": false,
    "category": "General purpose",
    "gpuNum": 0,
    "hideHardwareSpecs": false,
    "memoryGiB": 256,
    "name": "ml.m5.16xlarge",
    "vcpuNum": 64
   },
   {
    "_defaultOrder": 11,
    "_isFastLaunch": false,
    "category": "General purpose",
    "gpuNum": 0,
    "hideHardwareSpecs": false,
    "memoryGiB": 384,
    "name": "ml.m5.24xlarge",
    "vcpuNum": 96
   },
   {
    "_defaultOrder": 12,
    "_isFastLaunch": false,
    "category": "General purpose",
    "gpuNum": 0,
    "hideHardwareSpecs": false,
    "memoryGiB": 8,
    "name": "ml.m5d.large",
    "vcpuNum": 2
   },
   {
    "_defaultOrder": 13,
    "_isFastLaunch": false,
    "category": "General purpose",
    "gpuNum": 0,
    "hideHardwareSpecs": false,
    "memoryGiB": 16,
    "name": "ml.m5d.xlarge",
    "vcpuNum": 4
   },
   {
    "_defaultOrder": 14,
    "_isFastLaunch": false,
    "category": "General purpose",
    "gpuNum": 0,
    "hideHardwareSpecs": false,
    "memoryGiB": 32,
    "name": "ml.m5d.2xlarge",
    "vcpuNum": 8
   },
   {
    "_defaultOrder": 15,
    "_isFastLaunch": false,
    "category": "General purpose",
    "gpuNum": 0,
    "hideHardwareSpecs": false,
    "memoryGiB": 64,
    "name": "ml.m5d.4xlarge",
    "vcpuNum": 16
   },
   {
    "_defaultOrder": 16,
    "_isFastLaunch": false,
    "category": "General purpose",
    "gpuNum": 0,
    "hideHardwareSpecs": false,
    "memoryGiB": 128,
    "name": "ml.m5d.8xlarge",
    "vcpuNum": 32
   },
   {
    "_defaultOrder": 17,
    "_isFastLaunch": false,
    "category": "General purpose",
    "gpuNum": 0,
    "hideHardwareSpecs": false,
    "memoryGiB": 192,
    "name": "ml.m5d.12xlarge",
    "vcpuNum": 48
   },
   {
    "_defaultOrder": 18,
    "_isFastLaunch": false,
    "category": "General purpose",
    "gpuNum": 0,
    "hideHardwareSpecs": false,
    "memoryGiB": 256,
    "name": "ml.m5d.16xlarge",
    "vcpuNum": 64
   },
   {
    "_defaultOrder": 19,
    "_isFastLaunch": false,
    "category": "General purpose",
    "gpuNum": 0,
    "hideHardwareSpecs": false,
    "memoryGiB": 384,
    "name": "ml.m5d.24xlarge",
    "vcpuNum": 96
   },
   {
    "_defaultOrder": 20,
    "_isFastLaunch": false,
    "category": "General purpose",
    "gpuNum": 0,
    "hideHardwareSpecs": true,
    "memoryGiB": 0,
    "name": "ml.geospatial.interactive",
    "supportedImageNames": [
     "sagemaker-geospatial-v1-0"
    ],
    "vcpuNum": 0
   },
   {
    "_defaultOrder": 21,
    "_isFastLaunch": true,
    "category": "Compute optimized",
    "gpuNum": 0,
    "hideHardwareSpecs": false,
    "memoryGiB": 4,
    "name": "ml.c5.large",
    "vcpuNum": 2
   },
   {
    "_defaultOrder": 22,
    "_isFastLaunch": false,
    "category": "Compute optimized",
    "gpuNum": 0,
    "hideHardwareSpecs": false,
    "memoryGiB": 8,
    "name": "ml.c5.xlarge",
    "vcpuNum": 4
   },
   {
    "_defaultOrder": 23,
    "_isFastLaunch": false,
    "category": "Compute optimized",
    "gpuNum": 0,
    "hideHardwareSpecs": false,
    "memoryGiB": 16,
    "name": "ml.c5.2xlarge",
    "vcpuNum": 8
   },
   {
    "_defaultOrder": 24,
    "_isFastLaunch": false,
    "category": "Compute optimized",
    "gpuNum": 0,
    "hideHardwareSpecs": false,
    "memoryGiB": 32,
    "name": "ml.c5.4xlarge",
    "vcpuNum": 16
   },
   {
    "_defaultOrder": 25,
    "_isFastLaunch": false,
    "category": "Compute optimized",
    "gpuNum": 0,
    "hideHardwareSpecs": false,
    "memoryGiB": 72,
    "name": "ml.c5.9xlarge",
    "vcpuNum": 36
   },
   {
    "_defaultOrder": 26,
    "_isFastLaunch": false,
    "category": "Compute optimized",
    "gpuNum": 0,
    "hideHardwareSpecs": false,
    "memoryGiB": 96,
    "name": "ml.c5.12xlarge",
    "vcpuNum": 48
   },
   {
    "_defaultOrder": 27,
    "_isFastLaunch": false,
    "category": "Compute optimized",
    "gpuNum": 0,
    "hideHardwareSpecs": false,
    "memoryGiB": 144,
    "name": "ml.c5.18xlarge",
    "vcpuNum": 72
   },
   {
    "_defaultOrder": 28,
    "_isFastLaunch": false,
    "category": "Compute optimized",
    "gpuNum": 0,
    "hideHardwareSpecs": false,
    "memoryGiB": 192,
    "name": "ml.c5.24xlarge",
    "vcpuNum": 96
   },
   {
    "_defaultOrder": 29,
    "_isFastLaunch": true,
    "category": "Accelerated computing",
    "gpuNum": 1,
    "hideHardwareSpecs": false,
    "memoryGiB": 16,
    "name": "ml.g4dn.xlarge",
    "vcpuNum": 4
   },
   {
    "_defaultOrder": 30,
    "_isFastLaunch": false,
    "category": "Accelerated computing",
    "gpuNum": 1,
    "hideHardwareSpecs": false,
    "memoryGiB": 32,
    "name": "ml.g4dn.2xlarge",
    "vcpuNum": 8
   },
   {
    "_defaultOrder": 31,
    "_isFastLaunch": false,
    "category": "Accelerated computing",
    "gpuNum": 1,
    "hideHardwareSpecs": false,
    "memoryGiB": 64,
    "name": "ml.g4dn.4xlarge",
    "vcpuNum": 16
   },
   {
    "_defaultOrder": 32,
    "_isFastLaunch": false,
    "category": "Accelerated computing",
    "gpuNum": 1,
    "hideHardwareSpecs": false,
    "memoryGiB": 128,
    "name": "ml.g4dn.8xlarge",
    "vcpuNum": 32
   },
   {
    "_defaultOrder": 33,
    "_isFastLaunch": false,
    "category": "Accelerated computing",
    "gpuNum": 4,
    "hideHardwareSpecs": false,
    "memoryGiB": 192,
    "name": "ml.g4dn.12xlarge",
    "vcpuNum": 48
   },
   {
    "_defaultOrder": 34,
    "_isFastLaunch": false,
    "category": "Accelerated computing",
    "gpuNum": 1,
    "hideHardwareSpecs": false,
    "memoryGiB": 256,
    "name": "ml.g4dn.16xlarge",
    "vcpuNum": 64
   },
   {
    "_defaultOrder": 35,
    "_isFastLaunch": false,
    "category": "Accelerated computing",
    "gpuNum": 1,
    "hideHardwareSpecs": false,
    "memoryGiB": 61,
    "name": "ml.p3.2xlarge",
    "vcpuNum": 8
   },
   {
    "_defaultOrder": 36,
    "_isFastLaunch": false,
    "category": "Accelerated computing",
    "gpuNum": 4,
    "hideHardwareSpecs": false,
    "memoryGiB": 244,
    "name": "ml.p3.8xlarge",
    "vcpuNum": 32
   },
   {
    "_defaultOrder": 37,
    "_isFastLaunch": false,
    "category": "Accelerated computing",
    "gpuNum": 8,
    "hideHardwareSpecs": false,
    "memoryGiB": 488,
    "name": "ml.p3.16xlarge",
    "vcpuNum": 64
   },
   {
    "_defaultOrder": 38,
    "_isFastLaunch": false,
    "category": "Accelerated computing",
    "gpuNum": 8,
    "hideHardwareSpecs": false,
    "memoryGiB": 768,
    "name": "ml.p3dn.24xlarge",
    "vcpuNum": 96
   },
   {
    "_defaultOrder": 39,
    "_isFastLaunch": false,
    "category": "Memory Optimized",
    "gpuNum": 0,
    "hideHardwareSpecs": false,
    "memoryGiB": 16,
    "name": "ml.r5.large",
    "vcpuNum": 2
   },
   {
    "_defaultOrder": 40,
    "_isFastLaunch": false,
    "category": "Memory Optimized",
    "gpuNum": 0,
    "hideHardwareSpecs": false,
    "memoryGiB": 32,
    "name": "ml.r5.xlarge",
    "vcpuNum": 4
   },
   {
    "_defaultOrder": 41,
    "_isFastLaunch": false,
    "category": "Memory Optimized",
    "gpuNum": 0,
    "hideHardwareSpecs": false,
    "memoryGiB": 64,
    "name": "ml.r5.2xlarge",
    "vcpuNum": 8
   },
   {
    "_defaultOrder": 42,
    "_isFastLaunch": false,
    "category": "Memory Optimized",
    "gpuNum": 0,
    "hideHardwareSpecs": false,
    "memoryGiB": 128,
    "name": "ml.r5.4xlarge",
    "vcpuNum": 16
   },
   {
    "_defaultOrder": 43,
    "_isFastLaunch": false,
    "category": "Memory Optimized",
    "gpuNum": 0,
    "hideHardwareSpecs": false,
    "memoryGiB": 256,
    "name": "ml.r5.8xlarge",
    "vcpuNum": 32
   },
   {
    "_defaultOrder": 44,
    "_isFastLaunch": false,
    "category": "Memory Optimized",
    "gpuNum": 0,
    "hideHardwareSpecs": false,
    "memoryGiB": 384,
    "name": "ml.r5.12xlarge",
    "vcpuNum": 48
   },
   {
    "_defaultOrder": 45,
    "_isFastLaunch": false,
    "category": "Memory Optimized",
    "gpuNum": 0,
    "hideHardwareSpecs": false,
    "memoryGiB": 512,
    "name": "ml.r5.16xlarge",
    "vcpuNum": 64
   },
   {
    "_defaultOrder": 46,
    "_isFastLaunch": false,
    "category": "Memory Optimized",
    "gpuNum": 0,
    "hideHardwareSpecs": false,
    "memoryGiB": 768,
    "name": "ml.r5.24xlarge",
    "vcpuNum": 96
   },
   {
    "_defaultOrder": 47,
    "_isFastLaunch": false,
    "category": "Accelerated computing",
    "gpuNum": 1,
    "hideHardwareSpecs": false,
    "memoryGiB": 16,
    "name": "ml.g5.xlarge",
    "vcpuNum": 4
   },
   {
    "_defaultOrder": 48,
    "_isFastLaunch": false,
    "category": "Accelerated computing",
    "gpuNum": 1,
    "hideHardwareSpecs": false,
    "memoryGiB": 32,
    "name": "ml.g5.2xlarge",
    "vcpuNum": 8
   },
   {
    "_defaultOrder": 49,
    "_isFastLaunch": false,
    "category": "Accelerated computing",
    "gpuNum": 1,
    "hideHardwareSpecs": false,
    "memoryGiB": 64,
    "name": "ml.g5.4xlarge",
    "vcpuNum": 16
   },
   {
    "_defaultOrder": 50,
    "_isFastLaunch": false,
    "category": "Accelerated computing",
    "gpuNum": 1,
    "hideHardwareSpecs": false,
    "memoryGiB": 128,
    "name": "ml.g5.8xlarge",
    "vcpuNum": 32
   },
   {
    "_defaultOrder": 51,
    "_isFastLaunch": false,
    "category": "Accelerated computing",
    "gpuNum": 1,
    "hideHardwareSpecs": false,
    "memoryGiB": 256,
    "name": "ml.g5.16xlarge",
    "vcpuNum": 64
   },
   {
    "_defaultOrder": 52,
    "_isFastLaunch": false,
    "category": "Accelerated computing",
    "gpuNum": 4,
    "hideHardwareSpecs": false,
    "memoryGiB": 192,
    "name": "ml.g5.12xlarge",
    "vcpuNum": 48
   },
   {
    "_defaultOrder": 53,
    "_isFastLaunch": false,
    "category": "Accelerated computing",
    "gpuNum": 4,
    "hideHardwareSpecs": false,
    "memoryGiB": 384,
    "name": "ml.g5.24xlarge",
    "vcpuNum": 96
   },
   {
    "_defaultOrder": 54,
    "_isFastLaunch": false,
    "category": "Accelerated computing",
    "gpuNum": 8,
    "hideHardwareSpecs": false,
    "memoryGiB": 768,
    "name": "ml.g5.48xlarge",
    "vcpuNum": 192
   },
   {
    "_defaultOrder": 55,
    "_isFastLaunch": false,
    "category": "Accelerated computing",
    "gpuNum": 8,
    "hideHardwareSpecs": false,
    "memoryGiB": 1152,
    "name": "ml.p4d.24xlarge",
    "vcpuNum": 96
   },
   {
    "_defaultOrder": 56,
    "_isFastLaunch": false,
    "category": "Accelerated computing",
    "gpuNum": 8,
    "hideHardwareSpecs": false,
    "memoryGiB": 1152,
    "name": "ml.p4de.24xlarge",
    "vcpuNum": 96
   },
   {
    "_defaultOrder": 57,
    "_isFastLaunch": false,
    "category": "Accelerated computing",
    "gpuNum": 0,
    "hideHardwareSpecs": false,
    "memoryGiB": 32,
    "name": "ml.trn1.2xlarge",
    "vcpuNum": 8
   },
   {
    "_defaultOrder": 58,
    "_isFastLaunch": false,
    "category": "Accelerated computing",
    "gpuNum": 0,
    "hideHardwareSpecs": false,
    "memoryGiB": 512,
    "name": "ml.trn1.32xlarge",
    "vcpuNum": 128
   },
   {
    "_defaultOrder": 59,
    "_isFastLaunch": false,
    "category": "Accelerated computing",
    "gpuNum": 0,
    "hideHardwareSpecs": false,
    "memoryGiB": 512,
    "name": "ml.trn1n.32xlarge",
    "vcpuNum": 128
   }
  ],
  "instance_type": "ml.t3.medium",
  "kernelspec": {
   "display_name": "Python 3 (Data Science 3.0)",
   "language": "python",
   "name": "python3__SAGEMAKER_INTERNAL__arn:aws:sagemaker:us-east-1:081325390199:image/sagemaker-data-science-310-v1"
  },
  "language_info": {
   "codemirror_mode": {
    "name": "ipython",
    "version": 3
   },
   "file_extension": ".py",
   "mimetype": "text/x-python",
   "name": "python",
   "nbconvert_exporter": "python",
   "pygments_lexer": "ipython3",
   "version": "3.10.6"
  }
 },
 "nbformat": 4,
 "nbformat_minor": 5
}
