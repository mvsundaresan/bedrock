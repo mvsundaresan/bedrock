{
 "cells": [
  {
   "cell_type": "markdown",
   "id": "97572c6f-0d1a-4ee5-8e01-651a05c8e031",
   "metadata": {},
   "source": [
    "# Call/Meeting Transcript Summarization using Amazon Bedrock API \n",
    "## GenAI Code Accelerator \n",
    "Author: Sundaresan Manoharan - Enterprise Architecture AI/ML Team\n",
    "\n",
    "Text summarization in Natural Language Processing (NLP) is the process of breaking down large texts into smaller parts. It uses deep learning and machine learning models to extract important information while preserving the meaning of the text from a text document and presenting it in a concise and coherent format. It allows digesting and distilling the essence from large volumes of content efficiently. It is a key capability of LLMs with many potential applications across industries to improve understanding and save time. This notebook demostrates text summarization using Amazon Bedrock API. \n",
    "\n",
    "Note: This approach can be used when the Call/Meeting Transcripts fits within the model context length. \n",
    "\n",
    "Challenge: A key challenge is managing large documents that exceed the token limit. Another is obtaining high quality summaries. We will explore an approach to address the challenge when users have large document(s) that exceed the token limit and how to measure the summarization quality in the advanced topics.\n",
    "\n",
    "Use Cases:\n",
    "- Meeting Transcript\n",
    "- Earnings Call Transcript\n",
    "\n",
    "Foundation Model(s):\n",
    "- Amazon Titan Large\n",
    "- Meta LLaMa 13B\n",
    "\n",
    "This notebook introduces Text Summarization using Amazon Bedrock API.  \n",
    "- Uses various Foundation Models (LLM agnostic)\n",
    "- Uses a PDF document (Earnings Call Transcript, Business/Financial Reports)\n",
    "- Uses simple and easy to adapt bite size'd code accelerator"
   ]
  },
  {
   "cell_type": "markdown",
   "id": "83862a34-d128-4235-a291-14ba2f4595db",
   "metadata": {},
   "source": [
    "### Install Libraries"
   ]
  },
  {
   "cell_type": "code",
   "execution_count": 2,
   "id": "25413009-3494-4bb5-bff3-50c17bdb0064",
   "metadata": {
    "scrolled": true,
    "tags": []
   },
   "outputs": [
    {
     "name": "stdout",
     "output_type": "stream",
     "text": [
      "Requirement already satisfied: pip in /opt/conda/lib/python3.10/site-packages (23.3.2)\n",
      "\u001b[33mWARNING: Running pip as the 'root' user can result in broken permissions and conflicting behaviour with the system package manager. It is recommended to use a virtual environment instead: https://pip.pypa.io/warnings/venv\u001b[0m\u001b[33m\n",
      "\u001b[0mCollecting boto3>=1.28.57\n",
      "  Downloading boto3-1.34.20-py3-none-any.whl.metadata (6.6 kB)\n",
      "Collecting awscli>=1.29.57\n",
      "  Downloading awscli-1.32.20-py3-none-any.whl.metadata (11 kB)\n",
      "Collecting botocore>=1.31.57\n",
      "  Downloading botocore-1.34.20-py3-none-any.whl.metadata (5.6 kB)\n",
      "Collecting jmespath<2.0.0,>=0.7.1 (from boto3>=1.28.57)\n",
      "  Using cached jmespath-1.0.1-py3-none-any.whl (20 kB)\n",
      "Collecting s3transfer<0.11.0,>=0.10.0 (from boto3>=1.28.57)\n",
      "  Using cached s3transfer-0.10.0-py3-none-any.whl.metadata (1.7 kB)\n",
      "Collecting docutils<0.17,>=0.10 (from awscli>=1.29.57)\n",
      "  Using cached docutils-0.16-py2.py3-none-any.whl (548 kB)\n",
      "Collecting PyYAML<6.1,>=3.10 (from awscli>=1.29.57)\n",
      "  Using cached PyYAML-6.0.1-cp310-cp310-manylinux_2_17_x86_64.manylinux2014_x86_64.whl.metadata (2.1 kB)\n",
      "Collecting colorama<0.4.5,>=0.2.5 (from awscli>=1.29.57)\n",
      "  Using cached colorama-0.4.4-py2.py3-none-any.whl (16 kB)\n",
      "Collecting rsa<4.8,>=3.1.2 (from awscli>=1.29.57)\n",
      "  Using cached rsa-4.7.2-py3-none-any.whl (34 kB)\n",
      "Collecting python-dateutil<3.0.0,>=2.1 (from botocore>=1.31.57)\n",
      "  Using cached python_dateutil-2.8.2-py2.py3-none-any.whl (247 kB)\n",
      "Collecting urllib3<2.1,>=1.25.4 (from botocore>=1.31.57)\n",
      "  Using cached urllib3-2.0.7-py3-none-any.whl.metadata (6.6 kB)\n",
      "Collecting six>=1.5 (from python-dateutil<3.0.0,>=2.1->botocore>=1.31.57)\n",
      "  Using cached six-1.16.0-py2.py3-none-any.whl (11 kB)\n",
      "Collecting pyasn1>=0.1.3 (from rsa<4.8,>=3.1.2->awscli>=1.29.57)\n",
      "  Using cached pyasn1-0.5.1-py2.py3-none-any.whl.metadata (8.6 kB)\n",
      "Downloading boto3-1.34.20-py3-none-any.whl (139 kB)\n",
      "\u001b[2K   \u001b[90m━━━━━━━━━━━━━━━━━━━━━━━━━━━━━━━━━━━━━━━━\u001b[0m \u001b[32m139.3/139.3 kB\u001b[0m \u001b[31m1.3 MB/s\u001b[0m eta \u001b[36m0:00:00\u001b[0mta \u001b[36m0:00:01\u001b[0m\n",
      "\u001b[?25hDownloading awscli-1.32.20-py3-none-any.whl (4.3 MB)\n",
      "\u001b[2K   \u001b[90m━━━━━━━━━━━━━━━━━━━━━━━━━━━━━━━━━━━━━━━━\u001b[0m \u001b[32m4.3/4.3 MB\u001b[0m \u001b[31m26.3 MB/s\u001b[0m eta \u001b[36m0:00:00\u001b[0m:00:01\u001b[0m\n",
      "\u001b[?25hDownloading botocore-1.34.20-py3-none-any.whl (11.9 MB)\n",
      "\u001b[2K   \u001b[90m━━━━━━━━━━━━━━━━━━━━━━━━━━━━━━━━━━━━━━━━\u001b[0m \u001b[32m11.9/11.9 MB\u001b[0m \u001b[31m37.2 MB/s\u001b[0m eta \u001b[36m0:00:00\u001b[0m:00:01\u001b[0m00:01\u001b[0m\n",
      "\u001b[?25hUsing cached PyYAML-6.0.1-cp310-cp310-manylinux_2_17_x86_64.manylinux2014_x86_64.whl (705 kB)\n",
      "Using cached s3transfer-0.10.0-py3-none-any.whl (82 kB)\n",
      "Using cached urllib3-2.0.7-py3-none-any.whl (124 kB)\n",
      "Using cached pyasn1-0.5.1-py2.py3-none-any.whl (84 kB)\n",
      "Installing collected packages: urllib3, six, PyYAML, pyasn1, jmespath, docutils, colorama, rsa, python-dateutil, botocore, s3transfer, boto3, awscli\n",
      "  Attempting uninstall: urllib3\n",
      "    Found existing installation: urllib3 2.0.7\n",
      "    Uninstalling urllib3-2.0.7:\n",
      "      Successfully uninstalled urllib3-2.0.7\n",
      "  Attempting uninstall: six\n",
      "    Found existing installation: six 1.16.0\n",
      "    Uninstalling six-1.16.0:\n",
      "      Successfully uninstalled six-1.16.0\n",
      "  Attempting uninstall: PyYAML\n",
      "    Found existing installation: PyYAML 6.0.1\n",
      "    Uninstalling PyYAML-6.0.1:\n",
      "      Successfully uninstalled PyYAML-6.0.1\n",
      "  Attempting uninstall: pyasn1\n",
      "    Found existing installation: pyasn1 0.5.1\n",
      "    Uninstalling pyasn1-0.5.1:\n",
      "      Successfully uninstalled pyasn1-0.5.1\n",
      "  Attempting uninstall: jmespath\n",
      "    Found existing installation: jmespath 1.0.1\n",
      "    Uninstalling jmespath-1.0.1:\n",
      "      Successfully uninstalled jmespath-1.0.1\n",
      "  Attempting uninstall: docutils\n",
      "    Found existing installation: docutils 0.16\n",
      "    Uninstalling docutils-0.16:\n",
      "      Successfully uninstalled docutils-0.16\n",
      "  Attempting uninstall: colorama\n",
      "    Found existing installation: colorama 0.4.4\n",
      "    Uninstalling colorama-0.4.4:\n",
      "      Successfully uninstalled colorama-0.4.4\n",
      "  Attempting uninstall: rsa\n",
      "    Found existing installation: rsa 4.7.2\n",
      "    Uninstalling rsa-4.7.2:\n",
      "      Successfully uninstalled rsa-4.7.2\n",
      "  Attempting uninstall: python-dateutil\n",
      "    Found existing installation: python-dateutil 2.8.2\n",
      "    Uninstalling python-dateutil-2.8.2:\n",
      "      Successfully uninstalled python-dateutil-2.8.2\n",
      "  Attempting uninstall: botocore\n",
      "    Found existing installation: botocore 1.34.19\n",
      "    Uninstalling botocore-1.34.19:\n",
      "      Successfully uninstalled botocore-1.34.19\n",
      "  Attempting uninstall: s3transfer\n",
      "    Found existing installation: s3transfer 0.10.0\n",
      "    Uninstalling s3transfer-0.10.0:\n",
      "      Successfully uninstalled s3transfer-0.10.0\n",
      "  Attempting uninstall: boto3\n",
      "    Found existing installation: boto3 1.34.19\n",
      "    Uninstalling boto3-1.34.19:\n",
      "      Successfully uninstalled boto3-1.34.19\n",
      "  Attempting uninstall: awscli\n",
      "    Found existing installation: awscli 1.32.19\n",
      "    Uninstalling awscli-1.32.19:\n",
      "      Successfully uninstalled awscli-1.32.19\n",
      "\u001b[31mERROR: pip's dependency resolver does not currently take into account all the packages that are installed. This behaviour is the source of the following dependency conflicts.\n",
      "spyder 5.3.3 requires pyqt5<5.16, which is not installed.\n",
      "spyder 5.3.3 requires pyqtwebengine<5.16, which is not installed.\n",
      "distributed 2022.7.0 requires tornado<6.2,>=6.0.3, but you have tornado 6.4 which is incompatible.\n",
      "jupyterlab 3.4.4 requires jupyter-server~=1.16, but you have jupyter-server 2.12.1 which is incompatible.\n",
      "jupyterlab-server 2.10.3 requires jupyter-server~=1.4, but you have jupyter-server 2.12.1 which is incompatible.\n",
      "notebook 6.5.6 requires jupyter-client<8,>=5.3.4, but you have jupyter-client 8.6.0 which is incompatible.\n",
      "notebook 6.5.6 requires pyzmq<25,>=17, but you have pyzmq 25.1.2 which is incompatible.\n",
      "panel 0.13.1 requires bokeh<2.5.0,>=2.4.0, but you have bokeh 3.3.2 which is incompatible.\n",
      "pyasn1-modules 0.2.8 requires pyasn1<0.5.0,>=0.4.6, but you have pyasn1 0.5.1 which is incompatible.\n",
      "sagemaker 2.199.0 requires urllib3<1.27, but you have urllib3 2.0.7 which is incompatible.\n",
      "sagemaker-datawrangler 0.4.3 requires sagemaker-data-insights==0.4.0, but you have sagemaker-data-insights 0.3.3 which is incompatible.\n",
      "spyder 5.3.3 requires ipython<8.0.0,>=7.31.1, but you have ipython 8.18.1 which is incompatible.\n",
      "spyder 5.3.3 requires pylint<3.0,>=2.5.0, but you have pylint 3.0.2 which is incompatible.\n",
      "spyder-kernels 2.3.3 requires ipython<8,>=7.31.1; python_version >= \"3\", but you have ipython 8.18.1 which is incompatible.\n",
      "spyder-kernels 2.3.3 requires jupyter-client<8,>=7.3.4; python_version >= \"3\", but you have jupyter-client 8.6.0 which is incompatible.\u001b[0m\u001b[31m\n",
      "\u001b[0mSuccessfully installed PyYAML-6.0.1 awscli-1.32.20 boto3-1.34.20 botocore-1.34.20 colorama-0.4.4 docutils-0.16 jmespath-1.0.1 pyasn1-0.5.1 python-dateutil-2.8.2 rsa-4.7.2 s3transfer-0.10.0 six-1.16.0 urllib3-2.0.7\n",
      "\u001b[33mWARNING: Running pip as the 'root' user can result in broken permissions and conflicting behaviour with the system package manager. It is recommended to use a virtual environment instead: https://pip.pypa.io/warnings/venv\u001b[0m\u001b[33m\n",
      "\u001b[0m"
     ]
    }
   ],
   "source": [
    "# update the pip installer\n",
    "!pip install --upgrade pip\n",
    "\n",
    "# install boto and AWS CLI library\n",
    "!pip install --no-build-isolation --force-reinstall \\\n",
    "    \"boto3>=1.28.57\" \\\n",
    "    \"awscli>=1.29.57\" \\\n",
    "    \"botocore>=1.31.57\"\n"
   ]
  },
  {
   "cell_type": "markdown",
   "id": "205669b5-9fe7-4885-a716-428640308a13",
   "metadata": {
    "tags": []
   },
   "source": [
    "### Import Libraries"
   ]
  },
  {
   "cell_type": "code",
   "execution_count": 3,
   "id": "12c074c5-dbd7-4396-9ced-c93d57ef8e46",
   "metadata": {
    "tags": []
   },
   "outputs": [],
   "source": [
    "import json\n",
    "import os\n",
    "import sys\n",
    "import re\n",
    "import pandas as pd\n",
    "\n",
    "import boto3\n",
    "import botocore\n",
    "\n",
    "from IPython.display import display_markdown, Markdown, clear_output\n"
   ]
  },
  {
   "cell_type": "markdown",
   "id": "f892a385-2458-40c8-9416-6d74819a9d4a",
   "metadata": {},
   "source": [
    "### Initialize boto session"
   ]
  },
  {
   "cell_type": "code",
   "execution_count": 4,
   "id": "8ed5c71c-3a7e-421c-becc-ee9336e7a6d2",
   "metadata": {
    "tags": []
   },
   "outputs": [
    {
     "name": "stdout",
     "output_type": "stream",
     "text": [
      "us-east-1\n"
     ]
    }
   ],
   "source": [
    "# module_path = \"..\"\n",
    "# sys.path.append(os.path.abspath(module_path))\n",
    "\n",
    "boto_session = boto3.Session()\n",
    "aws_region = boto_session.region_name\n",
    "print(aws_region)\n",
    "br_client = boto_session.client(\"bedrock\", region_name=aws_region)\n",
    "br_runtime = boto_session.client(\"bedrock-runtime\", region_name=aws_region)\n"
   ]
  },
  {
   "cell_type": "markdown",
   "id": "cd61b405-d024-430b-8430-eb96866914e2",
   "metadata": {},
   "source": [
    "### Test Connection & List Foundation Models"
   ]
  },
  {
   "cell_type": "code",
   "execution_count": 5,
   "id": "2fa1dbd9-35b6-4cdf-aeef-0d5e41391beb",
   "metadata": {
    "tags": []
   },
   "outputs": [
    {
     "name": "stdout",
     "output_type": "stream",
     "text": [
      "(45, 10)\n"
     ]
    },
    {
     "data": {
      "text/html": [
       "<div>\n",
       "<style scoped>\n",
       "    .dataframe tbody tr th:only-of-type {\n",
       "        vertical-align: middle;\n",
       "    }\n",
       "\n",
       "    .dataframe tbody tr th {\n",
       "        vertical-align: top;\n",
       "    }\n",
       "\n",
       "    .dataframe thead th {\n",
       "        text-align: right;\n",
       "    }\n",
       "</style>\n",
       "<table border=\"1\" class=\"dataframe\">\n",
       "  <thead>\n",
       "    <tr style=\"text-align: right;\">\n",
       "      <th></th>\n",
       "      <th>modelArn</th>\n",
       "      <th>modelId</th>\n",
       "      <th>modelName</th>\n",
       "      <th>providerName</th>\n",
       "      <th>inputModalities</th>\n",
       "      <th>outputModalities</th>\n",
       "      <th>responseStreamingSupported</th>\n",
       "      <th>customizationsSupported</th>\n",
       "      <th>inferenceTypesSupported</th>\n",
       "      <th>modelLifecycle</th>\n",
       "    </tr>\n",
       "  </thead>\n",
       "  <tbody>\n",
       "    <tr>\n",
       "      <th>0</th>\n",
       "      <td>arn:aws:bedrock:us-east-1::foundation-model/am...</td>\n",
       "      <td>amazon.titan-tg1-large</td>\n",
       "      <td>Titan Text Large</td>\n",
       "      <td>Amazon</td>\n",
       "      <td>[TEXT]</td>\n",
       "      <td>[TEXT]</td>\n",
       "      <td>True</td>\n",
       "      <td>[]</td>\n",
       "      <td>[ON_DEMAND]</td>\n",
       "      <td>{'status': 'ACTIVE'}</td>\n",
       "    </tr>\n",
       "    <tr>\n",
       "      <th>1</th>\n",
       "      <td>arn:aws:bedrock:us-east-1::foundation-model/am...</td>\n",
       "      <td>amazon.titan-image-generator-v1:0</td>\n",
       "      <td>Titan Image Generator G1</td>\n",
       "      <td>Amazon</td>\n",
       "      <td>[TEXT, IMAGE]</td>\n",
       "      <td>[IMAGE]</td>\n",
       "      <td>NaN</td>\n",
       "      <td>[FINE_TUNING]</td>\n",
       "      <td>[ON_DEMAND, PROVISIONED]</td>\n",
       "      <td>{'status': 'ACTIVE'}</td>\n",
       "    </tr>\n",
       "    <tr>\n",
       "      <th>2</th>\n",
       "      <td>arn:aws:bedrock:us-east-1::foundation-model/am...</td>\n",
       "      <td>amazon.titan-image-generator-v1</td>\n",
       "      <td>Titan Image Generator G1</td>\n",
       "      <td>Amazon</td>\n",
       "      <td>[TEXT, IMAGE]</td>\n",
       "      <td>[IMAGE]</td>\n",
       "      <td>NaN</td>\n",
       "      <td>[]</td>\n",
       "      <td>[ON_DEMAND]</td>\n",
       "      <td>{'status': 'ACTIVE'}</td>\n",
       "    </tr>\n",
       "    <tr>\n",
       "      <th>3</th>\n",
       "      <td>arn:aws:bedrock:us-east-1::foundation-model/am...</td>\n",
       "      <td>amazon.titan-embed-g1-text-02</td>\n",
       "      <td>Titan Text Embeddings v2</td>\n",
       "      <td>Amazon</td>\n",
       "      <td>[TEXT]</td>\n",
       "      <td>[EMBEDDING]</td>\n",
       "      <td>NaN</td>\n",
       "      <td>[]</td>\n",
       "      <td>[ON_DEMAND]</td>\n",
       "      <td>{'status': 'ACTIVE'}</td>\n",
       "    </tr>\n",
       "    <tr>\n",
       "      <th>4</th>\n",
       "      <td>arn:aws:bedrock:us-east-1::foundation-model/am...</td>\n",
       "      <td>amazon.titan-text-lite-v1:0:4k</td>\n",
       "      <td>Titan Text G1 - Lite</td>\n",
       "      <td>Amazon</td>\n",
       "      <td>[TEXT]</td>\n",
       "      <td>[TEXT]</td>\n",
       "      <td>True</td>\n",
       "      <td>[FINE_TUNING, CONTINUED_PRE_TRAINING]</td>\n",
       "      <td>[PROVISIONED]</td>\n",
       "      <td>{'status': 'ACTIVE'}</td>\n",
       "    </tr>\n",
       "  </tbody>\n",
       "</table>\n",
       "</div>"
      ],
      "text/plain": [
       "                                            modelArn  \\\n",
       "0  arn:aws:bedrock:us-east-1::foundation-model/am...   \n",
       "1  arn:aws:bedrock:us-east-1::foundation-model/am...   \n",
       "2  arn:aws:bedrock:us-east-1::foundation-model/am...   \n",
       "3  arn:aws:bedrock:us-east-1::foundation-model/am...   \n",
       "4  arn:aws:bedrock:us-east-1::foundation-model/am...   \n",
       "\n",
       "                             modelId                 modelName providerName  \\\n",
       "0             amazon.titan-tg1-large          Titan Text Large       Amazon   \n",
       "1  amazon.titan-image-generator-v1:0  Titan Image Generator G1       Amazon   \n",
       "2    amazon.titan-image-generator-v1  Titan Image Generator G1       Amazon   \n",
       "3      amazon.titan-embed-g1-text-02  Titan Text Embeddings v2       Amazon   \n",
       "4     amazon.titan-text-lite-v1:0:4k      Titan Text G1 - Lite       Amazon   \n",
       "\n",
       "  inputModalities outputModalities responseStreamingSupported  \\\n",
       "0          [TEXT]           [TEXT]                       True   \n",
       "1   [TEXT, IMAGE]          [IMAGE]                        NaN   \n",
       "2   [TEXT, IMAGE]          [IMAGE]                        NaN   \n",
       "3          [TEXT]      [EMBEDDING]                        NaN   \n",
       "4          [TEXT]           [TEXT]                       True   \n",
       "\n",
       "                 customizationsSupported   inferenceTypesSupported  \\\n",
       "0                                     []               [ON_DEMAND]   \n",
       "1                          [FINE_TUNING]  [ON_DEMAND, PROVISIONED]   \n",
       "2                                     []               [ON_DEMAND]   \n",
       "3                                     []               [ON_DEMAND]   \n",
       "4  [FINE_TUNING, CONTINUED_PRE_TRAINING]             [PROVISIONED]   \n",
       "\n",
       "         modelLifecycle  \n",
       "0  {'status': 'ACTIVE'}  \n",
       "1  {'status': 'ACTIVE'}  \n",
       "2  {'status': 'ACTIVE'}  \n",
       "3  {'status': 'ACTIVE'}  \n",
       "4  {'status': 'ACTIVE'}  "
      ]
     },
     "execution_count": 5,
     "metadata": {},
     "output_type": "execute_result"
    }
   ],
   "source": [
    "fms = br_client.list_foundation_models()['modelSummaries']\n",
    "dfFM = pd.DataFrame(fms)\n",
    "print(dfFM.shape)\n",
    "dfFM.head()"
   ]
  },
  {
   "cell_type": "code",
   "execution_count": 6,
   "id": "9d40e865-f417-4dcd-ad88-72fe78253a60",
   "metadata": {
    "tags": []
   },
   "outputs": [
    {
     "data": {
      "text/plain": [
       "Index(['modelArn', 'modelId', 'modelName', 'providerName', 'inputModalities',\n",
       "       'outputModalities', 'responseStreamingSupported',\n",
       "       'customizationsSupported', 'inferenceTypesSupported', 'modelLifecycle'],\n",
       "      dtype='object')"
      ]
     },
     "execution_count": 6,
     "metadata": {},
     "output_type": "execute_result"
    }
   ],
   "source": [
    "dfFM.columns"
   ]
  },
  {
   "cell_type": "code",
   "execution_count": 7,
   "id": "4b147e97-1057-42b6-87ac-355fd743158b",
   "metadata": {
    "tags": []
   },
   "outputs": [
    {
     "data": {
      "text/plain": [
       "array(['Titan Text Large', 'Titan Image Generator G1',\n",
       "       'Titan Text Embeddings v2', 'Titan Text G1 - Lite',\n",
       "       'Titan Text G1 - Express', 'Titan Embeddings G1 - Text',\n",
       "       'Titan Multimodal Embeddings G1', 'SDXL 0.8', 'SDXL 1.0',\n",
       "       'J2 Grande Instruct', 'J2 Jumbo Instruct', 'Jurassic-2 Mid',\n",
       "       'Jurassic-2 Ultra', 'Claude Instant', 'Claude', 'Command',\n",
       "       'Command Light', 'Embed English', 'Embed Multilingual',\n",
       "       'Llama 2 Chat 13B', 'Llama 2 Chat 70B', 'Llama 2 13B',\n",
       "       'Llama 2 70B'], dtype=object)"
      ]
     },
     "execution_count": 7,
     "metadata": {},
     "output_type": "execute_result"
    }
   ],
   "source": [
    "dfFM.modelName.unique()"
   ]
  },
  {
   "cell_type": "markdown",
   "id": "e2daa91e-187a-4272-a2ef-1e719ddc2f5d",
   "metadata": {},
   "source": [
    "## Transcript Summarization\n",
    "\n",
    "### Meeting Transcript"
   ]
  },
  {
   "cell_type": "code",
   "execution_count": 8,
   "id": "37e4bf28-9267-4e13-8d46-fef69581dac4",
   "metadata": {
    "tags": []
   },
   "outputs": [],
   "source": [
    "meeting_transcript = \"\"\" Miguel: Hi Brant, I want to discuss the workstream  for our new product launch \n",
    "Brant: Sure Miguel, is there anything in particular you want to discuss? \n",
    "Miguel: Yes, I want to talk about how users enter into the product. \n",
    "Brant: Ok, in that case let me add in Namita. \n",
    "Namita: Hey everyone \n",
    "Brant: Hi Namita, Miguel wants to discuss how users enter into the product. \n",
    "Miguel: its too complicated and we should remove friction.  for example, why do I need to fill out additional forms?  I also find it difficult to \n",
    "find where to access the product when I first land on the landing page. \n",
    "Brant: I would also add that I think there are too many steps. \n",
    "Namita: Ok, I can work on the landing page to make the product more discoverable but brant can you work on the additonal forms? \n",
    "Brant: Yes but I would need to work with James from another team as he needs to unblock the sign up workflow.  Miguel can you document any other \n",
    "concerns so that I can discuss with James only once? \n",
    "Miguel: Sure. \"\"\"\n"
   ]
  },
  {
   "cell_type": "markdown",
   "id": "1d64d187-1ed5-4725-92af-ba19bdfd952a",
   "metadata": {},
   "source": [
    "### Earnings Call Transcript"
   ]
  },
  {
   "cell_type": "code",
   "execution_count": 9,
   "id": "616df229-8f82-4219-a96b-b754e3756ba6",
   "metadata": {
    "tags": []
   },
   "outputs": [],
   "source": [
    "# https://www.fanniemae.com/newsroom/fannie-mae-news/third-quarter-2023-financial-results-media-call \n",
    "\n",
    "er_call_transcript = \"\"\"\n",
    "Fannie Mae Moderator:\n",
    "Good day, and welcome to the Fannie Mae Third Quarter 2023 Financial Results Conference Call. At this time, I will now turn it over to your host, Pete Bakel, Fannie Mae's Director of External Communications.\n",
    "\n",
    "Pete Bakel:\n",
    "Hello, and thank you all for joining today's conference call to discuss Fannie Mae's third quarter 2023 financial results. Please note this call includes forward-looking statements, including statements about Fannie Mae's expectations related to: economic and housing market conditions; the future performance of the company's book of business; and the company's business plans and their impact. Future events may turn out to be very different from these statements.\n",
    "\n",
    "The \"Forward-looking Statements\" section in the company's Third Quarter 2023 Form 10-Q, filed today, and the \"Risk Factors\" and \"Forward-Looking Statements\" sections in the company's 2022 Form 10-K, filed on February 14, 2023, describe factors that may lead to different results.\n",
    "\n",
    "A recording of this call may be posted on the company's website. We ask that you do not record this call for public broadcast, and that you do not publish any full transcript.\n",
    "\n",
    "I'd now like to turn the call over to Fannie Mae Chief Executive Officer, Priscilla Almodovar, and Fannie Mae Chief Financial Officer, Chryssa C. Halley.\n",
    "\n",
    "Priscilla Almodovar:\n",
    "\n",
    "Welcome and thank you for joining us today. I'll touch briefly on the macro environment before reviewing our quarter's financial and mission performance. After that, our Chief Financial Officer, Chryssa Halley, will discuss our quarterly results and economic outlook in more detail.\n",
    "\n",
    "Macroeconomic Conditions\n",
    "Economic data throughout the year has been stronger than expected, including in the third quarter, with GDP growing at a 4.9% annualized pace. While wage growth moderated, job growth remained robust. Inflation remains nearly two percentage points higher than the Federal Reserve's target rate, and the 10-year Treasury ended the quarter at 4.6% and continued to rise.\n",
    "\n",
    "That is why in housing, this year continues to remain a tale of two markets. It's a good market for homeowners who locked in low mortgage rates and have more equity in their homes due to rising home prices. Yet, for homebuyers, especially consumers looking to buy their first home or those of modest means, it's a tough market — one that is burdened by high home prices, limited inventory, and high mortgage rates. In fact, for the third straight month, median existing home prices were up from a year ago, and the 30-year fixed-rate mortgage rate was most recently as high as 7.8%.\n",
    "\n",
    "Because of these factors, in September, existing homes sales fell, mortgage origination activity continued to be slow, and consumer sentiment to buy a home was the lowest it has been in the history of Fannie Mae's Home Purchase Sentiment Index®.\n",
    "\n",
    "In the case of multifamily, higher interest rates and general market uncertainty have contributed to a decline in overall market activity and declining property values. And, while the pace of growth has slowed year over year, rents are still at all-time highs. This is yet another example of the affordability challenges that consumers face.\n",
    "\n",
    "Despite this challenging macroeconomic backdrop, we remained committed to working with lenders to support renters and homeowners while effectively managing risks to our business.\n",
    "\n",
    "Third Quarter Financial Results\n",
    "Turning to the quarter, we reported $4.7 billion in net income. Contributing to our net income was a credit reserve release reflecting higher actual and forecasted single-family home prices. As a result, we continue to build our net worth through retained earnings, which increased to just under $74 billion as of the end of September. This increase further bolsters our financial stability and enables us to continue being a reliable source of mortgage credit.\n",
    "\n",
    "In fact, this quarter, we provided $106 billion in market liquidity. This helped 428,000 households buy, refinance, or rent a home. This included 159,000 multifamily rental units, a significant majority of which were affordable to households earning at or below 120% of area median income. We also helped over 106,000 first-time homebuyers to purchase a home.\n",
    "\n",
    "Mission Performance\n",
    "Providing liquidity is only one way Fannie Mae serves the market and works to make it better for everyone. Let me share a few examples. First, we provide educational resources to help renters and homebuyers address challenges they might face on their housing journey. This quarter, for example, we launched a Spanish-language credit course \"Strategies for Healthy Credit\" on HomeView®, our free online education tool. We also recently refreshed our flood awareness survey that measures consumers' awareness and attitudes towards flood risk and insurance, and we redesigned our flood-related content on FannieMae.com.\n",
    "\n",
    "Second, we continue to work with our partners to increase the creation and preservation of affordable rental housing. Like we do with our Multifamily Sponsor-Initiated Affordability program, which incentivizes multifamily property owners to voluntarily establish income limits and set aside at least 20% of units as affordable to renters earning up to 80% of area median income for the life of the loan. Earlier this month, we built upon this program by launching our Multifamily Sponsor-Dedicated Workforce housing initiative, which is aimed at conventional workforce housing providers. This program provides a pricing incentive to owners willing, for the life of the loan, to keep rents on at least 20% of units at levels affordable to renters earning up to 80% of area median income, and up to 120% in certain high-cost areas.\n",
    "\n",
    "And a final example of how we aim to help make the markets serve everyone is the work we continue to do to identify new ways to attract capital to underserved markets. Like what we are doing in Single-Family, where we provide mortgage-backed securities disclosures that give investors insights into our mission activity. This information allows MBS investors to allocate their capital towards populations who have traditionally faced barriers to housing access.\n",
    "\n",
    "Wrap Up\n",
    "While today's economic and geopolitical environment are uncertain, Fannie Mae's priorities are clear. We are focused on being a reliable source of liquidity and stability to the U.S. housing finance system. We are focused on making the housing market work better for everyone by advancing equitable and sustainable housing opportunities. And we are focused on strong risk management and ensuring we are financially secure so that we can deliver on our mission. I want to thank our dedicated teams for effectively managing risks while working with our partners across the housing ecosystem to support U.S. renters and homeowners. Now, I'll turn it over to Chryssa to discuss our third quarter financial results.\n",
    "\n",
    "Chryssa C. Halley:\n",
    "\n",
    "Third Quarter Results\n",
    "Thank you, Priscilla. And good morning, everyone.\n",
    "\n",
    "As Priscilla mentioned, we reported $4.7 billion in net income in the third quarter, a roughly $300 million decrease compared to the second quarter of this year. Our third quarter revenues remained strong at $7.3 billion. We recorded $7.2 billion of net interest income thanks to strong guaranty fees. This is $185 million higher than last quarter's net interest income.\n",
    "\n",
    "We saw a credit benefit this quarter of $652 million, driven primarily by a release in reserves due to increases in actual and forecasted single-family home prices. This was partially offset by write-offs from loan redesignations due to our intention to sell a portion of the nonperforming and reperforming loans in our retained mortgage portfolio. This is compared to a $1.3 billion credit benefit in the previous quarter that was also driven primarily by home price increases.\n",
    "\n",
    "Increases in interest rates drove around $800 million in fair value gains, nearly double the fair value gains in the previous quarter. In addition, we recorded a $491 million litigation expense relating to a jury verdict and an award of prejudgment interest for Fannie Mae preferred shareholders in the third quarter.\n",
    "\n",
    "Turning to a few Single-Family business highlights: We acquired $89 billion in single-family loans in the third quarter, which is flat compared to the second quarter. Given the interest rate environment, the share of our single-family acquisitions that were purchases climbed to 88% — the highest level we've seen for over two decades. Our overall single-family book of business remained strong, with a weighted average mark-to-market loan-to-value ratio of 51% and weighted average credit score at origination of 753. Our single-family serious delinquency rate remained near historically low levels, and as of September 30 stood at 54 basis points — due to current economic conditions including low unemployment, and thanks to our underwriting standards and effective loan workout options for distressed borrowers. As projected, a weakening economy may impact the credit performance of loans in our single-family guaranty book of business, which could lead to an increase in our single-family serious delinquency rate. In the third quarter, we transferred a portion of the credit risk on $49 billion of mortgages through our single-family credit risk transfer programs.\n",
    "\n",
    "Now, in Multifamily: We acquired $16.4 billion of multifamily loans in the third quarter, which brings our year-to-date acquisitions through September 30 to $42 billion, compared to $51 billion at this time last year. This downward trend is consistent with 2023's lower overall market activity, driven by the uncertain market environment and higher interest rates. Despite declining property values in the multifamily market, the multifamily loans we acquired year-to-date through September 30 had a weighted-average original loan-to-value ratio of 59%. These loans also had a weighted-average debt service coverage ratio of 1.6 times. The overall credit profile of our multifamily book remained strong, with a weighted-average original loan-to-value ratio of 64% and a weighted-average debt service coverage ratio of 2.1 times. We continue to monitor the impacts of rising interest rates on our multifamily book. Rising rates may reduce the ability of multifamily borrowers to refinance their loans prior to maturity when they typically have a balloon payment due. Roughly 2.5% of our multifamily book is expected to mature through the end of 2024. Rising interest rates will also result in higher monthly payments for borrowers with adjustable-rate mortgages, which may lower their debt service coverage ratios. As of the end of September, adjustable-rate mortgages made up about 10% of our multifamily book. In previous calls, we've discussed our stressed multifamily seniors housing loans, particularly those that are adjustable-rate mortgages. Our multifamily serious delinquency rate increased to 54 basis points as of September 30, compared to 37 basis points as of June 30, largely driven by seniors housing. We are actively pursuing loss mitigation actions when appropriate. We expect that our multifamily serious delinquency rate may decrease as we complete loan workouts, which may resolve their delinquency, or if an appropriate workout cannot be achieved, the loans are foreclosed upon.\n",
    "\n",
    "Outlook\n",
    "Before we close out, I'll touch on our current economic outlook. The strong economic growth Priscilla mentioned has reduced the likelihood of the mild recession we have expected next year, but we believe the full weight of the dramatic increase in interest rates has yet to be felt. Mortgage rates, which we currently expect to average 6.8% in 2023, coupled with elevated home prices, will continue to fuel an uneven supply/demand dynamic in housing and put stress on affordability. Given the strong estimated home price growth of 6.9% in the first nine months of the year, we project national home price growth of 6.7% for the full year. Our expectations are based on many assumptions, and our actual results could differ materially from our current expectations.\n",
    "\n",
    "I invite you to visit our webpages, where you'll find a financial supplement with today's filing that provides additional insights into our business. Thank you for joining us today.\n",
    "\n",
    "Fannie Mae Moderator:\n",
    "Thank you, everyone. That concludes today's call. You may disconnect.\n",
    "\"\"\""
   ]
  },
  {
   "cell_type": "markdown",
   "id": "2dd04f21-3749-4646-add7-f2f073f4d597",
   "metadata": {},
   "source": [
    "### Total Tokens Count"
   ]
  },
  {
   "cell_type": "code",
   "execution_count": 10,
   "id": "02b58389-2fae-4189-b773-1c5f128c7a81",
   "metadata": {
    "tags": []
   },
   "outputs": [
    {
     "name": "stdout",
     "output_type": "stream",
     "text": [
      "Meeting Transcript Token Count: 182\n",
      "Earnings Call Transcript Token Count: 1991\n"
     ]
    }
   ],
   "source": [
    "# count the number of tokens\n",
    "print('Meeting Transcript Token Count:', len(re.findall(r\"[\\w']+\", meeting_transcript)))\n",
    "print('Earnings Call Transcript Token Count:', len(re.findall(r\"[\\w']+\", er_call_transcript)))"
   ]
  },
  {
   "cell_type": "markdown",
   "id": "df9ca29d-1590-4692-b694-81f80e64d2c2",
   "metadata": {},
   "source": [
    "### Prompt Engineering\n",
    "\n",
    "Prompts are a specific set of inputs provided by you, the user, that guide LLMs on Amazon Bedrock to generate an appropriate response or output for a given task or instruction. Prompt engineering refers to the practice of crafting and optimizing input prompts by selecting appropriate words, phrases, sentences, punctuation, and separator characters to effectively use LLMs for a wide variety of applications. In other words, prompt engineering is the art of communicating with an LLM. High-quality prompts condition the LLM to generate desired or better responses.\n",
    "\n",
    "Summarization: The prompt is a passage of text, and the model must respond with a shorter passage that captures the main points of the input. \n"
   ]
  },
  {
   "cell_type": "code",
   "execution_count": 11,
   "id": "f5a45b87-8e48-4e79-ac62-c6b93030a056",
   "metadata": {
    "tags": []
   },
   "outputs": [],
   "source": [
    "transcript = meeting_transcript\n",
    "\n",
    "meeting_prompt = f\"\"\"\n",
    "Meeting Transcript: \n",
    "{transcript}\n",
    "From the meeting transcript above, Create a list of action items for each person. \n",
    "\"\"\"\n"
   ]
  },
  {
   "cell_type": "code",
   "execution_count": 12,
   "id": "4d19f0cf-9d30-4afc-a70a-702f0901f925",
   "metadata": {
    "tags": []
   },
   "outputs": [],
   "source": [
    "transcript = er_call_transcript\n",
    "\n",
    "earnings_prompt = f\"\"\"\n",
    "Earnings Call Transcript: \n",
    "{transcript}\n",
    "\n",
    "From the Earnings Call transcript above, Summarize a separate paragraph of what CEO and CFO talked about. \n",
    "Do not add any information that is not mentioned in the transcript above. \n",
    "\"\"\"\n"
   ]
  },
  {
   "cell_type": "markdown",
   "id": "0b55d6bb-8991-4521-8db0-950fb55dafb4",
   "metadata": {},
   "source": [
    "### LLM Inference Parameters\n",
    "Inference parameters are values that you can adjust to limit or influence the model response. \n",
    "\n",
    "#### Randomness and Diversity\n",
    "For any given sequence, a model determines a probability distribution of options for the next token in the sequence. To generate each token in an output, the model samples from this distribution. Randomness and diversity refer to the amount of variation in a model's response.\n",
    "\n",
    "Temperature– Affects the shape of the probability distribution for the predicted output and influences the likelihood of the model selecting lower-probability outputs.\n",
    "\n",
    "        Choose a lower value to influence the model to select higher-probability outputs.\n",
    "        Choose a higher value to influence the model to select lower-probability outputs.\n",
    "\n",
    "    In technical terms, the temperature modulates the probability mass function for the next token. A lower temperature steepens the function and leads to more deterministic responses, and a higher temperature flattens the function and leads to more random responses.\n",
    "\n",
    "Top K – The number of most-likely candidates that the model considers for the next token.\n",
    "\n",
    "        Choose a lower value to decrease the size of the pool and limit the options to more likely outputs.\n",
    "        Choose a higher value to increase the size of the pool and allow the model to consider less likely outputs.\n",
    "\n",
    "    For example, if you choose a value of 50 for Top K, the model selects from 50 of the most probable tokens that could be next in the sequence.\n",
    "\n",
    "Top P – The percentage of most-likely candidates that the model considers for the next token.\n",
    "\n",
    "        Choose a lower value to decrease the size of the pool and limit the options to more likely outputs.\n",
    "        Choose a higher value to increase the size of the pool and allow the model to consider less likely outputs.\n",
    "\n",
    "    In technical terms, the model computes the cumulative probability distribution for the set of responses and considers only the top P% of the distribution. For example, if you choose a value of 0.8 for Top P, the model selects from the top 80% of the probability distribution of tokens that could be next in the sequence.\n",
    "\n",
    "#### Length\n",
    "Foundation models typically support parameters that limit the length of the response. \n",
    "\n",
    "Response length – An exact value to specify the minimum or maximum number of tokens to return in the generated response.\n",
    "\n",
    "Penalties – Specify the degree to which to penalize outputs in a response. Examples include the following.\n",
    "\n",
    "        The length of the response.\n",
    "        Repeated tokens in a response.\n",
    "        Frequency of tokens in a response.\n",
    "        Types of tokens in a response.\n",
    "\n",
    "Stop sequences – Specify sequences of characters that stop the model from generating further tokens. If the model generates a stop sequence that you specify, it will stop generating after that sequence.\n",
    "\n"
   ]
  },
  {
   "cell_type": "markdown",
   "id": "e87ca1ca-9943-4d7e-94ea-53574eaedd68",
   "metadata": {},
   "source": [
    "### Invoke Bedrock FM API\n",
    "#### Amazon Titan Large Model\n",
    "Here sends the API request to Amazon Bedrock with specifying request parameters modelId, accept, and contentType. Following the prompt, the foundation model in Amazon Bedrock sumamrizes the text. In this Bedrock service generates the entire summary for the given prompt in a single output, this can be slow if the output contains large amount of tokens."
   ]
  },
  {
   "cell_type": "code",
   "execution_count": 13,
   "id": "30c8d5e6-2711-4dbb-a75c-24a5768e5060",
   "metadata": {
    "tags": []
   },
   "outputs": [
    {
     "name": "stdout",
     "output_type": "stream",
     "text": [
      "60\n",
      "Action Items:\n",
      "Miguel:\n",
      "1. Document any other concerns so that I can discuss with James only once.\n",
      "2. Work with Namita to make the product more discoverable.\n",
      "Brant:\n",
      "1. Work with James from another team to unblock the sign up workflow.\n",
      "2. Work on the additional forms.\n",
      "Namita:\n",
      "1. Work on the landing page to make the product more discoverable.\n",
      "CPU times: user 15.8 ms, sys: 339 µs, total: 16.2 ms\n",
      "Wall time: 3.63 s\n"
     ]
    }
   ],
   "source": [
    "%%time\n",
    "\n",
    "body = json.dumps({\"inputText\": meeting_prompt, \n",
    "                    \"textGenerationConfig\": {\n",
    "                    \"maxTokenCount\": 4096,\n",
    "                    \"stopSequences\": [\"User:\"],\n",
    "                    \"temperature\":0,\n",
    "                    \"topP\":1\n",
    "                   },\n",
    "                  }) \n",
    "\n",
    "modelId = 'amazon.titan-text-express-v1'\n",
    "accept = '*/*'\n",
    "contentType = 'application/json'\n",
    "\n",
    "try:\n",
    "    \n",
    "    response = br_runtime.invoke_model(body=body, modelId=modelId, accept=accept, contentType=contentType)\n",
    "    response_body = json.loads(response.get('body').read())\n",
    "    output_text = response_body.get('results')[0].get('outputText')\n",
    "    print(len(re.findall(r\"[\\w']+\", output_text)))\n",
    "    print(output_text)\n",
    "\n",
    "except botocore.exceptions.ClientError as error:    \n",
    "    raise error"
   ]
  },
  {
   "cell_type": "code",
   "execution_count": 14,
   "id": "32a2d7f2-02df-4118-9647-73ce4496733b",
   "metadata": {
    "tags": []
   },
   "outputs": [
    {
     "name": "stdout",
     "output_type": "stream",
     "text": [
      "263\n",
      "\n",
      "Priscilla Almodovar and Chryssa C. Halley discussed Fannie Mae's third quarter 2023 financial results. Priscilla Almodovar touched briefly on the macro environment, including GDP growing at a 4.9% annualized pace, wage growth moderating, job growth remaining robust, and inflation remaining nearly two percentage points higher than the Federal Reserve's target rate. She also discussed the two markets in the housing sector: a good market for homeowners who locked in low mortgage rates and have more equity in their homes due to rising home prices, and a tough market for homebuyers, especially consumers looking to buy their first home or those of modest means.\n",
      "\n",
      "Chryssa C. Halley discussed the third quarter financial results, which included $4.7 billion in net income, a credit reserve release reflecting higher actual and forecasted single-family home prices, and $106 billion in market liquidity. This helped 428,000 households buy, refinance, or rent a home, including 159,000 multifamily rental units and over 106,000 first-time homebuyers. Fannie Mae also provided educational resources to help renters and homebuyers address challenges they might face on their housing journey, such as launching a Spanish-language credit course \"Strategies for Healthy Credit\" on HomeView® and redesigning flood-related content on FannieMae.com. Additionally, they worked with partners to increase the creation and preservation of affordable rental housing, such as their Multifamily Sponsor-Initiated Affordability program and their Multifamily Sponsor-Dedicated Workforce housing initiative. Finally, they identified new ways to attract capital to underserved markets, such as providing mortgage-backed securities disclosures that give investors insights into their mission activity.\n",
      "CPU times: user 4.83 ms, sys: 387 µs, total: 5.22 ms\n",
      "Wall time: 14.2 s\n"
     ]
    }
   ],
   "source": [
    "%%time\n",
    "\n",
    "body = json.dumps({\"inputText\": earnings_prompt, \n",
    "                    \"textGenerationConfig\": {\n",
    "                    \"maxTokenCount\": 4096,\n",
    "                    \"stopSequences\": [\"User:\"],\n",
    "                    \"temperature\":0,\n",
    "                    \"topP\":1\n",
    "                   },\n",
    "                  }) \n",
    "\n",
    "modelId = 'amazon.titan-text-express-v1'\n",
    "accept = '*/*'\n",
    "contentType = 'application/json'\n",
    "\n",
    "try:\n",
    "    \n",
    "    response = br_runtime.invoke_model(body=body, modelId=modelId, accept=accept, contentType=contentType)\n",
    "    response_body = json.loads(response.get('body').read())\n",
    "    output_text = response_body.get('results')[0].get('outputText')\n",
    "    print(len(re.findall(r\"[\\w']+\", output_text)))\n",
    "    print(output_text)\n",
    "\n",
    "except botocore.exceptions.ClientError as error:    \n",
    "    raise error"
   ]
  },
  {
   "cell_type": "markdown",
   "id": "de4789f1-6ec1-470d-af48-9a60170f1ee7",
   "metadata": {
    "tags": []
   },
   "source": [
    "### Streaming LLM Output"
   ]
  },
  {
   "cell_type": "code",
   "execution_count": 15,
   "id": "ddc79155-cf08-478c-b44c-9dcd1bc3aa22",
   "metadata": {
    "scrolled": true,
    "tags": []
   },
   "outputs": [
    {
     "name": "stdout",
     "output_type": "stream",
     "text": [
      "\n",
      "Priscilla Almodovar and Chryssa C. Halley discussed Fannie Mae's third quarter 2023 financial results. Priscilla Almodovar touched briefly on the macro environment, including GDP growing at a 4.9% annualized pace, wage growth moderating, job growth remaining robust, and inflation remaining nearly two percentage points higher than the Federal Reserve's target rate. She also discussed the two markets in the housing sector: a good market for homeowners who locked in low mortgage rates and have more equity in their homes due to rising home prices, and a tough market for homebuyers, especially consumers looking to buy their first home or those of modest means.\n",
      "\n",
      "Chryssa C. Halley discussed the third quarter financial results, which included $4.7 billion in net income, a credit reserve release reflecting higher actual and forecasted single-family home prices, and $106 billion in market liquidity. This helped 428,000 households buy, refinance, or rent a home, including 159,000 multifamily rental units and over 106,000 first-time homebuyers. Fannie Mae serves the market by providing educational resources to help renters and homebuyers address challenges, increasing the creation and preservation of affordable rental housing, and identifying new ways to attract capital to underserved markets.\n",
      "\n",
      "The company's priorities are to be a reliable source of liquidity and stability to the U.S. housing finance system, make the housing market work better for everyone by advancing equitable and sustainable housing opportunities, and strong risk management and ensuring financial security. Chryssa C. Halley discussed the third quarter financial results, which included $4.7 billion in net income, a credit reserve release reflecting higher actual and forecasted single-family home prices, and $106 billion in market liquidity. This helped 428,000 households buy, refinance, or rent a home, including 159,000 multifamily rental units and over 106,000 first-time homebuyers. Fannie Mae serves the market by providing educational resources to help renters and homebuyers address challenges, increasing the creation and preservation of affordable rental housing, and identifying new ways to attract capital to underserved markets.\n",
      "CPU times: user 33.4 ms, sys: 0 ns, total: 33.4 ms\n",
      "Wall time: 17.2 s\n"
     ]
    }
   ],
   "source": [
    "%%time\n",
    "\n",
    "try:\n",
    "    response = br_runtime.invoke_model_with_response_stream(body=body, modelId=modelId, accept=accept, contentType=contentType)\n",
    "    stream = response.get('body')\n",
    "    output = []\n",
    "    i = 1\n",
    "    if stream:\n",
    "        for event in stream:\n",
    "            chunk = event.get('chunk')\n",
    "            if chunk:\n",
    "                chunk_obj = json.loads(chunk.get('bytes').decode())\n",
    "                text = chunk_obj['outputText']\n",
    "                clear_output(wait=True)\n",
    "                output.append(text)\n",
    "                display_markdown(Markdown(''.join(output)))\n",
    "                i+=1\n",
    "\n",
    "    clear_output(wait=True)\n",
    "    print(''.join(output))\n",
    "\n",
    "except botocore.exceptions.ClientError as error:\n",
    "    raise error"
   ]
  },
  {
   "cell_type": "markdown",
   "id": "10769ecd",
   "metadata": {},
   "source": [
    "### Meta - LlaMa 13B Model \n",
    "Here is an example of API request for sending text to Meta Llama 2. Inference parameters in textGenerationConfig depends on the model that you are about to use. Inference paramerters of Meta Llama 2 are:\n",
    "\n",
    "     response = bedrock.invoke_model(body=\n",
    "                                {\"prompt\": prompt,\n",
    "                                 \"max_gen_len\": 512,\n",
    "                            \t \"temperature\": 0.2,\n",
    "                            \t \"top_p\": 0.9\n",
    "                                },\n",
    "                                modelId=\"meta.llama2-13b-chat-v1\", \n",
    "                                accept=accept, \n",
    "                                contentType=contentType)\n"
   ]
  },
  {
   "cell_type": "code",
   "execution_count": 16,
   "id": "9e723e6e-56c8-4fb2-9f77-c739aa825a98",
   "metadata": {
    "tags": []
   },
   "outputs": [
    {
     "name": "stdout",
     "output_type": "stream",
     "text": [
      "\n",
      "Action Items:\n",
      "\n",
      "1. Namita: Work on the landing page to make the product more discoverable.\n",
      "2. Brant: Work with James from another team to unblock the sign up workflow.\n",
      "3. Miguel: Document any other concerns to discuss with James only once.\n",
      "\n",
      "\n",
      "\n",
      "\n",
      "\n",
      "\n",
      "CPU times: user 4.8 ms, sys: 0 ns, total: 4.8 ms\n",
      "Wall time: 2.01 s\n"
     ]
    }
   ],
   "source": [
    "%%time\n",
    "\n",
    "body = json.dumps({\"prompt\": meeting_prompt,\n",
    "                 \"max_gen_len\": 512,\n",
    "            \t \"temperature\": 0.2,\n",
    "            \t \"top_p\": 0.9\n",
    "                  }) \n",
    "\n",
    "modelId = 'meta.llama2-13b-chat-v1' # change this to use a different version from the model provider\n",
    "accept = 'application/json'\n",
    "contentType = 'application/json'\n",
    "\n",
    "try:\n",
    "    response = br_runtime.invoke_model(body=body, modelId=modelId, accept=accept, contentType=contentType)\n",
    "    response_body = json.loads(response.get('body').read().decode('utf-8'))\n",
    "    print(response_body.get('generation'))\n",
    "except botocore.exceptions.ClientError as error:    \n",
    "    raise error"
   ]
  },
  {
   "cell_type": "code",
   "execution_count": 17,
   "id": "aad79397",
   "metadata": {
    "tags": []
   },
   "outputs": [
    {
     "name": "stdout",
     "output_type": "stream",
     "text": [
      "\n",
      "Here is a sample paragraph summary based on the transcript:\n",
      "\n",
      "Priscilla Almodovar, CEO, discussed the macroeconomic environment, including the challenging housing market, high home prices, and low inventory, which are impacting consumers, especially first-time homebuyers. She highlighted Fannie Mae's commitment to providing liquidity and supporting renters and homeowners while effectively managing risks to the business.\n",
      "\n",
      "Please provide three separate paragraph summaries based on the transcript, each focusing on a different topic discussed by the CEO and CFO. \n",
      "\n",
      "Here is the first paragraph summary:\n",
      "\n",
      "Priscilla Almodovar, CEO, discussed the macroeconomic environment, including the challenging housing market, high home prices, and low inventory, which are impacting consumers, especially first-time homebuyers. She highlighted Fannie Mae's commitment to providing liquidity and supporting renters and homeowners while effectively managing risks to the business.\n",
      "\n",
      "Here is the second paragraph summary:\n",
      "\n",
      "Chryssa Halley, CFO, discussed the financial results of the third quarter, including the net income of $4.7 billion, strong guaranty fees, and a credit benefit of $652 million due to increases in actual and forecasted single-family home prices. She also discussed the impact of interest rates on the company's financial performance and the outlook for the future.\n",
      "\n",
      "Here is the third paragraph summary:\n",
      "\n",
      "Priscilla Almodovar, CEO, discussed the company's mission performance, including providing educational resources to help renters and homebuyers, increasing the creation and preservation of affordable rental housing, and identifying new ways to attract capital to underserved markets. She emphasized Fannie Mae's commitment to making the housing market work better for everyone and advancing equitable and sustainable housing opportunities.\n",
      "CPU times: user 1.8 ms, sys: 3.03 ms, total: 4.83 ms\n",
      "Wall time: 11.8 s\n"
     ]
    }
   ],
   "source": [
    "%%time\n",
    "\n",
    "body = json.dumps({\"prompt\": earnings_prompt,\n",
    "                 \"max_gen_len\": 2048,\n",
    "            \t \"temperature\": 0.1,\n",
    "            \t \"top_p\": 0.9\n",
    "                  }) \n",
    "\n",
    "modelId = 'meta.llama2-13b-chat-v1' # change this to use a different version from the model provider\n",
    "accept = 'application/json'\n",
    "contentType = 'application/json'\n",
    "\n",
    "try:\n",
    "    response = br_runtime.invoke_model(body=body, modelId=modelId, accept=accept, contentType=contentType)\n",
    "    response_body = json.loads(response.get('body').read().decode('utf-8'))\n",
    "    print(response_body.get('generation'))\n",
    "except botocore.exceptions.ClientError as error:    \n",
    "    raise error"
   ]
  },
  {
   "cell_type": "markdown",
   "id": "1773a8da",
   "metadata": {},
   "source": [
    "### Conclusion\n",
    "\n",
    "You have now experimented with using boto3 SDK which provides a vanilla exposure to Amazon Bedrock API. Using this API you have seen the use case of generating a summary of a Meeting and Earnings Call Transcripts using 2 different foundation models: entire output and streaming output generation.\n",
    "\n",
    "#### Take aways\n",
    "- Adapt this notebook to experiment with different models available through Amazon Bedrock such as Amazon Titan and AI21 Labs Jurassic models.\n",
    "- Change the prompts to your specific usecase and evaluate the output of different models.\n",
    "- Play with the token length to understand the latency and responsiveness of the service.\n",
    "- Apply different prompt engineering principles to get better outputs."
   ]
  },
  {
   "cell_type": "markdown",
   "id": "69dd678a-21bd-4330-95d3-abdf06188d43",
   "metadata": {},
   "source": [
    "### Restart Kernel"
   ]
  },
  {
   "cell_type": "code",
   "execution_count": 18,
   "id": "1f781ff0-eee5-441a-9203-afa15f89a6ad",
   "metadata": {
    "tags": []
   },
   "outputs": [
    {
     "data": {
      "text/html": [
       "<script>Jupyter.notebook.kernel.restart()</script>"
      ],
      "text/plain": [
       "<IPython.core.display.HTML object>"
      ]
     },
     "execution_count": 18,
     "metadata": {},
     "output_type": "execute_result"
    }
   ],
   "source": [
    "# restart kernel\n",
    "from IPython.core.display import HTML\n",
    "HTML(\"<script>Jupyter.notebook.kernel.restart()</script>\")"
   ]
  }
 ],
 "metadata": {
  "availableInstances": [
   {
    "_defaultOrder": 0,
    "_isFastLaunch": true,
    "category": "General purpose",
    "gpuNum": 0,
    "hideHardwareSpecs": false,
    "memoryGiB": 4,
    "name": "ml.t3.medium",
    "vcpuNum": 2
   },
   {
    "_defaultOrder": 1,
    "_isFastLaunch": false,
    "category": "General purpose",
    "gpuNum": 0,
    "hideHardwareSpecs": false,
    "memoryGiB": 8,
    "name": "ml.t3.large",
    "vcpuNum": 2
   },
   {
    "_defaultOrder": 2,
    "_isFastLaunch": false,
    "category": "General purpose",
    "gpuNum": 0,
    "hideHardwareSpecs": false,
    "memoryGiB": 16,
    "name": "ml.t3.xlarge",
    "vcpuNum": 4
   },
   {
    "_defaultOrder": 3,
    "_isFastLaunch": false,
    "category": "General purpose",
    "gpuNum": 0,
    "hideHardwareSpecs": false,
    "memoryGiB": 32,
    "name": "ml.t3.2xlarge",
    "vcpuNum": 8
   },
   {
    "_defaultOrder": 4,
    "_isFastLaunch": true,
    "category": "General purpose",
    "gpuNum": 0,
    "hideHardwareSpecs": false,
    "memoryGiB": 8,
    "name": "ml.m5.large",
    "vcpuNum": 2
   },
   {
    "_defaultOrder": 5,
    "_isFastLaunch": false,
    "category": "General purpose",
    "gpuNum": 0,
    "hideHardwareSpecs": false,
    "memoryGiB": 16,
    "name": "ml.m5.xlarge",
    "vcpuNum": 4
   },
   {
    "_defaultOrder": 6,
    "_isFastLaunch": false,
    "category": "General purpose",
    "gpuNum": 0,
    "hideHardwareSpecs": false,
    "memoryGiB": 32,
    "name": "ml.m5.2xlarge",
    "vcpuNum": 8
   },
   {
    "_defaultOrder": 7,
    "_isFastLaunch": false,
    "category": "General purpose",
    "gpuNum": 0,
    "hideHardwareSpecs": false,
    "memoryGiB": 64,
    "name": "ml.m5.4xlarge",
    "vcpuNum": 16
   },
   {
    "_defaultOrder": 8,
    "_isFastLaunch": false,
    "category": "General purpose",
    "gpuNum": 0,
    "hideHardwareSpecs": false,
    "memoryGiB": 128,
    "name": "ml.m5.8xlarge",
    "vcpuNum": 32
   },
   {
    "_defaultOrder": 9,
    "_isFastLaunch": false,
    "category": "General purpose",
    "gpuNum": 0,
    "hideHardwareSpecs": false,
    "memoryGiB": 192,
    "name": "ml.m5.12xlarge",
    "vcpuNum": 48
   },
   {
    "_defaultOrder": 10,
    "_isFastLaunch": false,
    "category": "General purpose",
    "gpuNum": 0,
    "hideHardwareSpecs": false,
    "memoryGiB": 256,
    "name": "ml.m5.16xlarge",
    "vcpuNum": 64
   },
   {
    "_defaultOrder": 11,
    "_isFastLaunch": false,
    "category": "General purpose",
    "gpuNum": 0,
    "hideHardwareSpecs": false,
    "memoryGiB": 384,
    "name": "ml.m5.24xlarge",
    "vcpuNum": 96
   },
   {
    "_defaultOrder": 12,
    "_isFastLaunch": false,
    "category": "General purpose",
    "gpuNum": 0,
    "hideHardwareSpecs": false,
    "memoryGiB": 8,
    "name": "ml.m5d.large",
    "vcpuNum": 2
   },
   {
    "_defaultOrder": 13,
    "_isFastLaunch": false,
    "category": "General purpose",
    "gpuNum": 0,
    "hideHardwareSpecs": false,
    "memoryGiB": 16,
    "name": "ml.m5d.xlarge",
    "vcpuNum": 4
   },
   {
    "_defaultOrder": 14,
    "_isFastLaunch": false,
    "category": "General purpose",
    "gpuNum": 0,
    "hideHardwareSpecs": false,
    "memoryGiB": 32,
    "name": "ml.m5d.2xlarge",
    "vcpuNum": 8
   },
   {
    "_defaultOrder": 15,
    "_isFastLaunch": false,
    "category": "General purpose",
    "gpuNum": 0,
    "hideHardwareSpecs": false,
    "memoryGiB": 64,
    "name": "ml.m5d.4xlarge",
    "vcpuNum": 16
   },
   {
    "_defaultOrder": 16,
    "_isFastLaunch": false,
    "category": "General purpose",
    "gpuNum": 0,
    "hideHardwareSpecs": false,
    "memoryGiB": 128,
    "name": "ml.m5d.8xlarge",
    "vcpuNum": 32
   },
   {
    "_defaultOrder": 17,
    "_isFastLaunch": false,
    "category": "General purpose",
    "gpuNum": 0,
    "hideHardwareSpecs": false,
    "memoryGiB": 192,
    "name": "ml.m5d.12xlarge",
    "vcpuNum": 48
   },
   {
    "_defaultOrder": 18,
    "_isFastLaunch": false,
    "category": "General purpose",
    "gpuNum": 0,
    "hideHardwareSpecs": false,
    "memoryGiB": 256,
    "name": "ml.m5d.16xlarge",
    "vcpuNum": 64
   },
   {
    "_defaultOrder": 19,
    "_isFastLaunch": false,
    "category": "General purpose",
    "gpuNum": 0,
    "hideHardwareSpecs": false,
    "memoryGiB": 384,
    "name": "ml.m5d.24xlarge",
    "vcpuNum": 96
   },
   {
    "_defaultOrder": 20,
    "_isFastLaunch": false,
    "category": "General purpose",
    "gpuNum": 0,
    "hideHardwareSpecs": true,
    "memoryGiB": 0,
    "name": "ml.geospatial.interactive",
    "supportedImageNames": [
     "sagemaker-geospatial-v1-0"
    ],
    "vcpuNum": 0
   },
   {
    "_defaultOrder": 21,
    "_isFastLaunch": true,
    "category": "Compute optimized",
    "gpuNum": 0,
    "hideHardwareSpecs": false,
    "memoryGiB": 4,
    "name": "ml.c5.large",
    "vcpuNum": 2
   },
   {
    "_defaultOrder": 22,
    "_isFastLaunch": false,
    "category": "Compute optimized",
    "gpuNum": 0,
    "hideHardwareSpecs": false,
    "memoryGiB": 8,
    "name": "ml.c5.xlarge",
    "vcpuNum": 4
   },
   {
    "_defaultOrder": 23,
    "_isFastLaunch": false,
    "category": "Compute optimized",
    "gpuNum": 0,
    "hideHardwareSpecs": false,
    "memoryGiB": 16,
    "name": "ml.c5.2xlarge",
    "vcpuNum": 8
   },
   {
    "_defaultOrder": 24,
    "_isFastLaunch": false,
    "category": "Compute optimized",
    "gpuNum": 0,
    "hideHardwareSpecs": false,
    "memoryGiB": 32,
    "name": "ml.c5.4xlarge",
    "vcpuNum": 16
   },
   {
    "_defaultOrder": 25,
    "_isFastLaunch": false,
    "category": "Compute optimized",
    "gpuNum": 0,
    "hideHardwareSpecs": false,
    "memoryGiB": 72,
    "name": "ml.c5.9xlarge",
    "vcpuNum": 36
   },
   {
    "_defaultOrder": 26,
    "_isFastLaunch": false,
    "category": "Compute optimized",
    "gpuNum": 0,
    "hideHardwareSpecs": false,
    "memoryGiB": 96,
    "name": "ml.c5.12xlarge",
    "vcpuNum": 48
   },
   {
    "_defaultOrder": 27,
    "_isFastLaunch": false,
    "category": "Compute optimized",
    "gpuNum": 0,
    "hideHardwareSpecs": false,
    "memoryGiB": 144,
    "name": "ml.c5.18xlarge",
    "vcpuNum": 72
   },
   {
    "_defaultOrder": 28,
    "_isFastLaunch": false,
    "category": "Compute optimized",
    "gpuNum": 0,
    "hideHardwareSpecs": false,
    "memoryGiB": 192,
    "name": "ml.c5.24xlarge",
    "vcpuNum": 96
   },
   {
    "_defaultOrder": 29,
    "_isFastLaunch": true,
    "category": "Accelerated computing",
    "gpuNum": 1,
    "hideHardwareSpecs": false,
    "memoryGiB": 16,
    "name": "ml.g4dn.xlarge",
    "vcpuNum": 4
   },
   {
    "_defaultOrder": 30,
    "_isFastLaunch": false,
    "category": "Accelerated computing",
    "gpuNum": 1,
    "hideHardwareSpecs": false,
    "memoryGiB": 32,
    "name": "ml.g4dn.2xlarge",
    "vcpuNum": 8
   },
   {
    "_defaultOrder": 31,
    "_isFastLaunch": false,
    "category": "Accelerated computing",
    "gpuNum": 1,
    "hideHardwareSpecs": false,
    "memoryGiB": 64,
    "name": "ml.g4dn.4xlarge",
    "vcpuNum": 16
   },
   {
    "_defaultOrder": 32,
    "_isFastLaunch": false,
    "category": "Accelerated computing",
    "gpuNum": 1,
    "hideHardwareSpecs": false,
    "memoryGiB": 128,
    "name": "ml.g4dn.8xlarge",
    "vcpuNum": 32
   },
   {
    "_defaultOrder": 33,
    "_isFastLaunch": false,
    "category": "Accelerated computing",
    "gpuNum": 4,
    "hideHardwareSpecs": false,
    "memoryGiB": 192,
    "name": "ml.g4dn.12xlarge",
    "vcpuNum": 48
   },
   {
    "_defaultOrder": 34,
    "_isFastLaunch": false,
    "category": "Accelerated computing",
    "gpuNum": 1,
    "hideHardwareSpecs": false,
    "memoryGiB": 256,
    "name": "ml.g4dn.16xlarge",
    "vcpuNum": 64
   },
   {
    "_defaultOrder": 35,
    "_isFastLaunch": false,
    "category": "Accelerated computing",
    "gpuNum": 1,
    "hideHardwareSpecs": false,
    "memoryGiB": 61,
    "name": "ml.p3.2xlarge",
    "vcpuNum": 8
   },
   {
    "_defaultOrder": 36,
    "_isFastLaunch": false,
    "category": "Accelerated computing",
    "gpuNum": 4,
    "hideHardwareSpecs": false,
    "memoryGiB": 244,
    "name": "ml.p3.8xlarge",
    "vcpuNum": 32
   },
   {
    "_defaultOrder": 37,
    "_isFastLaunch": false,
    "category": "Accelerated computing",
    "gpuNum": 8,
    "hideHardwareSpecs": false,
    "memoryGiB": 488,
    "name": "ml.p3.16xlarge",
    "vcpuNum": 64
   },
   {
    "_defaultOrder": 38,
    "_isFastLaunch": false,
    "category": "Accelerated computing",
    "gpuNum": 8,
    "hideHardwareSpecs": false,
    "memoryGiB": 768,
    "name": "ml.p3dn.24xlarge",
    "vcpuNum": 96
   },
   {
    "_defaultOrder": 39,
    "_isFastLaunch": false,
    "category": "Memory Optimized",
    "gpuNum": 0,
    "hideHardwareSpecs": false,
    "memoryGiB": 16,
    "name": "ml.r5.large",
    "vcpuNum": 2
   },
   {
    "_defaultOrder": 40,
    "_isFastLaunch": false,
    "category": "Memory Optimized",
    "gpuNum": 0,
    "hideHardwareSpecs": false,
    "memoryGiB": 32,
    "name": "ml.r5.xlarge",
    "vcpuNum": 4
   },
   {
    "_defaultOrder": 41,
    "_isFastLaunch": false,
    "category": "Memory Optimized",
    "gpuNum": 0,
    "hideHardwareSpecs": false,
    "memoryGiB": 64,
    "name": "ml.r5.2xlarge",
    "vcpuNum": 8
   },
   {
    "_defaultOrder": 42,
    "_isFastLaunch": false,
    "category": "Memory Optimized",
    "gpuNum": 0,
    "hideHardwareSpecs": false,
    "memoryGiB": 128,
    "name": "ml.r5.4xlarge",
    "vcpuNum": 16
   },
   {
    "_defaultOrder": 43,
    "_isFastLaunch": false,
    "category": "Memory Optimized",
    "gpuNum": 0,
    "hideHardwareSpecs": false,
    "memoryGiB": 256,
    "name": "ml.r5.8xlarge",
    "vcpuNum": 32
   },
   {
    "_defaultOrder": 44,
    "_isFastLaunch": false,
    "category": "Memory Optimized",
    "gpuNum": 0,
    "hideHardwareSpecs": false,
    "memoryGiB": 384,
    "name": "ml.r5.12xlarge",
    "vcpuNum": 48
   },
   {
    "_defaultOrder": 45,
    "_isFastLaunch": false,
    "category": "Memory Optimized",
    "gpuNum": 0,
    "hideHardwareSpecs": false,
    "memoryGiB": 512,
    "name": "ml.r5.16xlarge",
    "vcpuNum": 64
   },
   {
    "_defaultOrder": 46,
    "_isFastLaunch": false,
    "category": "Memory Optimized",
    "gpuNum": 0,
    "hideHardwareSpecs": false,
    "memoryGiB": 768,
    "name": "ml.r5.24xlarge",
    "vcpuNum": 96
   },
   {
    "_defaultOrder": 47,
    "_isFastLaunch": false,
    "category": "Accelerated computing",
    "gpuNum": 1,
    "hideHardwareSpecs": false,
    "memoryGiB": 16,
    "name": "ml.g5.xlarge",
    "vcpuNum": 4
   },
   {
    "_defaultOrder": 48,
    "_isFastLaunch": false,
    "category": "Accelerated computing",
    "gpuNum": 1,
    "hideHardwareSpecs": false,
    "memoryGiB": 32,
    "name": "ml.g5.2xlarge",
    "vcpuNum": 8
   },
   {
    "_defaultOrder": 49,
    "_isFastLaunch": false,
    "category": "Accelerated computing",
    "gpuNum": 1,
    "hideHardwareSpecs": false,
    "memoryGiB": 64,
    "name": "ml.g5.4xlarge",
    "vcpuNum": 16
   },
   {
    "_defaultOrder": 50,
    "_isFastLaunch": false,
    "category": "Accelerated computing",
    "gpuNum": 1,
    "hideHardwareSpecs": false,
    "memoryGiB": 128,
    "name": "ml.g5.8xlarge",
    "vcpuNum": 32
   },
   {
    "_defaultOrder": 51,
    "_isFastLaunch": false,
    "category": "Accelerated computing",
    "gpuNum": 1,
    "hideHardwareSpecs": false,
    "memoryGiB": 256,
    "name": "ml.g5.16xlarge",
    "vcpuNum": 64
   },
   {
    "_defaultOrder": 52,
    "_isFastLaunch": false,
    "category": "Accelerated computing",
    "gpuNum": 4,
    "hideHardwareSpecs": false,
    "memoryGiB": 192,
    "name": "ml.g5.12xlarge",
    "vcpuNum": 48
   },
   {
    "_defaultOrder": 53,
    "_isFastLaunch": false,
    "category": "Accelerated computing",
    "gpuNum": 4,
    "hideHardwareSpecs": false,
    "memoryGiB": 384,
    "name": "ml.g5.24xlarge",
    "vcpuNum": 96
   },
   {
    "_defaultOrder": 54,
    "_isFastLaunch": false,
    "category": "Accelerated computing",
    "gpuNum": 8,
    "hideHardwareSpecs": false,
    "memoryGiB": 768,
    "name": "ml.g5.48xlarge",
    "vcpuNum": 192
   },
   {
    "_defaultOrder": 55,
    "_isFastLaunch": false,
    "category": "Accelerated computing",
    "gpuNum": 8,
    "hideHardwareSpecs": false,
    "memoryGiB": 1152,
    "name": "ml.p4d.24xlarge",
    "vcpuNum": 96
   },
   {
    "_defaultOrder": 56,
    "_isFastLaunch": false,
    "category": "Accelerated computing",
    "gpuNum": 8,
    "hideHardwareSpecs": false,
    "memoryGiB": 1152,
    "name": "ml.p4de.24xlarge",
    "vcpuNum": 96
   },
   {
    "_defaultOrder": 57,
    "_isFastLaunch": false,
    "category": "Accelerated computing",
    "gpuNum": 0,
    "hideHardwareSpecs": false,
    "memoryGiB": 32,
    "name": "ml.trn1.2xlarge",
    "vcpuNum": 8
   },
   {
    "_defaultOrder": 58,
    "_isFastLaunch": false,
    "category": "Accelerated computing",
    "gpuNum": 0,
    "hideHardwareSpecs": false,
    "memoryGiB": 512,
    "name": "ml.trn1.32xlarge",
    "vcpuNum": 128
   },
   {
    "_defaultOrder": 59,
    "_isFastLaunch": false,
    "category": "Accelerated computing",
    "gpuNum": 0,
    "hideHardwareSpecs": false,
    "memoryGiB": 512,
    "name": "ml.trn1n.32xlarge",
    "vcpuNum": 128
   }
  ],
  "instance_type": "ml.t3.medium",
  "kernelspec": {
   "display_name": "Python 3 (Data Science 3.0)",
   "language": "python",
   "name": "python3__SAGEMAKER_INTERNAL__arn:aws:sagemaker:us-east-1:081325390199:image/sagemaker-data-science-310-v1"
  },
  "language_info": {
   "codemirror_mode": {
    "name": "ipython",
    "version": 3
   },
   "file_extension": ".py",
   "mimetype": "text/x-python",
   "name": "python",
   "nbconvert_exporter": "python",
   "pygments_lexer": "ipython3",
   "version": "3.10.6"
  }
 },
 "nbformat": 4,
 "nbformat_minor": 5
}
